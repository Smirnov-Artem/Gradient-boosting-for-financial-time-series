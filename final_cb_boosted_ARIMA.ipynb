{
 "cells": [
  {
   "cell_type": "code",
   "execution_count": 28,
   "metadata": {},
   "outputs": [],
   "source": [
    "import pmdarima as pm\n",
    "import pandas as pd\n",
    "import numpy as np\n",
    "from pandas import datetime\n",
    "from math import sqrt\n",
    "\n",
    "import yfinance as yf\n",
    "from skforecast.ForecasterAutoreg import ForecasterAutoreg\n",
    "from skforecast.ForecasterAutoregMultiOutput import ForecasterAutoregMultiOutput\n",
    "from catboost import CatBoostRegressor\n",
    "from skforecast.model_selection import grid_search_forecaster\n",
    "from skforecast.model_selection import backtesting_forecaster\n",
    "import os\n",
    "from joblib import dump, load\n",
    "\n",
    "from sklearn.metrics import r2_score\n",
    "from sklearn.metrics import mean_absolute_percentage_error\n",
    "from sklearn.metrics import mean_squared_error\n",
    "from sklearn.metrics import mean_absolute_error\n",
    "import math\n",
    "\n",
    "import seaborn as sns\n",
    "import matplotlib.pyplot as plt\n",
    "import plotly.express as px\n",
    "from matplotlib import pyplot\n",
    "import seaborn as sns"
   ]
  },
  {
   "cell_type": "code",
   "execution_count": 29,
   "metadata": {},
   "outputs": [
    {
     "name": "stdout",
     "output_type": "stream",
     "text": [
      "[*********************100%***********************]  1 of 1 completed\n"
     ]
    }
   ],
   "source": [
    "tickers=['BRK-A']\n",
    "\n",
    "df = yf.download(tickers=tickers,start=\"2010-05-04\", end = \"2022-05-10\", interval='1d')"
   ]
  },
  {
   "cell_type": "code",
   "execution_count": 30,
   "metadata": {},
   "outputs": [],
   "source": [
    "for i in range(0,len(df.columns)):\n",
    "    if (df == 0).any()[i]==True:\n",
    "        df = df.drop(df.columns[i], axis=1)\n",
    "df_x=df.iloc[:, 0:len(df.columns)].dropna()\n",
    "i=len(df_x)\n",
    "\n",
    "while i>0:\n",
    "    df_x.iloc[i-1]=df_x.iloc[i-2]\n",
    "    i=i-1\n",
    "df_total=df_x\n",
    "df_total=df_total.dropna()\n",
    "l=20\n",
    "train=df_total[:-l]\n",
    "test=df_total[len(train):]"
   ]
  },
  {
   "cell_type": "code",
   "execution_count": 31,
   "metadata": {},
   "outputs": [],
   "source": [
    "from pmdarima import auto_arima\n",
    "import pmdarima as pm"
   ]
  },
  {
   "cell_type": "code",
   "execution_count": 32,
   "metadata": {},
   "outputs": [
    {
     "name": "stdout",
     "output_type": "stream",
     "text": [
      "Performing stepwise search to minimize aic\n",
      " ARIMA(2,2,2)(0,0,0)[0]             : AIC=inf, Time=1.44 sec\n",
      " ARIMA(0,2,0)(0,0,0)[0]             : AIC=62502.253, Time=0.04 sec\n",
      " ARIMA(1,2,0)(0,0,0)[0]             : AIC=59349.677, Time=0.10 sec\n",
      " ARIMA(0,2,1)(0,0,0)[0]             : AIC=inf, Time=0.30 sec\n",
      " ARIMA(2,2,0)(0,0,0)[0]             : AIC=58186.355, Time=0.15 sec\n",
      " ARIMA(3,2,0)(0,0,0)[0]             : AIC=57721.456, Time=0.29 sec\n",
      " ARIMA(4,2,0)(0,0,0)[0]             : AIC=57527.372, Time=0.36 sec\n",
      " ARIMA(5,2,0)(0,0,0)[0]             : AIC=57381.434, Time=0.56 sec\n",
      " ARIMA(5,2,1)(0,0,0)[0]             : AIC=inf, Time=2.36 sec\n",
      " ARIMA(4,2,1)(0,0,0)[0]             : AIC=inf, Time=2.86 sec\n",
      " ARIMA(5,2,0)(0,0,0)[0] intercept   : AIC=57383.426, Time=1.06 sec\n",
      "\n",
      "Best model:  ARIMA(5,2,0)(0,0,0)[0]          \n",
      "Total fit time: 9.542 seconds\n"
     ]
    }
   ],
   "source": [
    "# Fit a simple auto_arima model\n",
    "arima = pm.auto_arima(train['Close'],\n",
    "                      seasonal=True,\n",
    "                      stationary=False,\n",
    "                      trace=True,\n",
    "                      )\n",
    "pmd_predictions = arima.predict(n_periods=len(test['Close'][-l:]))\n",
    "arima_mae = np.mean(np.abs(test['Close'][-l:] - pmd_predictions))\n",
    "arima_rmse = (np.mean((test['Close'][-l:] - pmd_predictions)**2))**.5\n",
    "arima_mape = np.sum(np.abs(pmd_predictions - test['Close'][-l:])) / (np.sum((np.abs(test['Close'][-l:]))))"
   ]
  },
  {
   "cell_type": "code",
   "execution_count": 33,
   "metadata": {},
   "outputs": [],
   "source": [
    "pmd_predictions=pd.DataFrame(pmd_predictions)"
   ]
  },
  {
   "cell_type": "code",
   "execution_count": 34,
   "metadata": {},
   "outputs": [],
   "source": [
    "predictions = pmd_predictions.set_index((pd.DataFrame(test['Close']).index))\n",
    "result = pd.concat([predictions, pd.DataFrame(pd.DataFrame(test['Close']))], axis=1)\n",
    "result.rename(columns = {0:'pred', 'Close':'y'}, inplace = True)"
   ]
  },
  {
   "cell_type": "code",
   "execution_count": 35,
   "metadata": {},
   "outputs": [
    {
     "data": {
      "application/vnd.plotly.v1+json": {
       "config": {
        "plotlyServerURL": "https://plot.ly"
       },
       "data": [
        {
         "hovertemplate": "variable=pred<br>Date=%{x}<br>value=%{y}<extra></extra>",
         "legendgroup": "pred",
         "line": {
          "color": "#636efa",
          "dash": "solid"
         },
         "marker": {
          "symbol": "circle"
         },
         "mode": "lines",
         "name": "pred",
         "orientation": "v",
         "showlegend": true,
         "type": "scatter",
         "x": [
          "2022-04-11T00:00:00",
          "2022-04-12T00:00:00",
          "2022-04-13T00:00:00",
          "2022-04-14T00:00:00",
          "2022-04-18T00:00:00",
          "2022-04-19T00:00:00",
          "2022-04-20T00:00:00",
          "2022-04-21T00:00:00",
          "2022-04-22T00:00:00",
          "2022-04-25T00:00:00",
          "2022-04-26T00:00:00",
          "2022-04-27T00:00:00",
          "2022-04-28T00:00:00",
          "2022-04-29T00:00:00",
          "2022-05-02T00:00:00",
          "2022-05-03T00:00:00",
          "2022-05-04T00:00:00",
          "2022-05-05T00:00:00",
          "2022-05-06T00:00:00",
          "2022-05-09T00:00:00"
         ],
         "xaxis": "x",
         "y": [
          518226.7289386684,
          517106.2971814492,
          516147.0311710901,
          515678.1371825616,
          515295.65154333843,
          514787.30559613666,
          514103.88796743174,
          513481.4040193391,
          512893.53191698575,
          512323.9698764414,
          511744.85634277464,
          511153.5877360937,
          510559.1056429076,
          509970.4034872527,
          509383.56360474124,
          508796.4218082787,
          508208.1288754838,
          507619.3837058546,
          507030.8853660689,
          506442.73732766556
         ],
         "yaxis": "y"
        },
        {
         "hovertemplate": "variable=y<br>Date=%{x}<br>value=%{y}<extra></extra>",
         "legendgroup": "y",
         "line": {
          "color": "#EF553B",
          "dash": "solid"
         },
         "marker": {
          "symbol": "circle"
         },
         "mode": "lines",
         "name": "y",
         "orientation": "v",
         "showlegend": true,
         "type": "scatter",
         "x": [
          "2022-04-11T00:00:00",
          "2022-04-12T00:00:00",
          "2022-04-13T00:00:00",
          "2022-04-14T00:00:00",
          "2022-04-18T00:00:00",
          "2022-04-19T00:00:00",
          "2022-04-20T00:00:00",
          "2022-04-21T00:00:00",
          "2022-04-22T00:00:00",
          "2022-04-25T00:00:00",
          "2022-04-26T00:00:00",
          "2022-04-27T00:00:00",
          "2022-04-28T00:00:00",
          "2022-04-29T00:00:00",
          "2022-05-02T00:00:00",
          "2022-05-03T00:00:00",
          "2022-05-04T00:00:00",
          "2022-05-05T00:00:00",
          "2022-05-06T00:00:00",
          "2022-05-09T00:00:00"
         ],
         "xaxis": "x",
         "y": [
          529000,
          527590,
          524271,
          519800,
          516435,
          519499,
          523260,
          522901,
          515815,
          505440,
          506200,
          497777,
          496800,
          499000,
          484340,
          478150,
          481198,
          494343,
          481400,
          479500
         ],
         "yaxis": "y"
        }
       ],
       "layout": {
        "legend": {
         "title": {
          "text": "variable"
         },
         "tracegroupgap": 0
        },
        "margin": {
         "t": 60
        },
        "template": {
         "data": {
          "bar": [
           {
            "error_x": {
             "color": "#2a3f5f"
            },
            "error_y": {
             "color": "#2a3f5f"
            },
            "marker": {
             "line": {
              "color": "#E5ECF6",
              "width": 0.5
             },
             "pattern": {
              "fillmode": "overlay",
              "size": 10,
              "solidity": 0.2
             }
            },
            "type": "bar"
           }
          ],
          "barpolar": [
           {
            "marker": {
             "line": {
              "color": "#E5ECF6",
              "width": 0.5
             },
             "pattern": {
              "fillmode": "overlay",
              "size": 10,
              "solidity": 0.2
             }
            },
            "type": "barpolar"
           }
          ],
          "carpet": [
           {
            "aaxis": {
             "endlinecolor": "#2a3f5f",
             "gridcolor": "white",
             "linecolor": "white",
             "minorgridcolor": "white",
             "startlinecolor": "#2a3f5f"
            },
            "baxis": {
             "endlinecolor": "#2a3f5f",
             "gridcolor": "white",
             "linecolor": "white",
             "minorgridcolor": "white",
             "startlinecolor": "#2a3f5f"
            },
            "type": "carpet"
           }
          ],
          "choropleth": [
           {
            "colorbar": {
             "outlinewidth": 0,
             "ticks": ""
            },
            "type": "choropleth"
           }
          ],
          "contour": [
           {
            "colorbar": {
             "outlinewidth": 0,
             "ticks": ""
            },
            "colorscale": [
             [
              0,
              "#0d0887"
             ],
             [
              0.1111111111111111,
              "#46039f"
             ],
             [
              0.2222222222222222,
              "#7201a8"
             ],
             [
              0.3333333333333333,
              "#9c179e"
             ],
             [
              0.4444444444444444,
              "#bd3786"
             ],
             [
              0.5555555555555556,
              "#d8576b"
             ],
             [
              0.6666666666666666,
              "#ed7953"
             ],
             [
              0.7777777777777778,
              "#fb9f3a"
             ],
             [
              0.8888888888888888,
              "#fdca26"
             ],
             [
              1,
              "#f0f921"
             ]
            ],
            "type": "contour"
           }
          ],
          "contourcarpet": [
           {
            "colorbar": {
             "outlinewidth": 0,
             "ticks": ""
            },
            "type": "contourcarpet"
           }
          ],
          "heatmap": [
           {
            "colorbar": {
             "outlinewidth": 0,
             "ticks": ""
            },
            "colorscale": [
             [
              0,
              "#0d0887"
             ],
             [
              0.1111111111111111,
              "#46039f"
             ],
             [
              0.2222222222222222,
              "#7201a8"
             ],
             [
              0.3333333333333333,
              "#9c179e"
             ],
             [
              0.4444444444444444,
              "#bd3786"
             ],
             [
              0.5555555555555556,
              "#d8576b"
             ],
             [
              0.6666666666666666,
              "#ed7953"
             ],
             [
              0.7777777777777778,
              "#fb9f3a"
             ],
             [
              0.8888888888888888,
              "#fdca26"
             ],
             [
              1,
              "#f0f921"
             ]
            ],
            "type": "heatmap"
           }
          ],
          "heatmapgl": [
           {
            "colorbar": {
             "outlinewidth": 0,
             "ticks": ""
            },
            "colorscale": [
             [
              0,
              "#0d0887"
             ],
             [
              0.1111111111111111,
              "#46039f"
             ],
             [
              0.2222222222222222,
              "#7201a8"
             ],
             [
              0.3333333333333333,
              "#9c179e"
             ],
             [
              0.4444444444444444,
              "#bd3786"
             ],
             [
              0.5555555555555556,
              "#d8576b"
             ],
             [
              0.6666666666666666,
              "#ed7953"
             ],
             [
              0.7777777777777778,
              "#fb9f3a"
             ],
             [
              0.8888888888888888,
              "#fdca26"
             ],
             [
              1,
              "#f0f921"
             ]
            ],
            "type": "heatmapgl"
           }
          ],
          "histogram": [
           {
            "marker": {
             "pattern": {
              "fillmode": "overlay",
              "size": 10,
              "solidity": 0.2
             }
            },
            "type": "histogram"
           }
          ],
          "histogram2d": [
           {
            "colorbar": {
             "outlinewidth": 0,
             "ticks": ""
            },
            "colorscale": [
             [
              0,
              "#0d0887"
             ],
             [
              0.1111111111111111,
              "#46039f"
             ],
             [
              0.2222222222222222,
              "#7201a8"
             ],
             [
              0.3333333333333333,
              "#9c179e"
             ],
             [
              0.4444444444444444,
              "#bd3786"
             ],
             [
              0.5555555555555556,
              "#d8576b"
             ],
             [
              0.6666666666666666,
              "#ed7953"
             ],
             [
              0.7777777777777778,
              "#fb9f3a"
             ],
             [
              0.8888888888888888,
              "#fdca26"
             ],
             [
              1,
              "#f0f921"
             ]
            ],
            "type": "histogram2d"
           }
          ],
          "histogram2dcontour": [
           {
            "colorbar": {
             "outlinewidth": 0,
             "ticks": ""
            },
            "colorscale": [
             [
              0,
              "#0d0887"
             ],
             [
              0.1111111111111111,
              "#46039f"
             ],
             [
              0.2222222222222222,
              "#7201a8"
             ],
             [
              0.3333333333333333,
              "#9c179e"
             ],
             [
              0.4444444444444444,
              "#bd3786"
             ],
             [
              0.5555555555555556,
              "#d8576b"
             ],
             [
              0.6666666666666666,
              "#ed7953"
             ],
             [
              0.7777777777777778,
              "#fb9f3a"
             ],
             [
              0.8888888888888888,
              "#fdca26"
             ],
             [
              1,
              "#f0f921"
             ]
            ],
            "type": "histogram2dcontour"
           }
          ],
          "mesh3d": [
           {
            "colorbar": {
             "outlinewidth": 0,
             "ticks": ""
            },
            "type": "mesh3d"
           }
          ],
          "parcoords": [
           {
            "line": {
             "colorbar": {
              "outlinewidth": 0,
              "ticks": ""
             }
            },
            "type": "parcoords"
           }
          ],
          "pie": [
           {
            "automargin": true,
            "type": "pie"
           }
          ],
          "scatter": [
           {
            "fillpattern": {
             "fillmode": "overlay",
             "size": 10,
             "solidity": 0.2
            },
            "type": "scatter"
           }
          ],
          "scatter3d": [
           {
            "line": {
             "colorbar": {
              "outlinewidth": 0,
              "ticks": ""
             }
            },
            "marker": {
             "colorbar": {
              "outlinewidth": 0,
              "ticks": ""
             }
            },
            "type": "scatter3d"
           }
          ],
          "scattercarpet": [
           {
            "marker": {
             "colorbar": {
              "outlinewidth": 0,
              "ticks": ""
             }
            },
            "type": "scattercarpet"
           }
          ],
          "scattergeo": [
           {
            "marker": {
             "colorbar": {
              "outlinewidth": 0,
              "ticks": ""
             }
            },
            "type": "scattergeo"
           }
          ],
          "scattergl": [
           {
            "marker": {
             "colorbar": {
              "outlinewidth": 0,
              "ticks": ""
             }
            },
            "type": "scattergl"
           }
          ],
          "scattermapbox": [
           {
            "marker": {
             "colorbar": {
              "outlinewidth": 0,
              "ticks": ""
             }
            },
            "type": "scattermapbox"
           }
          ],
          "scatterpolar": [
           {
            "marker": {
             "colorbar": {
              "outlinewidth": 0,
              "ticks": ""
             }
            },
            "type": "scatterpolar"
           }
          ],
          "scatterpolargl": [
           {
            "marker": {
             "colorbar": {
              "outlinewidth": 0,
              "ticks": ""
             }
            },
            "type": "scatterpolargl"
           }
          ],
          "scatterternary": [
           {
            "marker": {
             "colorbar": {
              "outlinewidth": 0,
              "ticks": ""
             }
            },
            "type": "scatterternary"
           }
          ],
          "surface": [
           {
            "colorbar": {
             "outlinewidth": 0,
             "ticks": ""
            },
            "colorscale": [
             [
              0,
              "#0d0887"
             ],
             [
              0.1111111111111111,
              "#46039f"
             ],
             [
              0.2222222222222222,
              "#7201a8"
             ],
             [
              0.3333333333333333,
              "#9c179e"
             ],
             [
              0.4444444444444444,
              "#bd3786"
             ],
             [
              0.5555555555555556,
              "#d8576b"
             ],
             [
              0.6666666666666666,
              "#ed7953"
             ],
             [
              0.7777777777777778,
              "#fb9f3a"
             ],
             [
              0.8888888888888888,
              "#fdca26"
             ],
             [
              1,
              "#f0f921"
             ]
            ],
            "type": "surface"
           }
          ],
          "table": [
           {
            "cells": {
             "fill": {
              "color": "#EBF0F8"
             },
             "line": {
              "color": "white"
             }
            },
            "header": {
             "fill": {
              "color": "#C8D4E3"
             },
             "line": {
              "color": "white"
             }
            },
            "type": "table"
           }
          ]
         },
         "layout": {
          "annotationdefaults": {
           "arrowcolor": "#2a3f5f",
           "arrowhead": 0,
           "arrowwidth": 1
          },
          "autotypenumbers": "strict",
          "coloraxis": {
           "colorbar": {
            "outlinewidth": 0,
            "ticks": ""
           }
          },
          "colorscale": {
           "diverging": [
            [
             0,
             "#8e0152"
            ],
            [
             0.1,
             "#c51b7d"
            ],
            [
             0.2,
             "#de77ae"
            ],
            [
             0.3,
             "#f1b6da"
            ],
            [
             0.4,
             "#fde0ef"
            ],
            [
             0.5,
             "#f7f7f7"
            ],
            [
             0.6,
             "#e6f5d0"
            ],
            [
             0.7,
             "#b8e186"
            ],
            [
             0.8,
             "#7fbc41"
            ],
            [
             0.9,
             "#4d9221"
            ],
            [
             1,
             "#276419"
            ]
           ],
           "sequential": [
            [
             0,
             "#0d0887"
            ],
            [
             0.1111111111111111,
             "#46039f"
            ],
            [
             0.2222222222222222,
             "#7201a8"
            ],
            [
             0.3333333333333333,
             "#9c179e"
            ],
            [
             0.4444444444444444,
             "#bd3786"
            ],
            [
             0.5555555555555556,
             "#d8576b"
            ],
            [
             0.6666666666666666,
             "#ed7953"
            ],
            [
             0.7777777777777778,
             "#fb9f3a"
            ],
            [
             0.8888888888888888,
             "#fdca26"
            ],
            [
             1,
             "#f0f921"
            ]
           ],
           "sequentialminus": [
            [
             0,
             "#0d0887"
            ],
            [
             0.1111111111111111,
             "#46039f"
            ],
            [
             0.2222222222222222,
             "#7201a8"
            ],
            [
             0.3333333333333333,
             "#9c179e"
            ],
            [
             0.4444444444444444,
             "#bd3786"
            ],
            [
             0.5555555555555556,
             "#d8576b"
            ],
            [
             0.6666666666666666,
             "#ed7953"
            ],
            [
             0.7777777777777778,
             "#fb9f3a"
            ],
            [
             0.8888888888888888,
             "#fdca26"
            ],
            [
             1,
             "#f0f921"
            ]
           ]
          },
          "colorway": [
           "#636efa",
           "#EF553B",
           "#00cc96",
           "#ab63fa",
           "#FFA15A",
           "#19d3f3",
           "#FF6692",
           "#B6E880",
           "#FF97FF",
           "#FECB52"
          ],
          "font": {
           "color": "#2a3f5f"
          },
          "geo": {
           "bgcolor": "white",
           "lakecolor": "white",
           "landcolor": "#E5ECF6",
           "showlakes": true,
           "showland": true,
           "subunitcolor": "white"
          },
          "hoverlabel": {
           "align": "left"
          },
          "hovermode": "closest",
          "mapbox": {
           "style": "light"
          },
          "paper_bgcolor": "white",
          "plot_bgcolor": "#E5ECF6",
          "polar": {
           "angularaxis": {
            "gridcolor": "white",
            "linecolor": "white",
            "ticks": ""
           },
           "bgcolor": "#E5ECF6",
           "radialaxis": {
            "gridcolor": "white",
            "linecolor": "white",
            "ticks": ""
           }
          },
          "scene": {
           "xaxis": {
            "backgroundcolor": "#E5ECF6",
            "gridcolor": "white",
            "gridwidth": 2,
            "linecolor": "white",
            "showbackground": true,
            "ticks": "",
            "zerolinecolor": "white"
           },
           "yaxis": {
            "backgroundcolor": "#E5ECF6",
            "gridcolor": "white",
            "gridwidth": 2,
            "linecolor": "white",
            "showbackground": true,
            "ticks": "",
            "zerolinecolor": "white"
           },
           "zaxis": {
            "backgroundcolor": "#E5ECF6",
            "gridcolor": "white",
            "gridwidth": 2,
            "linecolor": "white",
            "showbackground": true,
            "ticks": "",
            "zerolinecolor": "white"
           }
          },
          "shapedefaults": {
           "line": {
            "color": "#2a3f5f"
           }
          },
          "ternary": {
           "aaxis": {
            "gridcolor": "white",
            "linecolor": "white",
            "ticks": ""
           },
           "baxis": {
            "gridcolor": "white",
            "linecolor": "white",
            "ticks": ""
           },
           "bgcolor": "#E5ECF6",
           "caxis": {
            "gridcolor": "white",
            "linecolor": "white",
            "ticks": ""
           }
          },
          "title": {
           "x": 0.05
          },
          "xaxis": {
           "automargin": true,
           "gridcolor": "white",
           "linecolor": "white",
           "ticks": "",
           "title": {
            "standoff": 15
           },
           "zerolinecolor": "white",
           "zerolinewidth": 2
          },
          "yaxis": {
           "automargin": true,
           "gridcolor": "white",
           "linecolor": "white",
           "ticks": "",
           "title": {
            "standoff": 15
           },
           "zerolinecolor": "white",
           "zerolinewidth": 2
          }
         }
        },
        "xaxis": {
         "anchor": "y",
         "domain": [
          0,
          1
         ],
         "title": {
          "text": "Date"
         }
        },
        "yaxis": {
         "anchor": "x",
         "domain": [
          0,
          1
         ],
         "title": {
          "text": "value"
         }
        }
       }
      },
      "text/html": [
       "<div>                            <div id=\"3282b0e8-93c7-4f14-bdf2-76e7bd718ccd\" class=\"plotly-graph-div\" style=\"height:525px; width:100%;\"></div>            <script type=\"text/javascript\">                require([\"plotly\"], function(Plotly) {                    window.PLOTLYENV=window.PLOTLYENV || {};                                    if (document.getElementById(\"3282b0e8-93c7-4f14-bdf2-76e7bd718ccd\")) {                    Plotly.newPlot(                        \"3282b0e8-93c7-4f14-bdf2-76e7bd718ccd\",                        [{\"hovertemplate\":\"variable=pred<br>Date=%{x}<br>value=%{y}<extra></extra>\",\"legendgroup\":\"pred\",\"line\":{\"color\":\"#636efa\",\"dash\":\"solid\"},\"marker\":{\"symbol\":\"circle\"},\"mode\":\"lines\",\"name\":\"pred\",\"orientation\":\"v\",\"showlegend\":true,\"x\":[\"2022-04-11T00:00:00\",\"2022-04-12T00:00:00\",\"2022-04-13T00:00:00\",\"2022-04-14T00:00:00\",\"2022-04-18T00:00:00\",\"2022-04-19T00:00:00\",\"2022-04-20T00:00:00\",\"2022-04-21T00:00:00\",\"2022-04-22T00:00:00\",\"2022-04-25T00:00:00\",\"2022-04-26T00:00:00\",\"2022-04-27T00:00:00\",\"2022-04-28T00:00:00\",\"2022-04-29T00:00:00\",\"2022-05-02T00:00:00\",\"2022-05-03T00:00:00\",\"2022-05-04T00:00:00\",\"2022-05-05T00:00:00\",\"2022-05-06T00:00:00\",\"2022-05-09T00:00:00\"],\"xaxis\":\"x\",\"y\":[518226.7289386684,517106.2971814492,516147.0311710901,515678.1371825616,515295.65154333843,514787.30559613666,514103.88796743174,513481.4040193391,512893.53191698575,512323.9698764414,511744.85634277464,511153.5877360937,510559.1056429076,509970.4034872527,509383.56360474124,508796.4218082787,508208.1288754838,507619.3837058546,507030.8853660689,506442.73732766556],\"yaxis\":\"y\",\"type\":\"scatter\"},{\"hovertemplate\":\"variable=y<br>Date=%{x}<br>value=%{y}<extra></extra>\",\"legendgroup\":\"y\",\"line\":{\"color\":\"#EF553B\",\"dash\":\"solid\"},\"marker\":{\"symbol\":\"circle\"},\"mode\":\"lines\",\"name\":\"y\",\"orientation\":\"v\",\"showlegend\":true,\"x\":[\"2022-04-11T00:00:00\",\"2022-04-12T00:00:00\",\"2022-04-13T00:00:00\",\"2022-04-14T00:00:00\",\"2022-04-18T00:00:00\",\"2022-04-19T00:00:00\",\"2022-04-20T00:00:00\",\"2022-04-21T00:00:00\",\"2022-04-22T00:00:00\",\"2022-04-25T00:00:00\",\"2022-04-26T00:00:00\",\"2022-04-27T00:00:00\",\"2022-04-28T00:00:00\",\"2022-04-29T00:00:00\",\"2022-05-02T00:00:00\",\"2022-05-03T00:00:00\",\"2022-05-04T00:00:00\",\"2022-05-05T00:00:00\",\"2022-05-06T00:00:00\",\"2022-05-09T00:00:00\"],\"xaxis\":\"x\",\"y\":[529000.0,527590.0,524271.0,519800.0,516435.0,519499.0,523260.0,522901.0,515815.0,505440.0,506200.0,497777.0,496800.0,499000.0,484340.0,478150.0,481198.0,494343.0,481400.0,479500.0],\"yaxis\":\"y\",\"type\":\"scatter\"}],                        {\"template\":{\"data\":{\"histogram2dcontour\":[{\"type\":\"histogram2dcontour\",\"colorbar\":{\"outlinewidth\":0,\"ticks\":\"\"},\"colorscale\":[[0.0,\"#0d0887\"],[0.1111111111111111,\"#46039f\"],[0.2222222222222222,\"#7201a8\"],[0.3333333333333333,\"#9c179e\"],[0.4444444444444444,\"#bd3786\"],[0.5555555555555556,\"#d8576b\"],[0.6666666666666666,\"#ed7953\"],[0.7777777777777778,\"#fb9f3a\"],[0.8888888888888888,\"#fdca26\"],[1.0,\"#f0f921\"]]}],\"choropleth\":[{\"type\":\"choropleth\",\"colorbar\":{\"outlinewidth\":0,\"ticks\":\"\"}}],\"histogram2d\":[{\"type\":\"histogram2d\",\"colorbar\":{\"outlinewidth\":0,\"ticks\":\"\"},\"colorscale\":[[0.0,\"#0d0887\"],[0.1111111111111111,\"#46039f\"],[0.2222222222222222,\"#7201a8\"],[0.3333333333333333,\"#9c179e\"],[0.4444444444444444,\"#bd3786\"],[0.5555555555555556,\"#d8576b\"],[0.6666666666666666,\"#ed7953\"],[0.7777777777777778,\"#fb9f3a\"],[0.8888888888888888,\"#fdca26\"],[1.0,\"#f0f921\"]]}],\"heatmap\":[{\"type\":\"heatmap\",\"colorbar\":{\"outlinewidth\":0,\"ticks\":\"\"},\"colorscale\":[[0.0,\"#0d0887\"],[0.1111111111111111,\"#46039f\"],[0.2222222222222222,\"#7201a8\"],[0.3333333333333333,\"#9c179e\"],[0.4444444444444444,\"#bd3786\"],[0.5555555555555556,\"#d8576b\"],[0.6666666666666666,\"#ed7953\"],[0.7777777777777778,\"#fb9f3a\"],[0.8888888888888888,\"#fdca26\"],[1.0,\"#f0f921\"]]}],\"heatmapgl\":[{\"type\":\"heatmapgl\",\"colorbar\":{\"outlinewidth\":0,\"ticks\":\"\"},\"colorscale\":[[0.0,\"#0d0887\"],[0.1111111111111111,\"#46039f\"],[0.2222222222222222,\"#7201a8\"],[0.3333333333333333,\"#9c179e\"],[0.4444444444444444,\"#bd3786\"],[0.5555555555555556,\"#d8576b\"],[0.6666666666666666,\"#ed7953\"],[0.7777777777777778,\"#fb9f3a\"],[0.8888888888888888,\"#fdca26\"],[1.0,\"#f0f921\"]]}],\"contourcarpet\":[{\"type\":\"contourcarpet\",\"colorbar\":{\"outlinewidth\":0,\"ticks\":\"\"}}],\"contour\":[{\"type\":\"contour\",\"colorbar\":{\"outlinewidth\":0,\"ticks\":\"\"},\"colorscale\":[[0.0,\"#0d0887\"],[0.1111111111111111,\"#46039f\"],[0.2222222222222222,\"#7201a8\"],[0.3333333333333333,\"#9c179e\"],[0.4444444444444444,\"#bd3786\"],[0.5555555555555556,\"#d8576b\"],[0.6666666666666666,\"#ed7953\"],[0.7777777777777778,\"#fb9f3a\"],[0.8888888888888888,\"#fdca26\"],[1.0,\"#f0f921\"]]}],\"surface\":[{\"type\":\"surface\",\"colorbar\":{\"outlinewidth\":0,\"ticks\":\"\"},\"colorscale\":[[0.0,\"#0d0887\"],[0.1111111111111111,\"#46039f\"],[0.2222222222222222,\"#7201a8\"],[0.3333333333333333,\"#9c179e\"],[0.4444444444444444,\"#bd3786\"],[0.5555555555555556,\"#d8576b\"],[0.6666666666666666,\"#ed7953\"],[0.7777777777777778,\"#fb9f3a\"],[0.8888888888888888,\"#fdca26\"],[1.0,\"#f0f921\"]]}],\"mesh3d\":[{\"type\":\"mesh3d\",\"colorbar\":{\"outlinewidth\":0,\"ticks\":\"\"}}],\"scatter\":[{\"fillpattern\":{\"fillmode\":\"overlay\",\"size\":10,\"solidity\":0.2},\"type\":\"scatter\"}],\"parcoords\":[{\"type\":\"parcoords\",\"line\":{\"colorbar\":{\"outlinewidth\":0,\"ticks\":\"\"}}}],\"scatterpolargl\":[{\"type\":\"scatterpolargl\",\"marker\":{\"colorbar\":{\"outlinewidth\":0,\"ticks\":\"\"}}}],\"bar\":[{\"error_x\":{\"color\":\"#2a3f5f\"},\"error_y\":{\"color\":\"#2a3f5f\"},\"marker\":{\"line\":{\"color\":\"#E5ECF6\",\"width\":0.5},\"pattern\":{\"fillmode\":\"overlay\",\"size\":10,\"solidity\":0.2}},\"type\":\"bar\"}],\"scattergeo\":[{\"type\":\"scattergeo\",\"marker\":{\"colorbar\":{\"outlinewidth\":0,\"ticks\":\"\"}}}],\"scatterpolar\":[{\"type\":\"scatterpolar\",\"marker\":{\"colorbar\":{\"outlinewidth\":0,\"ticks\":\"\"}}}],\"histogram\":[{\"marker\":{\"pattern\":{\"fillmode\":\"overlay\",\"size\":10,\"solidity\":0.2}},\"type\":\"histogram\"}],\"scattergl\":[{\"type\":\"scattergl\",\"marker\":{\"colorbar\":{\"outlinewidth\":0,\"ticks\":\"\"}}}],\"scatter3d\":[{\"type\":\"scatter3d\",\"line\":{\"colorbar\":{\"outlinewidth\":0,\"ticks\":\"\"}},\"marker\":{\"colorbar\":{\"outlinewidth\":0,\"ticks\":\"\"}}}],\"scattermapbox\":[{\"type\":\"scattermapbox\",\"marker\":{\"colorbar\":{\"outlinewidth\":0,\"ticks\":\"\"}}}],\"scatterternary\":[{\"type\":\"scatterternary\",\"marker\":{\"colorbar\":{\"outlinewidth\":0,\"ticks\":\"\"}}}],\"scattercarpet\":[{\"type\":\"scattercarpet\",\"marker\":{\"colorbar\":{\"outlinewidth\":0,\"ticks\":\"\"}}}],\"carpet\":[{\"aaxis\":{\"endlinecolor\":\"#2a3f5f\",\"gridcolor\":\"white\",\"linecolor\":\"white\",\"minorgridcolor\":\"white\",\"startlinecolor\":\"#2a3f5f\"},\"baxis\":{\"endlinecolor\":\"#2a3f5f\",\"gridcolor\":\"white\",\"linecolor\":\"white\",\"minorgridcolor\":\"white\",\"startlinecolor\":\"#2a3f5f\"},\"type\":\"carpet\"}],\"table\":[{\"cells\":{\"fill\":{\"color\":\"#EBF0F8\"},\"line\":{\"color\":\"white\"}},\"header\":{\"fill\":{\"color\":\"#C8D4E3\"},\"line\":{\"color\":\"white\"}},\"type\":\"table\"}],\"barpolar\":[{\"marker\":{\"line\":{\"color\":\"#E5ECF6\",\"width\":0.5},\"pattern\":{\"fillmode\":\"overlay\",\"size\":10,\"solidity\":0.2}},\"type\":\"barpolar\"}],\"pie\":[{\"automargin\":true,\"type\":\"pie\"}]},\"layout\":{\"autotypenumbers\":\"strict\",\"colorway\":[\"#636efa\",\"#EF553B\",\"#00cc96\",\"#ab63fa\",\"#FFA15A\",\"#19d3f3\",\"#FF6692\",\"#B6E880\",\"#FF97FF\",\"#FECB52\"],\"font\":{\"color\":\"#2a3f5f\"},\"hovermode\":\"closest\",\"hoverlabel\":{\"align\":\"left\"},\"paper_bgcolor\":\"white\",\"plot_bgcolor\":\"#E5ECF6\",\"polar\":{\"bgcolor\":\"#E5ECF6\",\"angularaxis\":{\"gridcolor\":\"white\",\"linecolor\":\"white\",\"ticks\":\"\"},\"radialaxis\":{\"gridcolor\":\"white\",\"linecolor\":\"white\",\"ticks\":\"\"}},\"ternary\":{\"bgcolor\":\"#E5ECF6\",\"aaxis\":{\"gridcolor\":\"white\",\"linecolor\":\"white\",\"ticks\":\"\"},\"baxis\":{\"gridcolor\":\"white\",\"linecolor\":\"white\",\"ticks\":\"\"},\"caxis\":{\"gridcolor\":\"white\",\"linecolor\":\"white\",\"ticks\":\"\"}},\"coloraxis\":{\"colorbar\":{\"outlinewidth\":0,\"ticks\":\"\"}},\"colorscale\":{\"sequential\":[[0.0,\"#0d0887\"],[0.1111111111111111,\"#46039f\"],[0.2222222222222222,\"#7201a8\"],[0.3333333333333333,\"#9c179e\"],[0.4444444444444444,\"#bd3786\"],[0.5555555555555556,\"#d8576b\"],[0.6666666666666666,\"#ed7953\"],[0.7777777777777778,\"#fb9f3a\"],[0.8888888888888888,\"#fdca26\"],[1.0,\"#f0f921\"]],\"sequentialminus\":[[0.0,\"#0d0887\"],[0.1111111111111111,\"#46039f\"],[0.2222222222222222,\"#7201a8\"],[0.3333333333333333,\"#9c179e\"],[0.4444444444444444,\"#bd3786\"],[0.5555555555555556,\"#d8576b\"],[0.6666666666666666,\"#ed7953\"],[0.7777777777777778,\"#fb9f3a\"],[0.8888888888888888,\"#fdca26\"],[1.0,\"#f0f921\"]],\"diverging\":[[0,\"#8e0152\"],[0.1,\"#c51b7d\"],[0.2,\"#de77ae\"],[0.3,\"#f1b6da\"],[0.4,\"#fde0ef\"],[0.5,\"#f7f7f7\"],[0.6,\"#e6f5d0\"],[0.7,\"#b8e186\"],[0.8,\"#7fbc41\"],[0.9,\"#4d9221\"],[1,\"#276419\"]]},\"xaxis\":{\"gridcolor\":\"white\",\"linecolor\":\"white\",\"ticks\":\"\",\"title\":{\"standoff\":15},\"zerolinecolor\":\"white\",\"automargin\":true,\"zerolinewidth\":2},\"yaxis\":{\"gridcolor\":\"white\",\"linecolor\":\"white\",\"ticks\":\"\",\"title\":{\"standoff\":15},\"zerolinecolor\":\"white\",\"automargin\":true,\"zerolinewidth\":2},\"scene\":{\"xaxis\":{\"backgroundcolor\":\"#E5ECF6\",\"gridcolor\":\"white\",\"linecolor\":\"white\",\"showbackground\":true,\"ticks\":\"\",\"zerolinecolor\":\"white\",\"gridwidth\":2},\"yaxis\":{\"backgroundcolor\":\"#E5ECF6\",\"gridcolor\":\"white\",\"linecolor\":\"white\",\"showbackground\":true,\"ticks\":\"\",\"zerolinecolor\":\"white\",\"gridwidth\":2},\"zaxis\":{\"backgroundcolor\":\"#E5ECF6\",\"gridcolor\":\"white\",\"linecolor\":\"white\",\"showbackground\":true,\"ticks\":\"\",\"zerolinecolor\":\"white\",\"gridwidth\":2}},\"shapedefaults\":{\"line\":{\"color\":\"#2a3f5f\"}},\"annotationdefaults\":{\"arrowcolor\":\"#2a3f5f\",\"arrowhead\":0,\"arrowwidth\":1},\"geo\":{\"bgcolor\":\"white\",\"landcolor\":\"#E5ECF6\",\"subunitcolor\":\"white\",\"showland\":true,\"showlakes\":true,\"lakecolor\":\"white\"},\"title\":{\"x\":0.05},\"mapbox\":{\"style\":\"light\"}}},\"xaxis\":{\"anchor\":\"y\",\"domain\":[0.0,1.0],\"title\":{\"text\":\"Date\"}},\"yaxis\":{\"anchor\":\"x\",\"domain\":[0.0,1.0],\"title\":{\"text\":\"value\"}},\"legend\":{\"title\":{\"text\":\"variable\"},\"tracegroupgap\":0},\"margin\":{\"t\":60}},                        {\"responsive\": true}                    ).then(function(){\n",
       "                            \n",
       "var gd = document.getElementById('3282b0e8-93c7-4f14-bdf2-76e7bd718ccd');\n",
       "var x = new MutationObserver(function (mutations, observer) {{\n",
       "        var display = window.getComputedStyle(gd).display;\n",
       "        if (!display || display === 'none') {{\n",
       "            console.log([gd, 'removed!']);\n",
       "            Plotly.purge(gd);\n",
       "            observer.disconnect();\n",
       "        }}\n",
       "}});\n",
       "\n",
       "// Listen for the removal of the full notebook cells\n",
       "var notebookContainer = gd.closest('#notebook-container');\n",
       "if (notebookContainer) {{\n",
       "    x.observe(notebookContainer, {childList: true});\n",
       "}}\n",
       "\n",
       "// Listen for the clearing of the current output cell\n",
       "var outputEl = gd.closest('.output');\n",
       "if (outputEl) {{\n",
       "    x.observe(outputEl, {childList: true});\n",
       "}}\n",
       "\n",
       "                        })                };                });            </script>        </div>"
      ]
     },
     "metadata": {},
     "output_type": "display_data"
    }
   ],
   "source": [
    "fig = px.line(result, y=result.columns[0:2], x=result.index)\n",
    "fig.show()"
   ]
  },
  {
   "cell_type": "code",
   "execution_count": 36,
   "metadata": {},
   "outputs": [
    {
     "data": {
      "text/html": [
       "<div>\n",
       "<style scoped>\n",
       "    .dataframe tbody tr th:only-of-type {\n",
       "        vertical-align: middle;\n",
       "    }\n",
       "\n",
       "    .dataframe tbody tr th {\n",
       "        vertical-align: top;\n",
       "    }\n",
       "\n",
       "    .dataframe thead th {\n",
       "        text-align: right;\n",
       "    }\n",
       "</style>\n",
       "<table border=\"1\" class=\"dataframe\">\n",
       "  <thead>\n",
       "    <tr style=\"text-align: right;\">\n",
       "      <th></th>\n",
       "      <th>Results</th>\n",
       "    </tr>\n",
       "  </thead>\n",
       "  <tbody>\n",
       "    <tr>\n",
       "      <th>MSE</th>\n",
       "      <td>246766635.71</td>\n",
       "    </tr>\n",
       "    <tr>\n",
       "      <th>RMSE</th>\n",
       "      <td>15708.81</td>\n",
       "    </tr>\n",
       "    <tr>\n",
       "      <th>MAE</th>\n",
       "      <td>12996.80</td>\n",
       "    </tr>\n",
       "    <tr>\n",
       "      <th>MAPE</th>\n",
       "      <td>0.03</td>\n",
       "    </tr>\n",
       "    <tr>\n",
       "      <th>RSQUARED</th>\n",
       "      <td>0.17</td>\n",
       "    </tr>\n",
       "  </tbody>\n",
       "</table>\n",
       "</div>"
      ],
      "text/plain": [
       "               Results\n",
       "MSE       246766635.71\n",
       "RMSE          15708.81\n",
       "MAE           12996.80\n",
       "MAPE              0.03\n",
       "RSQUARED          0.17"
      ]
     },
     "execution_count": 36,
     "metadata": {},
     "output_type": "execute_result"
    }
   ],
   "source": [
    "MAE = mean_absolute_error(result['y'], result['pred'])\n",
    "RSQUARED = r2_score(result['y'], result['pred'])\n",
    "MAPE = mean_absolute_percentage_error(result['y'], result['pred'])\n",
    "MSE = mean_squared_error(result['y'], result['pred'])\n",
    "RMSE = math.sqrt(MSE)\n",
    "COLUMN_NAMES = [\"MSE\", \"RMSE\", \"MAE\", \"MAPE\", \"RSQUARED\"]\n",
    "values = np.array([f'{MSE:.2f}', f'{RMSE:.2f}', f'{MAE:.2f}', f'{MAPE:.2f}', f'{RSQUARED:.2f}'])\n",
    "\n",
    "df = pd.DataFrame(values, columns=['Results'], index=COLUMN_NAMES)\n",
    "df"
   ]
  },
  {
   "cell_type": "code",
   "execution_count": 37,
   "metadata": {},
   "outputs": [],
   "source": [
    "from ThymeBoost import ThymeBoost as tb"
   ]
  },
  {
   "cell_type": "code",
   "execution_count": 38,
   "metadata": {},
   "outputs": [
    {
     "name": "stdout",
     "output_type": "stream",
     "text": [
      "********** Round 1 **********\n",
      "Using Split: None\n",
      "Fitting initial trend globally with trend model:\n",
      "median()\n",
      "seasonal model:\n",
      "None\n",
      "cost: 9669082585.779182\n",
      "********** Round 2 **********\n",
      "Using Split: None\n",
      "Fitting global with trend model:\n",
      "arima((5, 2, 0))\n",
      "seasonal model:\n",
      "None\n",
      "cost: 113787711.60644749\n",
      "==============================\n",
      "Boosting Terminated \n",
      "Using round 2\n"
     ]
    }
   ],
   "source": [
    "#get the order\n",
    "auto_order = arima.get_params()['order']\n",
    "boosted_model = tb.ThymeBoost(verbose=1)\n",
    "output = boosted_model.fit(train['Close'],\n",
    "                            trend_estimator='arima',\n",
    "                            arima_order=auto_order,\n",
    "                            global_cost='mse')\n",
    "predicted_output = boosted_model.predict(output, len(test['Close']))\n",
    "tb_mae = np.mean(np.abs(test['Close'] - predicted_output['predictions']))\n",
    "tb_rmse = (np.mean((test['Close'] - predicted_output['predictions'])**2))**.5\n",
    "tb_mape = np.sum(np.abs(predicted_output['predictions'] - test['Close'])) / (np.sum((np.abs(test['Close']))))"
   ]
  },
  {
   "cell_type": "code",
   "execution_count": 39,
   "metadata": {},
   "outputs": [],
   "source": [
    "predictions=pd.DataFrame(predicted_output['predictions'])\n",
    "predictions = predictions.set_index((pd.DataFrame(test['Close']).index))\n",
    "result = pd.concat([predictions, pd.DataFrame(pd.DataFrame(test['Close']))], axis=1)\n",
    "result.rename(columns = {'predictions':'pred', 'Close':'y'}, inplace = True)"
   ]
  },
  {
   "cell_type": "code",
   "execution_count": 40,
   "metadata": {},
   "outputs": [
    {
     "data": {
      "application/vnd.plotly.v1+json": {
       "config": {
        "plotlyServerURL": "https://plot.ly"
       },
       "data": [
        {
         "hovertemplate": "variable=pred<br>Date=%{x}<br>value=%{y}<extra></extra>",
         "legendgroup": "pred",
         "line": {
          "color": "#636efa",
          "dash": "solid"
         },
         "marker": {
          "symbol": "circle"
         },
         "mode": "lines",
         "name": "pred",
         "orientation": "v",
         "showlegend": true,
         "type": "scatter",
         "x": [
          "2022-04-11T00:00:00",
          "2022-04-12T00:00:00",
          "2022-04-13T00:00:00",
          "2022-04-14T00:00:00",
          "2022-04-18T00:00:00",
          "2022-04-19T00:00:00",
          "2022-04-20T00:00:00",
          "2022-04-21T00:00:00",
          "2022-04-22T00:00:00",
          "2022-04-25T00:00:00",
          "2022-04-26T00:00:00",
          "2022-04-27T00:00:00",
          "2022-04-28T00:00:00",
          "2022-04-29T00:00:00",
          "2022-05-02T00:00:00",
          "2022-05-03T00:00:00",
          "2022-05-04T00:00:00",
          "2022-05-05T00:00:00",
          "2022-05-06T00:00:00",
          "2022-05-09T00:00:00"
         ],
         "xaxis": "x",
         "y": [
          515545.4222552287,
          514177.6463844461,
          513497.948060996,
          512812.228583985,
          511883.28531387105,
          510698.5337296449,
          509699.1382167254,
          508744.1347141161,
          507806.4136640461,
          506833.2739192992,
          505839.08248066937,
          504847.7618119679,
          503874.3725077371,
          502900.225759123,
          501922.84961809596,
          500942.2548952866,
          499961.9981161248,
          498983.3024867785,
          498005.3733180299,
          497026.7743109014
         ],
         "yaxis": "y"
        },
        {
         "hovertemplate": "variable=y<br>Date=%{x}<br>value=%{y}<extra></extra>",
         "legendgroup": "y",
         "line": {
          "color": "#EF553B",
          "dash": "solid"
         },
         "marker": {
          "symbol": "circle"
         },
         "mode": "lines",
         "name": "y",
         "orientation": "v",
         "showlegend": true,
         "type": "scatter",
         "x": [
          "2022-04-11T00:00:00",
          "2022-04-12T00:00:00",
          "2022-04-13T00:00:00",
          "2022-04-14T00:00:00",
          "2022-04-18T00:00:00",
          "2022-04-19T00:00:00",
          "2022-04-20T00:00:00",
          "2022-04-21T00:00:00",
          "2022-04-22T00:00:00",
          "2022-04-25T00:00:00",
          "2022-04-26T00:00:00",
          "2022-04-27T00:00:00",
          "2022-04-28T00:00:00",
          "2022-04-29T00:00:00",
          "2022-05-02T00:00:00",
          "2022-05-03T00:00:00",
          "2022-05-04T00:00:00",
          "2022-05-05T00:00:00",
          "2022-05-06T00:00:00",
          "2022-05-09T00:00:00"
         ],
         "xaxis": "x",
         "y": [
          529000,
          527590,
          524271,
          519800,
          516435,
          519499,
          523260,
          522901,
          515815,
          505440,
          506200,
          497777,
          496800,
          499000,
          484340,
          478150,
          481198,
          494343,
          481400,
          479500
         ],
         "yaxis": "y"
        }
       ],
       "layout": {
        "legend": {
         "title": {
          "text": "variable"
         },
         "tracegroupgap": 0
        },
        "margin": {
         "t": 60
        },
        "template": {
         "data": {
          "bar": [
           {
            "error_x": {
             "color": "#2a3f5f"
            },
            "error_y": {
             "color": "#2a3f5f"
            },
            "marker": {
             "line": {
              "color": "#E5ECF6",
              "width": 0.5
             },
             "pattern": {
              "fillmode": "overlay",
              "size": 10,
              "solidity": 0.2
             }
            },
            "type": "bar"
           }
          ],
          "barpolar": [
           {
            "marker": {
             "line": {
              "color": "#E5ECF6",
              "width": 0.5
             },
             "pattern": {
              "fillmode": "overlay",
              "size": 10,
              "solidity": 0.2
             }
            },
            "type": "barpolar"
           }
          ],
          "carpet": [
           {
            "aaxis": {
             "endlinecolor": "#2a3f5f",
             "gridcolor": "white",
             "linecolor": "white",
             "minorgridcolor": "white",
             "startlinecolor": "#2a3f5f"
            },
            "baxis": {
             "endlinecolor": "#2a3f5f",
             "gridcolor": "white",
             "linecolor": "white",
             "minorgridcolor": "white",
             "startlinecolor": "#2a3f5f"
            },
            "type": "carpet"
           }
          ],
          "choropleth": [
           {
            "colorbar": {
             "outlinewidth": 0,
             "ticks": ""
            },
            "type": "choropleth"
           }
          ],
          "contour": [
           {
            "colorbar": {
             "outlinewidth": 0,
             "ticks": ""
            },
            "colorscale": [
             [
              0,
              "#0d0887"
             ],
             [
              0.1111111111111111,
              "#46039f"
             ],
             [
              0.2222222222222222,
              "#7201a8"
             ],
             [
              0.3333333333333333,
              "#9c179e"
             ],
             [
              0.4444444444444444,
              "#bd3786"
             ],
             [
              0.5555555555555556,
              "#d8576b"
             ],
             [
              0.6666666666666666,
              "#ed7953"
             ],
             [
              0.7777777777777778,
              "#fb9f3a"
             ],
             [
              0.8888888888888888,
              "#fdca26"
             ],
             [
              1,
              "#f0f921"
             ]
            ],
            "type": "contour"
           }
          ],
          "contourcarpet": [
           {
            "colorbar": {
             "outlinewidth": 0,
             "ticks": ""
            },
            "type": "contourcarpet"
           }
          ],
          "heatmap": [
           {
            "colorbar": {
             "outlinewidth": 0,
             "ticks": ""
            },
            "colorscale": [
             [
              0,
              "#0d0887"
             ],
             [
              0.1111111111111111,
              "#46039f"
             ],
             [
              0.2222222222222222,
              "#7201a8"
             ],
             [
              0.3333333333333333,
              "#9c179e"
             ],
             [
              0.4444444444444444,
              "#bd3786"
             ],
             [
              0.5555555555555556,
              "#d8576b"
             ],
             [
              0.6666666666666666,
              "#ed7953"
             ],
             [
              0.7777777777777778,
              "#fb9f3a"
             ],
             [
              0.8888888888888888,
              "#fdca26"
             ],
             [
              1,
              "#f0f921"
             ]
            ],
            "type": "heatmap"
           }
          ],
          "heatmapgl": [
           {
            "colorbar": {
             "outlinewidth": 0,
             "ticks": ""
            },
            "colorscale": [
             [
              0,
              "#0d0887"
             ],
             [
              0.1111111111111111,
              "#46039f"
             ],
             [
              0.2222222222222222,
              "#7201a8"
             ],
             [
              0.3333333333333333,
              "#9c179e"
             ],
             [
              0.4444444444444444,
              "#bd3786"
             ],
             [
              0.5555555555555556,
              "#d8576b"
             ],
             [
              0.6666666666666666,
              "#ed7953"
             ],
             [
              0.7777777777777778,
              "#fb9f3a"
             ],
             [
              0.8888888888888888,
              "#fdca26"
             ],
             [
              1,
              "#f0f921"
             ]
            ],
            "type": "heatmapgl"
           }
          ],
          "histogram": [
           {
            "marker": {
             "pattern": {
              "fillmode": "overlay",
              "size": 10,
              "solidity": 0.2
             }
            },
            "type": "histogram"
           }
          ],
          "histogram2d": [
           {
            "colorbar": {
             "outlinewidth": 0,
             "ticks": ""
            },
            "colorscale": [
             [
              0,
              "#0d0887"
             ],
             [
              0.1111111111111111,
              "#46039f"
             ],
             [
              0.2222222222222222,
              "#7201a8"
             ],
             [
              0.3333333333333333,
              "#9c179e"
             ],
             [
              0.4444444444444444,
              "#bd3786"
             ],
             [
              0.5555555555555556,
              "#d8576b"
             ],
             [
              0.6666666666666666,
              "#ed7953"
             ],
             [
              0.7777777777777778,
              "#fb9f3a"
             ],
             [
              0.8888888888888888,
              "#fdca26"
             ],
             [
              1,
              "#f0f921"
             ]
            ],
            "type": "histogram2d"
           }
          ],
          "histogram2dcontour": [
           {
            "colorbar": {
             "outlinewidth": 0,
             "ticks": ""
            },
            "colorscale": [
             [
              0,
              "#0d0887"
             ],
             [
              0.1111111111111111,
              "#46039f"
             ],
             [
              0.2222222222222222,
              "#7201a8"
             ],
             [
              0.3333333333333333,
              "#9c179e"
             ],
             [
              0.4444444444444444,
              "#bd3786"
             ],
             [
              0.5555555555555556,
              "#d8576b"
             ],
             [
              0.6666666666666666,
              "#ed7953"
             ],
             [
              0.7777777777777778,
              "#fb9f3a"
             ],
             [
              0.8888888888888888,
              "#fdca26"
             ],
             [
              1,
              "#f0f921"
             ]
            ],
            "type": "histogram2dcontour"
           }
          ],
          "mesh3d": [
           {
            "colorbar": {
             "outlinewidth": 0,
             "ticks": ""
            },
            "type": "mesh3d"
           }
          ],
          "parcoords": [
           {
            "line": {
             "colorbar": {
              "outlinewidth": 0,
              "ticks": ""
             }
            },
            "type": "parcoords"
           }
          ],
          "pie": [
           {
            "automargin": true,
            "type": "pie"
           }
          ],
          "scatter": [
           {
            "fillpattern": {
             "fillmode": "overlay",
             "size": 10,
             "solidity": 0.2
            },
            "type": "scatter"
           }
          ],
          "scatter3d": [
           {
            "line": {
             "colorbar": {
              "outlinewidth": 0,
              "ticks": ""
             }
            },
            "marker": {
             "colorbar": {
              "outlinewidth": 0,
              "ticks": ""
             }
            },
            "type": "scatter3d"
           }
          ],
          "scattercarpet": [
           {
            "marker": {
             "colorbar": {
              "outlinewidth": 0,
              "ticks": ""
             }
            },
            "type": "scattercarpet"
           }
          ],
          "scattergeo": [
           {
            "marker": {
             "colorbar": {
              "outlinewidth": 0,
              "ticks": ""
             }
            },
            "type": "scattergeo"
           }
          ],
          "scattergl": [
           {
            "marker": {
             "colorbar": {
              "outlinewidth": 0,
              "ticks": ""
             }
            },
            "type": "scattergl"
           }
          ],
          "scattermapbox": [
           {
            "marker": {
             "colorbar": {
              "outlinewidth": 0,
              "ticks": ""
             }
            },
            "type": "scattermapbox"
           }
          ],
          "scatterpolar": [
           {
            "marker": {
             "colorbar": {
              "outlinewidth": 0,
              "ticks": ""
             }
            },
            "type": "scatterpolar"
           }
          ],
          "scatterpolargl": [
           {
            "marker": {
             "colorbar": {
              "outlinewidth": 0,
              "ticks": ""
             }
            },
            "type": "scatterpolargl"
           }
          ],
          "scatterternary": [
           {
            "marker": {
             "colorbar": {
              "outlinewidth": 0,
              "ticks": ""
             }
            },
            "type": "scatterternary"
           }
          ],
          "surface": [
           {
            "colorbar": {
             "outlinewidth": 0,
             "ticks": ""
            },
            "colorscale": [
             [
              0,
              "#0d0887"
             ],
             [
              0.1111111111111111,
              "#46039f"
             ],
             [
              0.2222222222222222,
              "#7201a8"
             ],
             [
              0.3333333333333333,
              "#9c179e"
             ],
             [
              0.4444444444444444,
              "#bd3786"
             ],
             [
              0.5555555555555556,
              "#d8576b"
             ],
             [
              0.6666666666666666,
              "#ed7953"
             ],
             [
              0.7777777777777778,
              "#fb9f3a"
             ],
             [
              0.8888888888888888,
              "#fdca26"
             ],
             [
              1,
              "#f0f921"
             ]
            ],
            "type": "surface"
           }
          ],
          "table": [
           {
            "cells": {
             "fill": {
              "color": "#EBF0F8"
             },
             "line": {
              "color": "white"
             }
            },
            "header": {
             "fill": {
              "color": "#C8D4E3"
             },
             "line": {
              "color": "white"
             }
            },
            "type": "table"
           }
          ]
         },
         "layout": {
          "annotationdefaults": {
           "arrowcolor": "#2a3f5f",
           "arrowhead": 0,
           "arrowwidth": 1
          },
          "autotypenumbers": "strict",
          "coloraxis": {
           "colorbar": {
            "outlinewidth": 0,
            "ticks": ""
           }
          },
          "colorscale": {
           "diverging": [
            [
             0,
             "#8e0152"
            ],
            [
             0.1,
             "#c51b7d"
            ],
            [
             0.2,
             "#de77ae"
            ],
            [
             0.3,
             "#f1b6da"
            ],
            [
             0.4,
             "#fde0ef"
            ],
            [
             0.5,
             "#f7f7f7"
            ],
            [
             0.6,
             "#e6f5d0"
            ],
            [
             0.7,
             "#b8e186"
            ],
            [
             0.8,
             "#7fbc41"
            ],
            [
             0.9,
             "#4d9221"
            ],
            [
             1,
             "#276419"
            ]
           ],
           "sequential": [
            [
             0,
             "#0d0887"
            ],
            [
             0.1111111111111111,
             "#46039f"
            ],
            [
             0.2222222222222222,
             "#7201a8"
            ],
            [
             0.3333333333333333,
             "#9c179e"
            ],
            [
             0.4444444444444444,
             "#bd3786"
            ],
            [
             0.5555555555555556,
             "#d8576b"
            ],
            [
             0.6666666666666666,
             "#ed7953"
            ],
            [
             0.7777777777777778,
             "#fb9f3a"
            ],
            [
             0.8888888888888888,
             "#fdca26"
            ],
            [
             1,
             "#f0f921"
            ]
           ],
           "sequentialminus": [
            [
             0,
             "#0d0887"
            ],
            [
             0.1111111111111111,
             "#46039f"
            ],
            [
             0.2222222222222222,
             "#7201a8"
            ],
            [
             0.3333333333333333,
             "#9c179e"
            ],
            [
             0.4444444444444444,
             "#bd3786"
            ],
            [
             0.5555555555555556,
             "#d8576b"
            ],
            [
             0.6666666666666666,
             "#ed7953"
            ],
            [
             0.7777777777777778,
             "#fb9f3a"
            ],
            [
             0.8888888888888888,
             "#fdca26"
            ],
            [
             1,
             "#f0f921"
            ]
           ]
          },
          "colorway": [
           "#636efa",
           "#EF553B",
           "#00cc96",
           "#ab63fa",
           "#FFA15A",
           "#19d3f3",
           "#FF6692",
           "#B6E880",
           "#FF97FF",
           "#FECB52"
          ],
          "font": {
           "color": "#2a3f5f"
          },
          "geo": {
           "bgcolor": "white",
           "lakecolor": "white",
           "landcolor": "#E5ECF6",
           "showlakes": true,
           "showland": true,
           "subunitcolor": "white"
          },
          "hoverlabel": {
           "align": "left"
          },
          "hovermode": "closest",
          "mapbox": {
           "style": "light"
          },
          "paper_bgcolor": "white",
          "plot_bgcolor": "#E5ECF6",
          "polar": {
           "angularaxis": {
            "gridcolor": "white",
            "linecolor": "white",
            "ticks": ""
           },
           "bgcolor": "#E5ECF6",
           "radialaxis": {
            "gridcolor": "white",
            "linecolor": "white",
            "ticks": ""
           }
          },
          "scene": {
           "xaxis": {
            "backgroundcolor": "#E5ECF6",
            "gridcolor": "white",
            "gridwidth": 2,
            "linecolor": "white",
            "showbackground": true,
            "ticks": "",
            "zerolinecolor": "white"
           },
           "yaxis": {
            "backgroundcolor": "#E5ECF6",
            "gridcolor": "white",
            "gridwidth": 2,
            "linecolor": "white",
            "showbackground": true,
            "ticks": "",
            "zerolinecolor": "white"
           },
           "zaxis": {
            "backgroundcolor": "#E5ECF6",
            "gridcolor": "white",
            "gridwidth": 2,
            "linecolor": "white",
            "showbackground": true,
            "ticks": "",
            "zerolinecolor": "white"
           }
          },
          "shapedefaults": {
           "line": {
            "color": "#2a3f5f"
           }
          },
          "ternary": {
           "aaxis": {
            "gridcolor": "white",
            "linecolor": "white",
            "ticks": ""
           },
           "baxis": {
            "gridcolor": "white",
            "linecolor": "white",
            "ticks": ""
           },
           "bgcolor": "#E5ECF6",
           "caxis": {
            "gridcolor": "white",
            "linecolor": "white",
            "ticks": ""
           }
          },
          "title": {
           "x": 0.05
          },
          "xaxis": {
           "automargin": true,
           "gridcolor": "white",
           "linecolor": "white",
           "ticks": "",
           "title": {
            "standoff": 15
           },
           "zerolinecolor": "white",
           "zerolinewidth": 2
          },
          "yaxis": {
           "automargin": true,
           "gridcolor": "white",
           "linecolor": "white",
           "ticks": "",
           "title": {
            "standoff": 15
           },
           "zerolinecolor": "white",
           "zerolinewidth": 2
          }
         }
        },
        "xaxis": {
         "anchor": "y",
         "domain": [
          0,
          1
         ],
         "title": {
          "text": "Date"
         }
        },
        "yaxis": {
         "anchor": "x",
         "domain": [
          0,
          1
         ],
         "title": {
          "text": "value"
         }
        }
       }
      },
      "text/html": [
       "<div>                            <div id=\"ee6fdfc0-a4f8-4bfa-8ea6-fc929313d678\" class=\"plotly-graph-div\" style=\"height:525px; width:100%;\"></div>            <script type=\"text/javascript\">                require([\"plotly\"], function(Plotly) {                    window.PLOTLYENV=window.PLOTLYENV || {};                                    if (document.getElementById(\"ee6fdfc0-a4f8-4bfa-8ea6-fc929313d678\")) {                    Plotly.newPlot(                        \"ee6fdfc0-a4f8-4bfa-8ea6-fc929313d678\",                        [{\"hovertemplate\":\"variable=pred<br>Date=%{x}<br>value=%{y}<extra></extra>\",\"legendgroup\":\"pred\",\"line\":{\"color\":\"#636efa\",\"dash\":\"solid\"},\"marker\":{\"symbol\":\"circle\"},\"mode\":\"lines\",\"name\":\"pred\",\"orientation\":\"v\",\"showlegend\":true,\"x\":[\"2022-04-11T00:00:00\",\"2022-04-12T00:00:00\",\"2022-04-13T00:00:00\",\"2022-04-14T00:00:00\",\"2022-04-18T00:00:00\",\"2022-04-19T00:00:00\",\"2022-04-20T00:00:00\",\"2022-04-21T00:00:00\",\"2022-04-22T00:00:00\",\"2022-04-25T00:00:00\",\"2022-04-26T00:00:00\",\"2022-04-27T00:00:00\",\"2022-04-28T00:00:00\",\"2022-04-29T00:00:00\",\"2022-05-02T00:00:00\",\"2022-05-03T00:00:00\",\"2022-05-04T00:00:00\",\"2022-05-05T00:00:00\",\"2022-05-06T00:00:00\",\"2022-05-09T00:00:00\"],\"xaxis\":\"x\",\"y\":[515545.4222552287,514177.6463844461,513497.948060996,512812.228583985,511883.28531387105,510698.5337296449,509699.1382167254,508744.1347141161,507806.4136640461,506833.2739192992,505839.08248066937,504847.7618119679,503874.3725077371,502900.225759123,501922.84961809596,500942.2548952866,499961.9981161248,498983.3024867785,498005.3733180299,497026.7743109014],\"yaxis\":\"y\",\"type\":\"scatter\"},{\"hovertemplate\":\"variable=y<br>Date=%{x}<br>value=%{y}<extra></extra>\",\"legendgroup\":\"y\",\"line\":{\"color\":\"#EF553B\",\"dash\":\"solid\"},\"marker\":{\"symbol\":\"circle\"},\"mode\":\"lines\",\"name\":\"y\",\"orientation\":\"v\",\"showlegend\":true,\"x\":[\"2022-04-11T00:00:00\",\"2022-04-12T00:00:00\",\"2022-04-13T00:00:00\",\"2022-04-14T00:00:00\",\"2022-04-18T00:00:00\",\"2022-04-19T00:00:00\",\"2022-04-20T00:00:00\",\"2022-04-21T00:00:00\",\"2022-04-22T00:00:00\",\"2022-04-25T00:00:00\",\"2022-04-26T00:00:00\",\"2022-04-27T00:00:00\",\"2022-04-28T00:00:00\",\"2022-04-29T00:00:00\",\"2022-05-02T00:00:00\",\"2022-05-03T00:00:00\",\"2022-05-04T00:00:00\",\"2022-05-05T00:00:00\",\"2022-05-06T00:00:00\",\"2022-05-09T00:00:00\"],\"xaxis\":\"x\",\"y\":[529000.0,527590.0,524271.0,519800.0,516435.0,519499.0,523260.0,522901.0,515815.0,505440.0,506200.0,497777.0,496800.0,499000.0,484340.0,478150.0,481198.0,494343.0,481400.0,479500.0],\"yaxis\":\"y\",\"type\":\"scatter\"}],                        {\"template\":{\"data\":{\"histogram2dcontour\":[{\"type\":\"histogram2dcontour\",\"colorbar\":{\"outlinewidth\":0,\"ticks\":\"\"},\"colorscale\":[[0.0,\"#0d0887\"],[0.1111111111111111,\"#46039f\"],[0.2222222222222222,\"#7201a8\"],[0.3333333333333333,\"#9c179e\"],[0.4444444444444444,\"#bd3786\"],[0.5555555555555556,\"#d8576b\"],[0.6666666666666666,\"#ed7953\"],[0.7777777777777778,\"#fb9f3a\"],[0.8888888888888888,\"#fdca26\"],[1.0,\"#f0f921\"]]}],\"choropleth\":[{\"type\":\"choropleth\",\"colorbar\":{\"outlinewidth\":0,\"ticks\":\"\"}}],\"histogram2d\":[{\"type\":\"histogram2d\",\"colorbar\":{\"outlinewidth\":0,\"ticks\":\"\"},\"colorscale\":[[0.0,\"#0d0887\"],[0.1111111111111111,\"#46039f\"],[0.2222222222222222,\"#7201a8\"],[0.3333333333333333,\"#9c179e\"],[0.4444444444444444,\"#bd3786\"],[0.5555555555555556,\"#d8576b\"],[0.6666666666666666,\"#ed7953\"],[0.7777777777777778,\"#fb9f3a\"],[0.8888888888888888,\"#fdca26\"],[1.0,\"#f0f921\"]]}],\"heatmap\":[{\"type\":\"heatmap\",\"colorbar\":{\"outlinewidth\":0,\"ticks\":\"\"},\"colorscale\":[[0.0,\"#0d0887\"],[0.1111111111111111,\"#46039f\"],[0.2222222222222222,\"#7201a8\"],[0.3333333333333333,\"#9c179e\"],[0.4444444444444444,\"#bd3786\"],[0.5555555555555556,\"#d8576b\"],[0.6666666666666666,\"#ed7953\"],[0.7777777777777778,\"#fb9f3a\"],[0.8888888888888888,\"#fdca26\"],[1.0,\"#f0f921\"]]}],\"heatmapgl\":[{\"type\":\"heatmapgl\",\"colorbar\":{\"outlinewidth\":0,\"ticks\":\"\"},\"colorscale\":[[0.0,\"#0d0887\"],[0.1111111111111111,\"#46039f\"],[0.2222222222222222,\"#7201a8\"],[0.3333333333333333,\"#9c179e\"],[0.4444444444444444,\"#bd3786\"],[0.5555555555555556,\"#d8576b\"],[0.6666666666666666,\"#ed7953\"],[0.7777777777777778,\"#fb9f3a\"],[0.8888888888888888,\"#fdca26\"],[1.0,\"#f0f921\"]]}],\"contourcarpet\":[{\"type\":\"contourcarpet\",\"colorbar\":{\"outlinewidth\":0,\"ticks\":\"\"}}],\"contour\":[{\"type\":\"contour\",\"colorbar\":{\"outlinewidth\":0,\"ticks\":\"\"},\"colorscale\":[[0.0,\"#0d0887\"],[0.1111111111111111,\"#46039f\"],[0.2222222222222222,\"#7201a8\"],[0.3333333333333333,\"#9c179e\"],[0.4444444444444444,\"#bd3786\"],[0.5555555555555556,\"#d8576b\"],[0.6666666666666666,\"#ed7953\"],[0.7777777777777778,\"#fb9f3a\"],[0.8888888888888888,\"#fdca26\"],[1.0,\"#f0f921\"]]}],\"surface\":[{\"type\":\"surface\",\"colorbar\":{\"outlinewidth\":0,\"ticks\":\"\"},\"colorscale\":[[0.0,\"#0d0887\"],[0.1111111111111111,\"#46039f\"],[0.2222222222222222,\"#7201a8\"],[0.3333333333333333,\"#9c179e\"],[0.4444444444444444,\"#bd3786\"],[0.5555555555555556,\"#d8576b\"],[0.6666666666666666,\"#ed7953\"],[0.7777777777777778,\"#fb9f3a\"],[0.8888888888888888,\"#fdca26\"],[1.0,\"#f0f921\"]]}],\"mesh3d\":[{\"type\":\"mesh3d\",\"colorbar\":{\"outlinewidth\":0,\"ticks\":\"\"}}],\"scatter\":[{\"fillpattern\":{\"fillmode\":\"overlay\",\"size\":10,\"solidity\":0.2},\"type\":\"scatter\"}],\"parcoords\":[{\"type\":\"parcoords\",\"line\":{\"colorbar\":{\"outlinewidth\":0,\"ticks\":\"\"}}}],\"scatterpolargl\":[{\"type\":\"scatterpolargl\",\"marker\":{\"colorbar\":{\"outlinewidth\":0,\"ticks\":\"\"}}}],\"bar\":[{\"error_x\":{\"color\":\"#2a3f5f\"},\"error_y\":{\"color\":\"#2a3f5f\"},\"marker\":{\"line\":{\"color\":\"#E5ECF6\",\"width\":0.5},\"pattern\":{\"fillmode\":\"overlay\",\"size\":10,\"solidity\":0.2}},\"type\":\"bar\"}],\"scattergeo\":[{\"type\":\"scattergeo\",\"marker\":{\"colorbar\":{\"outlinewidth\":0,\"ticks\":\"\"}}}],\"scatterpolar\":[{\"type\":\"scatterpolar\",\"marker\":{\"colorbar\":{\"outlinewidth\":0,\"ticks\":\"\"}}}],\"histogram\":[{\"marker\":{\"pattern\":{\"fillmode\":\"overlay\",\"size\":10,\"solidity\":0.2}},\"type\":\"histogram\"}],\"scattergl\":[{\"type\":\"scattergl\",\"marker\":{\"colorbar\":{\"outlinewidth\":0,\"ticks\":\"\"}}}],\"scatter3d\":[{\"type\":\"scatter3d\",\"line\":{\"colorbar\":{\"outlinewidth\":0,\"ticks\":\"\"}},\"marker\":{\"colorbar\":{\"outlinewidth\":0,\"ticks\":\"\"}}}],\"scattermapbox\":[{\"type\":\"scattermapbox\",\"marker\":{\"colorbar\":{\"outlinewidth\":0,\"ticks\":\"\"}}}],\"scatterternary\":[{\"type\":\"scatterternary\",\"marker\":{\"colorbar\":{\"outlinewidth\":0,\"ticks\":\"\"}}}],\"scattercarpet\":[{\"type\":\"scattercarpet\",\"marker\":{\"colorbar\":{\"outlinewidth\":0,\"ticks\":\"\"}}}],\"carpet\":[{\"aaxis\":{\"endlinecolor\":\"#2a3f5f\",\"gridcolor\":\"white\",\"linecolor\":\"white\",\"minorgridcolor\":\"white\",\"startlinecolor\":\"#2a3f5f\"},\"baxis\":{\"endlinecolor\":\"#2a3f5f\",\"gridcolor\":\"white\",\"linecolor\":\"white\",\"minorgridcolor\":\"white\",\"startlinecolor\":\"#2a3f5f\"},\"type\":\"carpet\"}],\"table\":[{\"cells\":{\"fill\":{\"color\":\"#EBF0F8\"},\"line\":{\"color\":\"white\"}},\"header\":{\"fill\":{\"color\":\"#C8D4E3\"},\"line\":{\"color\":\"white\"}},\"type\":\"table\"}],\"barpolar\":[{\"marker\":{\"line\":{\"color\":\"#E5ECF6\",\"width\":0.5},\"pattern\":{\"fillmode\":\"overlay\",\"size\":10,\"solidity\":0.2}},\"type\":\"barpolar\"}],\"pie\":[{\"automargin\":true,\"type\":\"pie\"}]},\"layout\":{\"autotypenumbers\":\"strict\",\"colorway\":[\"#636efa\",\"#EF553B\",\"#00cc96\",\"#ab63fa\",\"#FFA15A\",\"#19d3f3\",\"#FF6692\",\"#B6E880\",\"#FF97FF\",\"#FECB52\"],\"font\":{\"color\":\"#2a3f5f\"},\"hovermode\":\"closest\",\"hoverlabel\":{\"align\":\"left\"},\"paper_bgcolor\":\"white\",\"plot_bgcolor\":\"#E5ECF6\",\"polar\":{\"bgcolor\":\"#E5ECF6\",\"angularaxis\":{\"gridcolor\":\"white\",\"linecolor\":\"white\",\"ticks\":\"\"},\"radialaxis\":{\"gridcolor\":\"white\",\"linecolor\":\"white\",\"ticks\":\"\"}},\"ternary\":{\"bgcolor\":\"#E5ECF6\",\"aaxis\":{\"gridcolor\":\"white\",\"linecolor\":\"white\",\"ticks\":\"\"},\"baxis\":{\"gridcolor\":\"white\",\"linecolor\":\"white\",\"ticks\":\"\"},\"caxis\":{\"gridcolor\":\"white\",\"linecolor\":\"white\",\"ticks\":\"\"}},\"coloraxis\":{\"colorbar\":{\"outlinewidth\":0,\"ticks\":\"\"}},\"colorscale\":{\"sequential\":[[0.0,\"#0d0887\"],[0.1111111111111111,\"#46039f\"],[0.2222222222222222,\"#7201a8\"],[0.3333333333333333,\"#9c179e\"],[0.4444444444444444,\"#bd3786\"],[0.5555555555555556,\"#d8576b\"],[0.6666666666666666,\"#ed7953\"],[0.7777777777777778,\"#fb9f3a\"],[0.8888888888888888,\"#fdca26\"],[1.0,\"#f0f921\"]],\"sequentialminus\":[[0.0,\"#0d0887\"],[0.1111111111111111,\"#46039f\"],[0.2222222222222222,\"#7201a8\"],[0.3333333333333333,\"#9c179e\"],[0.4444444444444444,\"#bd3786\"],[0.5555555555555556,\"#d8576b\"],[0.6666666666666666,\"#ed7953\"],[0.7777777777777778,\"#fb9f3a\"],[0.8888888888888888,\"#fdca26\"],[1.0,\"#f0f921\"]],\"diverging\":[[0,\"#8e0152\"],[0.1,\"#c51b7d\"],[0.2,\"#de77ae\"],[0.3,\"#f1b6da\"],[0.4,\"#fde0ef\"],[0.5,\"#f7f7f7\"],[0.6,\"#e6f5d0\"],[0.7,\"#b8e186\"],[0.8,\"#7fbc41\"],[0.9,\"#4d9221\"],[1,\"#276419\"]]},\"xaxis\":{\"gridcolor\":\"white\",\"linecolor\":\"white\",\"ticks\":\"\",\"title\":{\"standoff\":15},\"zerolinecolor\":\"white\",\"automargin\":true,\"zerolinewidth\":2},\"yaxis\":{\"gridcolor\":\"white\",\"linecolor\":\"white\",\"ticks\":\"\",\"title\":{\"standoff\":15},\"zerolinecolor\":\"white\",\"automargin\":true,\"zerolinewidth\":2},\"scene\":{\"xaxis\":{\"backgroundcolor\":\"#E5ECF6\",\"gridcolor\":\"white\",\"linecolor\":\"white\",\"showbackground\":true,\"ticks\":\"\",\"zerolinecolor\":\"white\",\"gridwidth\":2},\"yaxis\":{\"backgroundcolor\":\"#E5ECF6\",\"gridcolor\":\"white\",\"linecolor\":\"white\",\"showbackground\":true,\"ticks\":\"\",\"zerolinecolor\":\"white\",\"gridwidth\":2},\"zaxis\":{\"backgroundcolor\":\"#E5ECF6\",\"gridcolor\":\"white\",\"linecolor\":\"white\",\"showbackground\":true,\"ticks\":\"\",\"zerolinecolor\":\"white\",\"gridwidth\":2}},\"shapedefaults\":{\"line\":{\"color\":\"#2a3f5f\"}},\"annotationdefaults\":{\"arrowcolor\":\"#2a3f5f\",\"arrowhead\":0,\"arrowwidth\":1},\"geo\":{\"bgcolor\":\"white\",\"landcolor\":\"#E5ECF6\",\"subunitcolor\":\"white\",\"showland\":true,\"showlakes\":true,\"lakecolor\":\"white\"},\"title\":{\"x\":0.05},\"mapbox\":{\"style\":\"light\"}}},\"xaxis\":{\"anchor\":\"y\",\"domain\":[0.0,1.0],\"title\":{\"text\":\"Date\"}},\"yaxis\":{\"anchor\":\"x\",\"domain\":[0.0,1.0],\"title\":{\"text\":\"value\"}},\"legend\":{\"title\":{\"text\":\"variable\"},\"tracegroupgap\":0},\"margin\":{\"t\":60}},                        {\"responsive\": true}                    ).then(function(){\n",
       "                            \n",
       "var gd = document.getElementById('ee6fdfc0-a4f8-4bfa-8ea6-fc929313d678');\n",
       "var x = new MutationObserver(function (mutations, observer) {{\n",
       "        var display = window.getComputedStyle(gd).display;\n",
       "        if (!display || display === 'none') {{\n",
       "            console.log([gd, 'removed!']);\n",
       "            Plotly.purge(gd);\n",
       "            observer.disconnect();\n",
       "        }}\n",
       "}});\n",
       "\n",
       "// Listen for the removal of the full notebook cells\n",
       "var notebookContainer = gd.closest('#notebook-container');\n",
       "if (notebookContainer) {{\n",
       "    x.observe(notebookContainer, {childList: true});\n",
       "}}\n",
       "\n",
       "// Listen for the clearing of the current output cell\n",
       "var outputEl = gd.closest('.output');\n",
       "if (outputEl) {{\n",
       "    x.observe(outputEl, {childList: true});\n",
       "}}\n",
       "\n",
       "                        })                };                });            </script>        </div>"
      ]
     },
     "metadata": {},
     "output_type": "display_data"
    }
   ],
   "source": [
    "fig = px.line(result, y=result.columns[0:2], x=result.index)\n",
    "fig.show()"
   ]
  },
  {
   "cell_type": "code",
   "execution_count": 41,
   "metadata": {},
   "outputs": [
    {
     "data": {
      "text/html": [
       "<div>\n",
       "<style scoped>\n",
       "    .dataframe tbody tr th:only-of-type {\n",
       "        vertical-align: middle;\n",
       "    }\n",
       "\n",
       "    .dataframe tbody tr th {\n",
       "        vertical-align: top;\n",
       "    }\n",
       "\n",
       "    .dataframe thead th {\n",
       "        text-align: right;\n",
       "    }\n",
       "</style>\n",
       "<table border=\"1\" class=\"dataframe\">\n",
       "  <thead>\n",
       "    <tr style=\"text-align: right;\">\n",
       "      <th></th>\n",
       "      <th>Results</th>\n",
       "    </tr>\n",
       "  </thead>\n",
       "  <tbody>\n",
       "    <tr>\n",
       "      <th>MSE</th>\n",
       "      <td>148746873.77</td>\n",
       "    </tr>\n",
       "    <tr>\n",
       "      <th>RMSE</th>\n",
       "      <td>12196.18</td>\n",
       "    </tr>\n",
       "    <tr>\n",
       "      <th>MAE</th>\n",
       "      <td>10570.87</td>\n",
       "    </tr>\n",
       "    <tr>\n",
       "      <th>MAPE</th>\n",
       "      <td>0.02</td>\n",
       "    </tr>\n",
       "    <tr>\n",
       "      <th>RSQUARED</th>\n",
       "      <td>0.50</td>\n",
       "    </tr>\n",
       "  </tbody>\n",
       "</table>\n",
       "</div>"
      ],
      "text/plain": [
       "               Results\n",
       "MSE       148746873.77\n",
       "RMSE          12196.18\n",
       "MAE           10570.87\n",
       "MAPE              0.02\n",
       "RSQUARED          0.50"
      ]
     },
     "execution_count": 41,
     "metadata": {},
     "output_type": "execute_result"
    }
   ],
   "source": [
    "MAE = mean_absolute_error(result['y'], result['pred'])\n",
    "RSQUARED = r2_score(result['y'], result['pred'])\n",
    "MAPE = mean_absolute_percentage_error(result['y'], result['pred'])\n",
    "MSE = mean_squared_error(result['y'], result['pred'])\n",
    "RMSE = math.sqrt(MSE)\n",
    "COLUMN_NAMES = [\"MSE\", \"RMSE\", \"MAE\", \"MAPE\", \"RSQUARED\"]\n",
    "values = np.array([f'{MSE:.2f}', f'{RMSE:.2f}', f'{MAE:.2f}', f'{MAPE:.2f}', f'{RSQUARED:.2f}'])\n",
    "\n",
    "df = pd.DataFrame(values, columns=['Results'], index=COLUMN_NAMES)\n",
    "df"
   ]
  },
  {
   "cell_type": "code",
   "execution_count": 42,
   "metadata": {},
   "outputs": [],
   "source": [
    "#Additional part with FB Prophet"
   ]
  },
  {
   "cell_type": "code",
   "execution_count": 43,
   "metadata": {},
   "outputs": [],
   "source": [
    "df_total['datetime']=df_total.index"
   ]
  },
  {
   "cell_type": "code",
   "execution_count": 44,
   "metadata": {},
   "outputs": [],
   "source": [
    "from fbprophet import Prophet"
   ]
  },
  {
   "cell_type": "code",
   "execution_count": 75,
   "metadata": {},
   "outputs": [
    {
     "data": {
      "text/html": [
       "<div>\n",
       "<style scoped>\n",
       "    .dataframe tbody tr th:only-of-type {\n",
       "        vertical-align: middle;\n",
       "    }\n",
       "\n",
       "    .dataframe tbody tr th {\n",
       "        vertical-align: top;\n",
       "    }\n",
       "\n",
       "    .dataframe thead th {\n",
       "        text-align: right;\n",
       "    }\n",
       "</style>\n",
       "<table border=\"1\" class=\"dataframe\">\n",
       "  <thead>\n",
       "    <tr style=\"text-align: right;\">\n",
       "      <th></th>\n",
       "      <th>Open</th>\n",
       "      <th>High</th>\n",
       "      <th>Low</th>\n",
       "      <th>Close</th>\n",
       "      <th>Adj Close</th>\n",
       "      <th>Volume</th>\n",
       "      <th>datetime</th>\n",
       "      <th>cap</th>\n",
       "      <th>floor</th>\n",
       "    </tr>\n",
       "    <tr>\n",
       "      <th>Date</th>\n",
       "      <th></th>\n",
       "      <th></th>\n",
       "      <th></th>\n",
       "      <th></th>\n",
       "      <th></th>\n",
       "      <th></th>\n",
       "      <th></th>\n",
       "      <th></th>\n",
       "      <th></th>\n",
       "    </tr>\n",
       "  </thead>\n",
       "  <tbody>\n",
       "    <tr>\n",
       "      <th>2010-05-03</th>\n",
       "      <td>482864.0</td>\n",
       "      <td>483795.0</td>\n",
       "      <td>475000.0</td>\n",
       "      <td>479500.0</td>\n",
       "      <td>479500.0</td>\n",
       "      <td>25</td>\n",
       "      <td>2010-05-03</td>\n",
       "      <td>483795.0</td>\n",
       "      <td>475000.0</td>\n",
       "    </tr>\n",
       "    <tr>\n",
       "      <th>2010-05-04</th>\n",
       "      <td>116190.0</td>\n",
       "      <td>117950.0</td>\n",
       "      <td>116190.0</td>\n",
       "      <td>117430.0</td>\n",
       "      <td>117430.0</td>\n",
       "      <td>591</td>\n",
       "      <td>2010-05-04</td>\n",
       "      <td>117950.0</td>\n",
       "      <td>116190.0</td>\n",
       "    </tr>\n",
       "    <tr>\n",
       "      <th>2010-05-05</th>\n",
       "      <td>117100.0</td>\n",
       "      <td>117100.0</td>\n",
       "      <td>114499.0</td>\n",
       "      <td>114800.0</td>\n",
       "      <td>114800.0</td>\n",
       "      <td>606</td>\n",
       "      <td>2010-05-05</td>\n",
       "      <td>117100.0</td>\n",
       "      <td>114499.0</td>\n",
       "    </tr>\n",
       "    <tr>\n",
       "      <th>2010-05-06</th>\n",
       "      <td>113500.0</td>\n",
       "      <td>115365.0</td>\n",
       "      <td>113150.0</td>\n",
       "      <td>114950.0</td>\n",
       "      <td>114950.0</td>\n",
       "      <td>905</td>\n",
       "      <td>2010-05-06</td>\n",
       "      <td>115365.0</td>\n",
       "      <td>113150.0</td>\n",
       "    </tr>\n",
       "    <tr>\n",
       "      <th>2010-05-07</th>\n",
       "      <td>114543.0</td>\n",
       "      <td>115726.0</td>\n",
       "      <td>108565.0</td>\n",
       "      <td>113500.0</td>\n",
       "      <td>113500.0</td>\n",
       "      <td>1391</td>\n",
       "      <td>2010-05-07</td>\n",
       "      <td>115726.0</td>\n",
       "      <td>108565.0</td>\n",
       "    </tr>\n",
       "    <tr>\n",
       "      <th>...</th>\n",
       "      <td>...</td>\n",
       "      <td>...</td>\n",
       "      <td>...</td>\n",
       "      <td>...</td>\n",
       "      <td>...</td>\n",
       "      <td>...</td>\n",
       "      <td>...</td>\n",
       "      <td>...</td>\n",
       "      <td>...</td>\n",
       "    </tr>\n",
       "    <tr>\n",
       "      <th>2022-05-03</th>\n",
       "      <td>485921.0</td>\n",
       "      <td>492125.0</td>\n",
       "      <td>470692.0</td>\n",
       "      <td>478150.0</td>\n",
       "      <td>478150.0</td>\n",
       "      <td>41</td>\n",
       "      <td>2022-05-03</td>\n",
       "      <td>492125.0</td>\n",
       "      <td>470692.0</td>\n",
       "    </tr>\n",
       "    <tr>\n",
       "      <th>2022-05-04</th>\n",
       "      <td>480541.0</td>\n",
       "      <td>487713.0</td>\n",
       "      <td>478150.0</td>\n",
       "      <td>481198.0</td>\n",
       "      <td>481198.0</td>\n",
       "      <td>24</td>\n",
       "      <td>2022-05-04</td>\n",
       "      <td>487713.0</td>\n",
       "      <td>478150.0</td>\n",
       "    </tr>\n",
       "    <tr>\n",
       "      <th>2022-05-05</th>\n",
       "      <td>486664.0</td>\n",
       "      <td>494343.0</td>\n",
       "      <td>477712.0</td>\n",
       "      <td>494343.0</td>\n",
       "      <td>494343.0</td>\n",
       "      <td>24</td>\n",
       "      <td>2022-05-05</td>\n",
       "      <td>494343.0</td>\n",
       "      <td>477712.0</td>\n",
       "    </tr>\n",
       "    <tr>\n",
       "      <th>2022-05-06</th>\n",
       "      <td>487900.0</td>\n",
       "      <td>493850.0</td>\n",
       "      <td>476748.0</td>\n",
       "      <td>481400.0</td>\n",
       "      <td>481400.0</td>\n",
       "      <td>29</td>\n",
       "      <td>2022-05-06</td>\n",
       "      <td>493850.0</td>\n",
       "      <td>476748.0</td>\n",
       "    </tr>\n",
       "    <tr>\n",
       "      <th>2022-05-09</th>\n",
       "      <td>482864.0</td>\n",
       "      <td>483795.0</td>\n",
       "      <td>475000.0</td>\n",
       "      <td>479500.0</td>\n",
       "      <td>479500.0</td>\n",
       "      <td>25</td>\n",
       "      <td>2022-05-09</td>\n",
       "      <td>483795.0</td>\n",
       "      <td>475000.0</td>\n",
       "    </tr>\n",
       "  </tbody>\n",
       "</table>\n",
       "<p>3027 rows × 9 columns</p>\n",
       "</div>"
      ],
      "text/plain": [
       "                Open      High       Low     Close  Adj Close  Volume  \\\n",
       "Date                                                                    \n",
       "2010-05-03  482864.0  483795.0  475000.0  479500.0   479500.0      25   \n",
       "2010-05-04  116190.0  117950.0  116190.0  117430.0   117430.0     591   \n",
       "2010-05-05  117100.0  117100.0  114499.0  114800.0   114800.0     606   \n",
       "2010-05-06  113500.0  115365.0  113150.0  114950.0   114950.0     905   \n",
       "2010-05-07  114543.0  115726.0  108565.0  113500.0   113500.0    1391   \n",
       "...              ...       ...       ...       ...        ...     ...   \n",
       "2022-05-03  485921.0  492125.0  470692.0  478150.0   478150.0      41   \n",
       "2022-05-04  480541.0  487713.0  478150.0  481198.0   481198.0      24   \n",
       "2022-05-05  486664.0  494343.0  477712.0  494343.0   494343.0      24   \n",
       "2022-05-06  487900.0  493850.0  476748.0  481400.0   481400.0      29   \n",
       "2022-05-09  482864.0  483795.0  475000.0  479500.0   479500.0      25   \n",
       "\n",
       "             datetime       cap     floor  \n",
       "Date                                       \n",
       "2010-05-03 2010-05-03  483795.0  475000.0  \n",
       "2010-05-04 2010-05-04  117950.0  116190.0  \n",
       "2010-05-05 2010-05-05  117100.0  114499.0  \n",
       "2010-05-06 2010-05-06  115365.0  113150.0  \n",
       "2010-05-07 2010-05-07  115726.0  108565.0  \n",
       "...               ...       ...       ...  \n",
       "2022-05-03 2022-05-03  492125.0  470692.0  \n",
       "2022-05-04 2022-05-04  487713.0  478150.0  \n",
       "2022-05-05 2022-05-05  494343.0  477712.0  \n",
       "2022-05-06 2022-05-06  493850.0  476748.0  \n",
       "2022-05-09 2022-05-09  483795.0  475000.0  \n",
       "\n",
       "[3027 rows x 9 columns]"
      ]
     },
     "execution_count": 75,
     "metadata": {},
     "output_type": "execute_result"
    }
   ],
   "source": [
    "df_total"
   ]
  },
  {
   "cell_type": "code",
   "execution_count": 96,
   "metadata": {},
   "outputs": [],
   "source": [
    "l=20\n",
    "# cap = df_total['High']\n",
    "# flr = df_total['Low']\n",
    "# df_total['cap'] = cap\n",
    "# df_total['floor'] = flr\n",
    "temp_df = df_total.reset_index()\n",
    "temp_df = temp_df[['datetime', 'Close', 'cap', 'floor']]\n",
    "temp_df.rename(columns={'datetime': 'ds', 'Close': 'y'}, inplace=True)\n",
    "train, test = temp_df.iloc[:-l,:], temp_df.iloc[-l:,:]\n",
    "m = Prophet(\n",
    "            growth='linear',\n",
    "            seasonality_mode='additive',\n",
    "            interval_width=1,\n",
    "            daily_seasonality=True,\n",
    "            weekly_seasonality=True,\n",
    "            yearly_seasonality=True\n",
    "            )\n",
    "m.fit(train)\n",
    "predictions_train = m.predict(train.drop('y', axis=1))\n",
    "predictions_test = m.predict(test.drop('y', axis=1))\n",
    "result = pd.concat([predictions_train, predictions_test], axis=0)\n",
    "result=result[-20:]\n",
    "result.index=result['ds']\n",
    "result=result.drop(['ds'],axis=1)\n",
    "result=pd.concat([result, df_total[-20:]['Close']],axis=1)\n",
    "result.rename(columns = {'yhat':'pred', 'Close':'y'}, inplace = True)"
   ]
  },
  {
   "cell_type": "code",
   "execution_count": 97,
   "metadata": {},
   "outputs": [
    {
     "data": {
      "application/vnd.plotly.v1+json": {
       "config": {
        "plotlyServerURL": "https://plot.ly"
       },
       "data": [
        {
         "hovertemplate": "variable=trend<br>index=%{x}<br>value=%{y}<extra></extra>",
         "legendgroup": "trend",
         "line": {
          "color": "#636efa",
          "dash": "solid"
         },
         "marker": {
          "symbol": "circle"
         },
         "mode": "lines",
         "name": "trend",
         "orientation": "v",
         "showlegend": true,
         "type": "scatter",
         "x": [
          "2022-04-11T00:00:00",
          "2022-04-12T00:00:00",
          "2022-04-13T00:00:00",
          "2022-04-14T00:00:00",
          "2022-04-18T00:00:00",
          "2022-04-19T00:00:00",
          "2022-04-20T00:00:00",
          "2022-04-21T00:00:00",
          "2022-04-22T00:00:00",
          "2022-04-25T00:00:00",
          "2022-04-26T00:00:00",
          "2022-04-27T00:00:00",
          "2022-04-28T00:00:00",
          "2022-04-29T00:00:00",
          "2022-05-02T00:00:00",
          "2022-05-03T00:00:00",
          "2022-05-04T00:00:00",
          "2022-05-05T00:00:00",
          "2022-05-06T00:00:00",
          "2022-05-09T00:00:00"
         ],
         "xaxis": "x",
         "y": [
          753882.466040805,
          754098.8505887996,
          754315.2351367944,
          754531.6196847891,
          755397.1578767676,
          755613.5424247623,
          755829.9269727569,
          756046.3115207516,
          756262.6960687464,
          756911.8497127304,
          757128.234260725,
          757344.6188087196,
          757561.0033567142,
          757777.3879047089,
          758426.541548693,
          758642.9260966877,
          758859.3106446823,
          759075.695192677,
          759292.0797406716,
          759941.2333846554
         ],
         "yaxis": "y"
        },
        {
         "hovertemplate": "variable=cap<br>index=%{x}<br>value=%{y}<extra></extra>",
         "legendgroup": "cap",
         "line": {
          "color": "#EF553B",
          "dash": "solid"
         },
         "marker": {
          "symbol": "circle"
         },
         "mode": "lines",
         "name": "cap",
         "orientation": "v",
         "showlegend": true,
         "type": "scatter",
         "x": [
          "2022-04-11T00:00:00",
          "2022-04-12T00:00:00",
          "2022-04-13T00:00:00",
          "2022-04-14T00:00:00",
          "2022-04-18T00:00:00",
          "2022-04-19T00:00:00",
          "2022-04-20T00:00:00",
          "2022-04-21T00:00:00",
          "2022-04-22T00:00:00",
          "2022-04-25T00:00:00",
          "2022-04-26T00:00:00",
          "2022-04-27T00:00:00",
          "2022-04-28T00:00:00",
          "2022-04-29T00:00:00",
          "2022-05-02T00:00:00",
          "2022-05-03T00:00:00",
          "2022-05-04T00:00:00",
          "2022-05-05T00:00:00",
          "2022-05-06T00:00:00",
          "2022-05-09T00:00:00"
         ],
         "xaxis": "x",
         "y": [
          531040,
          531880,
          531000,
          525900,
          521674,
          521019,
          524208,
          526699,
          526900,
          517444,
          509650,
          507419,
          502799,
          502329,
          500000,
          492125,
          487713,
          494343,
          493850,
          483795
         ],
         "yaxis": "y"
        },
        {
         "hovertemplate": "variable=yhat_lower<br>index=%{x}<br>value=%{y}<extra></extra>",
         "legendgroup": "yhat_lower",
         "line": {
          "color": "#00cc96",
          "dash": "solid"
         },
         "marker": {
          "symbol": "circle"
         },
         "mode": "lines",
         "name": "yhat_lower",
         "orientation": "v",
         "showlegend": true,
         "type": "scatter",
         "x": [
          "2022-04-11T00:00:00",
          "2022-04-12T00:00:00",
          "2022-04-13T00:00:00",
          "2022-04-14T00:00:00",
          "2022-04-18T00:00:00",
          "2022-04-19T00:00:00",
          "2022-04-20T00:00:00",
          "2022-04-21T00:00:00",
          "2022-04-22T00:00:00",
          "2022-04-25T00:00:00",
          "2022-04-26T00:00:00",
          "2022-04-27T00:00:00",
          "2022-04-28T00:00:00",
          "2022-04-29T00:00:00",
          "2022-05-02T00:00:00",
          "2022-05-03T00:00:00",
          "2022-05-04T00:00:00",
          "2022-05-05T00:00:00",
          "2022-05-06T00:00:00",
          "2022-05-09T00:00:00"
         ],
         "xaxis": "x",
         "y": [
          419513.5191356023,
          414426.6664062312,
          410924.0226867048,
          407736.5353852832,
          417699.19478507835,
          418873.00352635665,
          413314.09486199776,
          417871.69046478084,
          424246.5593739379,
          418129.3647162015,
          424359.6159696244,
          399734.7869475689,
          409484.3428258917,
          426759.3147776568,
          421445.3116589303,
          410275.80848831125,
          435156.28168501856,
          420382.1568576284,
          431398.324893221,
          424744.2250044902
         ],
         "yaxis": "y"
        },
        {
         "hovertemplate": "variable=yhat_upper<br>index=%{x}<br>value=%{y}<extra></extra>",
         "legendgroup": "yhat_upper",
         "line": {
          "color": "#ab63fa",
          "dash": "solid"
         },
         "marker": {
          "symbol": "circle"
         },
         "mode": "lines",
         "name": "yhat_upper",
         "orientation": "v",
         "showlegend": true,
         "type": "scatter",
         "x": [
          "2022-04-11T00:00:00",
          "2022-04-12T00:00:00",
          "2022-04-13T00:00:00",
          "2022-04-14T00:00:00",
          "2022-04-18T00:00:00",
          "2022-04-19T00:00:00",
          "2022-04-20T00:00:00",
          "2022-04-21T00:00:00",
          "2022-04-22T00:00:00",
          "2022-04-25T00:00:00",
          "2022-04-26T00:00:00",
          "2022-04-27T00:00:00",
          "2022-04-28T00:00:00",
          "2022-04-29T00:00:00",
          "2022-05-02T00:00:00",
          "2022-05-03T00:00:00",
          "2022-05-04T00:00:00",
          "2022-05-05T00:00:00",
          "2022-05-06T00:00:00",
          "2022-05-09T00:00:00"
         ],
         "xaxis": "x",
         "y": [
          531242.7588413792,
          521546.8260581282,
          522708.5191715935,
          527954.1624975502,
          531557.2302548821,
          527316.4579981056,
          523964.2308999235,
          528745.1976443902,
          531194.8785605213,
          523270.6748969266,
          528786.9908631103,
          533134.7779947792,
          532436.3697831224,
          541753.5695531787,
          537076.896891249,
          530663.4569541386,
          536342.1942254591,
          528687.8107023784,
          528535.0369674808,
          530508.3732234876
         ],
         "yaxis": "y"
        },
        {
         "hovertemplate": "variable=trend_lower<br>index=%{x}<br>value=%{y}<extra></extra>",
         "legendgroup": "trend_lower",
         "line": {
          "color": "#FFA15A",
          "dash": "solid"
         },
         "marker": {
          "symbol": "circle"
         },
         "mode": "lines",
         "name": "trend_lower",
         "orientation": "v",
         "showlegend": true,
         "type": "scatter",
         "x": [
          "2022-04-11T00:00:00",
          "2022-04-12T00:00:00",
          "2022-04-13T00:00:00",
          "2022-04-14T00:00:00",
          "2022-04-18T00:00:00",
          "2022-04-19T00:00:00",
          "2022-04-20T00:00:00",
          "2022-04-21T00:00:00",
          "2022-04-22T00:00:00",
          "2022-04-25T00:00:00",
          "2022-04-26T00:00:00",
          "2022-04-27T00:00:00",
          "2022-04-28T00:00:00",
          "2022-04-29T00:00:00",
          "2022-05-02T00:00:00",
          "2022-05-03T00:00:00",
          "2022-05-04T00:00:00",
          "2022-05-05T00:00:00",
          "2022-05-06T00:00:00",
          "2022-05-09T00:00:00"
         ],
         "xaxis": "x",
         "y": [
          753790.4068211333,
          753952.5735859562,
          754100.8360661754,
          754221.6352234214,
          754443.6325683764,
          754244.2427462914,
          754044.8529242068,
          753845.463102122,
          753646.073280037,
          753047.9038137827,
          752848.5139916978,
          752649.1241696131,
          752449.7343475283,
          752250.3445254435,
          751652.175059189,
          751452.7852371043,
          751253.3954150195,
          751054.0055929347,
          750854.6157708499,
          750256.4463045956
         ],
         "yaxis": "y"
        },
        {
         "hovertemplate": "variable=trend_upper<br>index=%{x}<br>value=%{y}<extra></extra>",
         "legendgroup": "trend_upper",
         "line": {
          "color": "#19d3f3",
          "dash": "solid"
         },
         "marker": {
          "symbol": "circle"
         },
         "mode": "lines",
         "name": "trend_upper",
         "orientation": "v",
         "showlegend": true,
         "type": "scatter",
         "x": [
          "2022-04-11T00:00:00",
          "2022-04-12T00:00:00",
          "2022-04-13T00:00:00",
          "2022-04-14T00:00:00",
          "2022-04-18T00:00:00",
          "2022-04-19T00:00:00",
          "2022-04-20T00:00:00",
          "2022-04-21T00:00:00",
          "2022-04-22T00:00:00",
          "2022-04-25T00:00:00",
          "2022-04-26T00:00:00",
          "2022-04-27T00:00:00",
          "2022-04-28T00:00:00",
          "2022-04-29T00:00:00",
          "2022-05-02T00:00:00",
          "2022-05-03T00:00:00",
          "2022-05-04T00:00:00",
          "2022-05-05T00:00:00",
          "2022-05-06T00:00:00",
          "2022-05-09T00:00:00"
         ],
         "xaxis": "x",
         "y": [
          754200.651758005,
          754538.535633553,
          754913.9438935961,
          755307.5353684968,
          756881.9012680991,
          757275.4927429997,
          757669.0842179002,
          758062.6756928009,
          758456.2671677017,
          759637.0415924035,
          760030.633067304,
          760424.2245422048,
          760817.8160171051,
          761211.4074920058,
          762392.1819167079,
          762785.7733916086,
          763179.364866509,
          763572.9563414097,
          763966.5478163102,
          765147.322241012
         ],
         "yaxis": "y"
        },
        {
         "hovertemplate": "variable=additive_terms<br>index=%{x}<br>value=%{y}<extra></extra>",
         "legendgroup": "additive_terms",
         "line": {
          "color": "#FF6692",
          "dash": "solid"
         },
         "marker": {
          "symbol": "circle"
         },
         "mode": "lines",
         "name": "additive_terms",
         "orientation": "v",
         "showlegend": true,
         "type": "scatter",
         "x": [
          "2022-04-11T00:00:00",
          "2022-04-12T00:00:00",
          "2022-04-13T00:00:00",
          "2022-04-14T00:00:00",
          "2022-04-18T00:00:00",
          "2022-04-19T00:00:00",
          "2022-04-20T00:00:00",
          "2022-04-21T00:00:00",
          "2022-04-22T00:00:00",
          "2022-04-25T00:00:00",
          "2022-04-26T00:00:00",
          "2022-04-27T00:00:00",
          "2022-04-28T00:00:00",
          "2022-04-29T00:00:00",
          "2022-05-02T00:00:00",
          "2022-05-03T00:00:00",
          "2022-05-04T00:00:00",
          "2022-05-05T00:00:00",
          "2022-05-06T00:00:00",
          "2022-05-09T00:00:00"
         ],
         "xaxis": "x",
         "y": [
          -283245.8678029843,
          -283705.9566536975,
          -283837.0299918884,
          -283694.740404528,
          -282845.8047086242,
          -283096.0469658781,
          -283038.7116164255,
          -282734.14904825465,
          -282197.158819833,
          -281571.18563982926,
          -281838.7288014696,
          -281838.8953093124,
          -281631.39657196164,
          -281229.48195871065,
          -281208.37600288366,
          -281730.7491161028,
          -282004.0631503303,
          -282082.3235767882,
          -281972.7662386576,
          -282806.5851999241
         ],
         "yaxis": "y"
        },
        {
         "hovertemplate": "variable=additive_terms_lower<br>index=%{x}<br>value=%{y}<extra></extra>",
         "legendgroup": "additive_terms_lower",
         "line": {
          "color": "#B6E880",
          "dash": "solid"
         },
         "marker": {
          "symbol": "circle"
         },
         "mode": "lines",
         "name": "additive_terms_lower",
         "orientation": "v",
         "showlegend": true,
         "type": "scatter",
         "x": [
          "2022-04-11T00:00:00",
          "2022-04-12T00:00:00",
          "2022-04-13T00:00:00",
          "2022-04-14T00:00:00",
          "2022-04-18T00:00:00",
          "2022-04-19T00:00:00",
          "2022-04-20T00:00:00",
          "2022-04-21T00:00:00",
          "2022-04-22T00:00:00",
          "2022-04-25T00:00:00",
          "2022-04-26T00:00:00",
          "2022-04-27T00:00:00",
          "2022-04-28T00:00:00",
          "2022-04-29T00:00:00",
          "2022-05-02T00:00:00",
          "2022-05-03T00:00:00",
          "2022-05-04T00:00:00",
          "2022-05-05T00:00:00",
          "2022-05-06T00:00:00",
          "2022-05-09T00:00:00"
         ],
         "xaxis": "x",
         "y": [
          -283245.8678029843,
          -283705.9566536975,
          -283837.0299918884,
          -283694.740404528,
          -282845.8047086242,
          -283096.0469658781,
          -283038.7116164255,
          -282734.14904825465,
          -282197.158819833,
          -281571.18563982926,
          -281838.7288014696,
          -281838.8953093124,
          -281631.39657196164,
          -281229.48195871065,
          -281208.37600288366,
          -281730.7491161028,
          -282004.0631503303,
          -282082.3235767882,
          -281972.7662386576,
          -282806.5851999241
         ],
         "yaxis": "y"
        },
        {
         "hovertemplate": "variable=additive_terms_upper<br>index=%{x}<br>value=%{y}<extra></extra>",
         "legendgroup": "additive_terms_upper",
         "line": {
          "color": "#FF97FF",
          "dash": "solid"
         },
         "marker": {
          "symbol": "circle"
         },
         "mode": "lines",
         "name": "additive_terms_upper",
         "orientation": "v",
         "showlegend": true,
         "type": "scatter",
         "x": [
          "2022-04-11T00:00:00",
          "2022-04-12T00:00:00",
          "2022-04-13T00:00:00",
          "2022-04-14T00:00:00",
          "2022-04-18T00:00:00",
          "2022-04-19T00:00:00",
          "2022-04-20T00:00:00",
          "2022-04-21T00:00:00",
          "2022-04-22T00:00:00",
          "2022-04-25T00:00:00",
          "2022-04-26T00:00:00",
          "2022-04-27T00:00:00",
          "2022-04-28T00:00:00",
          "2022-04-29T00:00:00",
          "2022-05-02T00:00:00",
          "2022-05-03T00:00:00",
          "2022-05-04T00:00:00",
          "2022-05-05T00:00:00",
          "2022-05-06T00:00:00",
          "2022-05-09T00:00:00"
         ],
         "xaxis": "x",
         "y": [
          -283245.8678029843,
          -283705.9566536975,
          -283837.0299918884,
          -283694.740404528,
          -282845.8047086242,
          -283096.0469658781,
          -283038.7116164255,
          -282734.14904825465,
          -282197.158819833,
          -281571.18563982926,
          -281838.7288014696,
          -281838.8953093124,
          -281631.39657196164,
          -281229.48195871065,
          -281208.37600288366,
          -281730.7491161028,
          -282004.0631503303,
          -282082.3235767882,
          -281972.7662386576,
          -282806.5851999241
         ],
         "yaxis": "y"
        },
        {
         "hovertemplate": "variable=daily<br>index=%{x}<br>value=%{y}<extra></extra>",
         "legendgroup": "daily",
         "line": {
          "color": "#FECB52",
          "dash": "solid"
         },
         "marker": {
          "symbol": "circle"
         },
         "mode": "lines",
         "name": "daily",
         "orientation": "v",
         "showlegend": true,
         "type": "scatter",
         "x": [
          "2022-04-11T00:00:00",
          "2022-04-12T00:00:00",
          "2022-04-13T00:00:00",
          "2022-04-14T00:00:00",
          "2022-04-18T00:00:00",
          "2022-04-19T00:00:00",
          "2022-04-20T00:00:00",
          "2022-04-21T00:00:00",
          "2022-04-22T00:00:00",
          "2022-04-25T00:00:00",
          "2022-04-26T00:00:00",
          "2022-04-27T00:00:00",
          "2022-04-28T00:00:00",
          "2022-04-29T00:00:00",
          "2022-05-02T00:00:00",
          "2022-05-03T00:00:00",
          "2022-05-04T00:00:00",
          "2022-05-05T00:00:00",
          "2022-05-06T00:00:00",
          "2022-05-09T00:00:00"
         ],
         "xaxis": "x",
         "y": [
          -270559.20064340497,
          -270559.20064340497,
          -270559.20064340497,
          -270559.20064340497,
          -270559.20064340497,
          -270559.20064340497,
          -270559.20064340497,
          -270559.20064340497,
          -270559.20064340497,
          -270559.20064340497,
          -270559.20064340497,
          -270559.20064340497,
          -270559.20064340497,
          -270559.20064340497,
          -270559.20064340497,
          -270559.20064340497,
          -270559.20064340497,
          -270559.20064340497,
          -270559.20064340497,
          -270559.20064340497
         ],
         "yaxis": "y"
        },
        {
         "hovertemplate": "variable=daily_lower<br>index=%{x}<br>value=%{y}<extra></extra>",
         "legendgroup": "daily_lower",
         "line": {
          "color": "#636efa",
          "dash": "solid"
         },
         "marker": {
          "symbol": "circle"
         },
         "mode": "lines",
         "name": "daily_lower",
         "orientation": "v",
         "showlegend": true,
         "type": "scatter",
         "x": [
          "2022-04-11T00:00:00",
          "2022-04-12T00:00:00",
          "2022-04-13T00:00:00",
          "2022-04-14T00:00:00",
          "2022-04-18T00:00:00",
          "2022-04-19T00:00:00",
          "2022-04-20T00:00:00",
          "2022-04-21T00:00:00",
          "2022-04-22T00:00:00",
          "2022-04-25T00:00:00",
          "2022-04-26T00:00:00",
          "2022-04-27T00:00:00",
          "2022-04-28T00:00:00",
          "2022-04-29T00:00:00",
          "2022-05-02T00:00:00",
          "2022-05-03T00:00:00",
          "2022-05-04T00:00:00",
          "2022-05-05T00:00:00",
          "2022-05-06T00:00:00",
          "2022-05-09T00:00:00"
         ],
         "xaxis": "x",
         "y": [
          -270559.20064340497,
          -270559.20064340497,
          -270559.20064340497,
          -270559.20064340497,
          -270559.20064340497,
          -270559.20064340497,
          -270559.20064340497,
          -270559.20064340497,
          -270559.20064340497,
          -270559.20064340497,
          -270559.20064340497,
          -270559.20064340497,
          -270559.20064340497,
          -270559.20064340497,
          -270559.20064340497,
          -270559.20064340497,
          -270559.20064340497,
          -270559.20064340497,
          -270559.20064340497,
          -270559.20064340497
         ],
         "yaxis": "y"
        },
        {
         "hovertemplate": "variable=daily_upper<br>index=%{x}<br>value=%{y}<extra></extra>",
         "legendgroup": "daily_upper",
         "line": {
          "color": "#EF553B",
          "dash": "solid"
         },
         "marker": {
          "symbol": "circle"
         },
         "mode": "lines",
         "name": "daily_upper",
         "orientation": "v",
         "showlegend": true,
         "type": "scatter",
         "x": [
          "2022-04-11T00:00:00",
          "2022-04-12T00:00:00",
          "2022-04-13T00:00:00",
          "2022-04-14T00:00:00",
          "2022-04-18T00:00:00",
          "2022-04-19T00:00:00",
          "2022-04-20T00:00:00",
          "2022-04-21T00:00:00",
          "2022-04-22T00:00:00",
          "2022-04-25T00:00:00",
          "2022-04-26T00:00:00",
          "2022-04-27T00:00:00",
          "2022-04-28T00:00:00",
          "2022-04-29T00:00:00",
          "2022-05-02T00:00:00",
          "2022-05-03T00:00:00",
          "2022-05-04T00:00:00",
          "2022-05-05T00:00:00",
          "2022-05-06T00:00:00",
          "2022-05-09T00:00:00"
         ],
         "xaxis": "x",
         "y": [
          -270559.20064340497,
          -270559.20064340497,
          -270559.20064340497,
          -270559.20064340497,
          -270559.20064340497,
          -270559.20064340497,
          -270559.20064340497,
          -270559.20064340497,
          -270559.20064340497,
          -270559.20064340497,
          -270559.20064340497,
          -270559.20064340497,
          -270559.20064340497,
          -270559.20064340497,
          -270559.20064340497,
          -270559.20064340497,
          -270559.20064340497,
          -270559.20064340497,
          -270559.20064340497,
          -270559.20064340497
         ],
         "yaxis": "y"
        },
        {
         "hovertemplate": "variable=weekly<br>index=%{x}<br>value=%{y}<extra></extra>",
         "legendgroup": "weekly",
         "line": {
          "color": "#00cc96",
          "dash": "solid"
         },
         "marker": {
          "symbol": "circle"
         },
         "mode": "lines",
         "name": "weekly",
         "orientation": "v",
         "showlegend": true,
         "type": "scatter",
         "x": [
          "2022-04-11T00:00:00",
          "2022-04-12T00:00:00",
          "2022-04-13T00:00:00",
          "2022-04-14T00:00:00",
          "2022-04-18T00:00:00",
          "2022-04-19T00:00:00",
          "2022-04-20T00:00:00",
          "2022-04-21T00:00:00",
          "2022-04-22T00:00:00",
          "2022-04-25T00:00:00",
          "2022-04-26T00:00:00",
          "2022-04-27T00:00:00",
          "2022-04-28T00:00:00",
          "2022-04-29T00:00:00",
          "2022-05-02T00:00:00",
          "2022-05-03T00:00:00",
          "2022-05-04T00:00:00",
          "2022-05-05T00:00:00",
          "2022-05-06T00:00:00",
          "2022-05-09T00:00:00"
         ],
         "xaxis": "x",
         "y": [
          -13235.068161305562,
          -13651.386140536633,
          -13774.983481564053,
          -13660.729269972622,
          -13235.06816137247,
          -13651.386140523531,
          -13774.983481564092,
          -13660.729269937026,
          -13317.632943657141,
          -13235.0681613717,
          -13651.386140558961,
          -13774.983481564124,
          -13660.72926993148,
          -13317.63294365781,
          -13235.068161265075,
          -13651.386140545856,
          -13774.983481564035,
          -13660.729269963182,
          -13317.632943658477,
          -13235.068161298144
         ],
         "yaxis": "y"
        },
        {
         "hovertemplate": "variable=weekly_lower<br>index=%{x}<br>value=%{y}<extra></extra>",
         "legendgroup": "weekly_lower",
         "line": {
          "color": "#ab63fa",
          "dash": "solid"
         },
         "marker": {
          "symbol": "circle"
         },
         "mode": "lines",
         "name": "weekly_lower",
         "orientation": "v",
         "showlegend": true,
         "type": "scatter",
         "x": [
          "2022-04-11T00:00:00",
          "2022-04-12T00:00:00",
          "2022-04-13T00:00:00",
          "2022-04-14T00:00:00",
          "2022-04-18T00:00:00",
          "2022-04-19T00:00:00",
          "2022-04-20T00:00:00",
          "2022-04-21T00:00:00",
          "2022-04-22T00:00:00",
          "2022-04-25T00:00:00",
          "2022-04-26T00:00:00",
          "2022-04-27T00:00:00",
          "2022-04-28T00:00:00",
          "2022-04-29T00:00:00",
          "2022-05-02T00:00:00",
          "2022-05-03T00:00:00",
          "2022-05-04T00:00:00",
          "2022-05-05T00:00:00",
          "2022-05-06T00:00:00",
          "2022-05-09T00:00:00"
         ],
         "xaxis": "x",
         "y": [
          -13235.068161305562,
          -13651.386140536633,
          -13774.983481564053,
          -13660.729269972622,
          -13235.06816137247,
          -13651.386140523531,
          -13774.983481564092,
          -13660.729269937026,
          -13317.632943657141,
          -13235.0681613717,
          -13651.386140558961,
          -13774.983481564124,
          -13660.72926993148,
          -13317.63294365781,
          -13235.068161265075,
          -13651.386140545856,
          -13774.983481564035,
          -13660.729269963182,
          -13317.632943658477,
          -13235.068161298144
         ],
         "yaxis": "y"
        },
        {
         "hovertemplate": "variable=weekly_upper<br>index=%{x}<br>value=%{y}<extra></extra>",
         "legendgroup": "weekly_upper",
         "line": {
          "color": "#FFA15A",
          "dash": "solid"
         },
         "marker": {
          "symbol": "circle"
         },
         "mode": "lines",
         "name": "weekly_upper",
         "orientation": "v",
         "showlegend": true,
         "type": "scatter",
         "x": [
          "2022-04-11T00:00:00",
          "2022-04-12T00:00:00",
          "2022-04-13T00:00:00",
          "2022-04-14T00:00:00",
          "2022-04-18T00:00:00",
          "2022-04-19T00:00:00",
          "2022-04-20T00:00:00",
          "2022-04-21T00:00:00",
          "2022-04-22T00:00:00",
          "2022-04-25T00:00:00",
          "2022-04-26T00:00:00",
          "2022-04-27T00:00:00",
          "2022-04-28T00:00:00",
          "2022-04-29T00:00:00",
          "2022-05-02T00:00:00",
          "2022-05-03T00:00:00",
          "2022-05-04T00:00:00",
          "2022-05-05T00:00:00",
          "2022-05-06T00:00:00",
          "2022-05-09T00:00:00"
         ],
         "xaxis": "x",
         "y": [
          -13235.068161305562,
          -13651.386140536633,
          -13774.983481564053,
          -13660.729269972622,
          -13235.06816137247,
          -13651.386140523531,
          -13774.983481564092,
          -13660.729269937026,
          -13317.632943657141,
          -13235.0681613717,
          -13651.386140558961,
          -13774.983481564124,
          -13660.72926993148,
          -13317.63294365781,
          -13235.068161265075,
          -13651.386140545856,
          -13774.983481564035,
          -13660.729269963182,
          -13317.632943658477,
          -13235.068161298144
         ],
         "yaxis": "y"
        },
        {
         "hovertemplate": "variable=yearly<br>index=%{x}<br>value=%{y}<extra></extra>",
         "legendgroup": "yearly",
         "line": {
          "color": "#19d3f3",
          "dash": "solid"
         },
         "marker": {
          "symbol": "circle"
         },
         "mode": "lines",
         "name": "yearly",
         "orientation": "v",
         "showlegend": true,
         "type": "scatter",
         "x": [
          "2022-04-11T00:00:00",
          "2022-04-12T00:00:00",
          "2022-04-13T00:00:00",
          "2022-04-14T00:00:00",
          "2022-04-18T00:00:00",
          "2022-04-19T00:00:00",
          "2022-04-20T00:00:00",
          "2022-04-21T00:00:00",
          "2022-04-22T00:00:00",
          "2022-04-25T00:00:00",
          "2022-04-26T00:00:00",
          "2022-04-27T00:00:00",
          "2022-04-28T00:00:00",
          "2022-04-29T00:00:00",
          "2022-05-02T00:00:00",
          "2022-05-03T00:00:00",
          "2022-05-04T00:00:00",
          "2022-05-05T00:00:00",
          "2022-05-06T00:00:00",
          "2022-05-09T00:00:00"
         ],
         "xaxis": "x",
         "y": [
          548.4010017262308,
          504.63013024409247,
          497.1541330806601,
          525.1895088496295,
          948.4640961532276,
          1114.5398180503878,
          1295.4725085435407,
          1485.780865087368,
          1679.674767229097,
          2223.083164947435,
          2371.8579824943663,
          2495.2888156567296,
          2588.533341374819,
          2647.351628352126,
          2585.892801786357,
          2479.8376678479935,
          2330.120974638736,
          2137.6063365799723,
          1904.0673484058561,
          987.6836047790255
         ],
         "yaxis": "y"
        },
        {
         "hovertemplate": "variable=yearly_lower<br>index=%{x}<br>value=%{y}<extra></extra>",
         "legendgroup": "yearly_lower",
         "line": {
          "color": "#FF6692",
          "dash": "solid"
         },
         "marker": {
          "symbol": "circle"
         },
         "mode": "lines",
         "name": "yearly_lower",
         "orientation": "v",
         "showlegend": true,
         "type": "scatter",
         "x": [
          "2022-04-11T00:00:00",
          "2022-04-12T00:00:00",
          "2022-04-13T00:00:00",
          "2022-04-14T00:00:00",
          "2022-04-18T00:00:00",
          "2022-04-19T00:00:00",
          "2022-04-20T00:00:00",
          "2022-04-21T00:00:00",
          "2022-04-22T00:00:00",
          "2022-04-25T00:00:00",
          "2022-04-26T00:00:00",
          "2022-04-27T00:00:00",
          "2022-04-28T00:00:00",
          "2022-04-29T00:00:00",
          "2022-05-02T00:00:00",
          "2022-05-03T00:00:00",
          "2022-05-04T00:00:00",
          "2022-05-05T00:00:00",
          "2022-05-06T00:00:00",
          "2022-05-09T00:00:00"
         ],
         "xaxis": "x",
         "y": [
          548.4010017262308,
          504.63013024409247,
          497.1541330806601,
          525.1895088496295,
          948.4640961532276,
          1114.5398180503878,
          1295.4725085435407,
          1485.780865087368,
          1679.674767229097,
          2223.083164947435,
          2371.8579824943663,
          2495.2888156567296,
          2588.533341374819,
          2647.351628352126,
          2585.892801786357,
          2479.8376678479935,
          2330.120974638736,
          2137.6063365799723,
          1904.0673484058561,
          987.6836047790255
         ],
         "yaxis": "y"
        },
        {
         "hovertemplate": "variable=yearly_upper<br>index=%{x}<br>value=%{y}<extra></extra>",
         "legendgroup": "yearly_upper",
         "line": {
          "color": "#B6E880",
          "dash": "solid"
         },
         "marker": {
          "symbol": "circle"
         },
         "mode": "lines",
         "name": "yearly_upper",
         "orientation": "v",
         "showlegend": true,
         "type": "scatter",
         "x": [
          "2022-04-11T00:00:00",
          "2022-04-12T00:00:00",
          "2022-04-13T00:00:00",
          "2022-04-14T00:00:00",
          "2022-04-18T00:00:00",
          "2022-04-19T00:00:00",
          "2022-04-20T00:00:00",
          "2022-04-21T00:00:00",
          "2022-04-22T00:00:00",
          "2022-04-25T00:00:00",
          "2022-04-26T00:00:00",
          "2022-04-27T00:00:00",
          "2022-04-28T00:00:00",
          "2022-04-29T00:00:00",
          "2022-05-02T00:00:00",
          "2022-05-03T00:00:00",
          "2022-05-04T00:00:00",
          "2022-05-05T00:00:00",
          "2022-05-06T00:00:00",
          "2022-05-09T00:00:00"
         ],
         "xaxis": "x",
         "y": [
          548.4010017262308,
          504.63013024409247,
          497.1541330806601,
          525.1895088496295,
          948.4640961532276,
          1114.5398180503878,
          1295.4725085435407,
          1485.780865087368,
          1679.674767229097,
          2223.083164947435,
          2371.8579824943663,
          2495.2888156567296,
          2588.533341374819,
          2647.351628352126,
          2585.892801786357,
          2479.8376678479935,
          2330.120974638736,
          2137.6063365799723,
          1904.0673484058561,
          987.6836047790255
         ],
         "yaxis": "y"
        },
        {
         "hovertemplate": "variable=multiplicative_terms<br>index=%{x}<br>value=%{y}<extra></extra>",
         "legendgroup": "multiplicative_terms",
         "line": {
          "color": "#FF97FF",
          "dash": "solid"
         },
         "marker": {
          "symbol": "circle"
         },
         "mode": "lines",
         "name": "multiplicative_terms",
         "orientation": "v",
         "showlegend": true,
         "type": "scatter",
         "x": [
          "2022-04-11T00:00:00",
          "2022-04-12T00:00:00",
          "2022-04-13T00:00:00",
          "2022-04-14T00:00:00",
          "2022-04-18T00:00:00",
          "2022-04-19T00:00:00",
          "2022-04-20T00:00:00",
          "2022-04-21T00:00:00",
          "2022-04-22T00:00:00",
          "2022-04-25T00:00:00",
          "2022-04-26T00:00:00",
          "2022-04-27T00:00:00",
          "2022-04-28T00:00:00",
          "2022-04-29T00:00:00",
          "2022-05-02T00:00:00",
          "2022-05-03T00:00:00",
          "2022-05-04T00:00:00",
          "2022-05-05T00:00:00",
          "2022-05-06T00:00:00",
          "2022-05-09T00:00:00"
         ],
         "xaxis": "x",
         "y": [
          0,
          0,
          0,
          0,
          0,
          0,
          0,
          0,
          0,
          0,
          0,
          0,
          0,
          0,
          0,
          0,
          0,
          0,
          0,
          0
         ],
         "yaxis": "y"
        },
        {
         "hovertemplate": "variable=multiplicative_terms_lower<br>index=%{x}<br>value=%{y}<extra></extra>",
         "legendgroup": "multiplicative_terms_lower",
         "line": {
          "color": "#FECB52",
          "dash": "solid"
         },
         "marker": {
          "symbol": "circle"
         },
         "mode": "lines",
         "name": "multiplicative_terms_lower",
         "orientation": "v",
         "showlegend": true,
         "type": "scatter",
         "x": [
          "2022-04-11T00:00:00",
          "2022-04-12T00:00:00",
          "2022-04-13T00:00:00",
          "2022-04-14T00:00:00",
          "2022-04-18T00:00:00",
          "2022-04-19T00:00:00",
          "2022-04-20T00:00:00",
          "2022-04-21T00:00:00",
          "2022-04-22T00:00:00",
          "2022-04-25T00:00:00",
          "2022-04-26T00:00:00",
          "2022-04-27T00:00:00",
          "2022-04-28T00:00:00",
          "2022-04-29T00:00:00",
          "2022-05-02T00:00:00",
          "2022-05-03T00:00:00",
          "2022-05-04T00:00:00",
          "2022-05-05T00:00:00",
          "2022-05-06T00:00:00",
          "2022-05-09T00:00:00"
         ],
         "xaxis": "x",
         "y": [
          0,
          0,
          0,
          0,
          0,
          0,
          0,
          0,
          0,
          0,
          0,
          0,
          0,
          0,
          0,
          0,
          0,
          0,
          0,
          0
         ],
         "yaxis": "y"
        },
        {
         "hovertemplate": "variable=multiplicative_terms_upper<br>index=%{x}<br>value=%{y}<extra></extra>",
         "legendgroup": "multiplicative_terms_upper",
         "line": {
          "color": "#636efa",
          "dash": "solid"
         },
         "marker": {
          "symbol": "circle"
         },
         "mode": "lines",
         "name": "multiplicative_terms_upper",
         "orientation": "v",
         "showlegend": true,
         "type": "scatter",
         "x": [
          "2022-04-11T00:00:00",
          "2022-04-12T00:00:00",
          "2022-04-13T00:00:00",
          "2022-04-14T00:00:00",
          "2022-04-18T00:00:00",
          "2022-04-19T00:00:00",
          "2022-04-20T00:00:00",
          "2022-04-21T00:00:00",
          "2022-04-22T00:00:00",
          "2022-04-25T00:00:00",
          "2022-04-26T00:00:00",
          "2022-04-27T00:00:00",
          "2022-04-28T00:00:00",
          "2022-04-29T00:00:00",
          "2022-05-02T00:00:00",
          "2022-05-03T00:00:00",
          "2022-05-04T00:00:00",
          "2022-05-05T00:00:00",
          "2022-05-06T00:00:00",
          "2022-05-09T00:00:00"
         ],
         "xaxis": "x",
         "y": [
          0,
          0,
          0,
          0,
          0,
          0,
          0,
          0,
          0,
          0,
          0,
          0,
          0,
          0,
          0,
          0,
          0,
          0,
          0,
          0
         ],
         "yaxis": "y"
        },
        {
         "hovertemplate": "variable=pred<br>index=%{x}<br>value=%{y}<extra></extra>",
         "legendgroup": "pred",
         "line": {
          "color": "#EF553B",
          "dash": "solid"
         },
         "marker": {
          "symbol": "circle"
         },
         "mode": "lines",
         "name": "pred",
         "orientation": "v",
         "showlegend": true,
         "type": "scatter",
         "x": [
          "2022-04-11T00:00:00",
          "2022-04-12T00:00:00",
          "2022-04-13T00:00:00",
          "2022-04-14T00:00:00",
          "2022-04-18T00:00:00",
          "2022-04-19T00:00:00",
          "2022-04-20T00:00:00",
          "2022-04-21T00:00:00",
          "2022-04-22T00:00:00",
          "2022-04-25T00:00:00",
          "2022-04-26T00:00:00",
          "2022-04-27T00:00:00",
          "2022-04-28T00:00:00",
          "2022-04-29T00:00:00",
          "2022-05-02T00:00:00",
          "2022-05-03T00:00:00",
          "2022-05-04T00:00:00",
          "2022-05-05T00:00:00",
          "2022-05-06T00:00:00",
          "2022-05-09T00:00:00"
         ],
         "xaxis": "x",
         "y": [
          470636.59823782067,
          470392.8939351021,
          470478.205144906,
          470836.8792802611,
          472551.35316814337,
          472517.49545888416,
          472791.2153563314,
          473312.1624724969,
          474065.5372489134,
          475340.6640729011,
          475289.50545925536,
          475505.7234994072,
          475929.6067847525,
          476547.9059459982,
          477218.1655458093,
          476912.17698058486,
          476855.247494352,
          476993.3716158888,
          477319.313502014,
          477134.6481847313
         ],
         "yaxis": "y"
        },
        {
         "hovertemplate": "variable=y<br>index=%{x}<br>value=%{y}<extra></extra>",
         "legendgroup": "y",
         "line": {
          "color": "#00cc96",
          "dash": "solid"
         },
         "marker": {
          "symbol": "circle"
         },
         "mode": "lines",
         "name": "y",
         "orientation": "v",
         "showlegend": true,
         "type": "scatter",
         "x": [
          "2022-04-11T00:00:00",
          "2022-04-12T00:00:00",
          "2022-04-13T00:00:00",
          "2022-04-14T00:00:00",
          "2022-04-18T00:00:00",
          "2022-04-19T00:00:00",
          "2022-04-20T00:00:00",
          "2022-04-21T00:00:00",
          "2022-04-22T00:00:00",
          "2022-04-25T00:00:00",
          "2022-04-26T00:00:00",
          "2022-04-27T00:00:00",
          "2022-04-28T00:00:00",
          "2022-04-29T00:00:00",
          "2022-05-02T00:00:00",
          "2022-05-03T00:00:00",
          "2022-05-04T00:00:00",
          "2022-05-05T00:00:00",
          "2022-05-06T00:00:00",
          "2022-05-09T00:00:00"
         ],
         "xaxis": "x",
         "y": [
          529000,
          527590,
          524271,
          519800,
          516435,
          519499,
          523260,
          522901,
          515815,
          505440,
          506200,
          497777,
          496800,
          499000,
          484340,
          478150,
          481198,
          494343,
          481400,
          479500
         ],
         "yaxis": "y"
        }
       ],
       "layout": {
        "legend": {
         "title": {
          "text": "variable"
         },
         "tracegroupgap": 0
        },
        "margin": {
         "t": 60
        },
        "template": {
         "data": {
          "bar": [
           {
            "error_x": {
             "color": "#2a3f5f"
            },
            "error_y": {
             "color": "#2a3f5f"
            },
            "marker": {
             "line": {
              "color": "#E5ECF6",
              "width": 0.5
             },
             "pattern": {
              "fillmode": "overlay",
              "size": 10,
              "solidity": 0.2
             }
            },
            "type": "bar"
           }
          ],
          "barpolar": [
           {
            "marker": {
             "line": {
              "color": "#E5ECF6",
              "width": 0.5
             },
             "pattern": {
              "fillmode": "overlay",
              "size": 10,
              "solidity": 0.2
             }
            },
            "type": "barpolar"
           }
          ],
          "carpet": [
           {
            "aaxis": {
             "endlinecolor": "#2a3f5f",
             "gridcolor": "white",
             "linecolor": "white",
             "minorgridcolor": "white",
             "startlinecolor": "#2a3f5f"
            },
            "baxis": {
             "endlinecolor": "#2a3f5f",
             "gridcolor": "white",
             "linecolor": "white",
             "minorgridcolor": "white",
             "startlinecolor": "#2a3f5f"
            },
            "type": "carpet"
           }
          ],
          "choropleth": [
           {
            "colorbar": {
             "outlinewidth": 0,
             "ticks": ""
            },
            "type": "choropleth"
           }
          ],
          "contour": [
           {
            "colorbar": {
             "outlinewidth": 0,
             "ticks": ""
            },
            "colorscale": [
             [
              0,
              "#0d0887"
             ],
             [
              0.1111111111111111,
              "#46039f"
             ],
             [
              0.2222222222222222,
              "#7201a8"
             ],
             [
              0.3333333333333333,
              "#9c179e"
             ],
             [
              0.4444444444444444,
              "#bd3786"
             ],
             [
              0.5555555555555556,
              "#d8576b"
             ],
             [
              0.6666666666666666,
              "#ed7953"
             ],
             [
              0.7777777777777778,
              "#fb9f3a"
             ],
             [
              0.8888888888888888,
              "#fdca26"
             ],
             [
              1,
              "#f0f921"
             ]
            ],
            "type": "contour"
           }
          ],
          "contourcarpet": [
           {
            "colorbar": {
             "outlinewidth": 0,
             "ticks": ""
            },
            "type": "contourcarpet"
           }
          ],
          "heatmap": [
           {
            "colorbar": {
             "outlinewidth": 0,
             "ticks": ""
            },
            "colorscale": [
             [
              0,
              "#0d0887"
             ],
             [
              0.1111111111111111,
              "#46039f"
             ],
             [
              0.2222222222222222,
              "#7201a8"
             ],
             [
              0.3333333333333333,
              "#9c179e"
             ],
             [
              0.4444444444444444,
              "#bd3786"
             ],
             [
              0.5555555555555556,
              "#d8576b"
             ],
             [
              0.6666666666666666,
              "#ed7953"
             ],
             [
              0.7777777777777778,
              "#fb9f3a"
             ],
             [
              0.8888888888888888,
              "#fdca26"
             ],
             [
              1,
              "#f0f921"
             ]
            ],
            "type": "heatmap"
           }
          ],
          "heatmapgl": [
           {
            "colorbar": {
             "outlinewidth": 0,
             "ticks": ""
            },
            "colorscale": [
             [
              0,
              "#0d0887"
             ],
             [
              0.1111111111111111,
              "#46039f"
             ],
             [
              0.2222222222222222,
              "#7201a8"
             ],
             [
              0.3333333333333333,
              "#9c179e"
             ],
             [
              0.4444444444444444,
              "#bd3786"
             ],
             [
              0.5555555555555556,
              "#d8576b"
             ],
             [
              0.6666666666666666,
              "#ed7953"
             ],
             [
              0.7777777777777778,
              "#fb9f3a"
             ],
             [
              0.8888888888888888,
              "#fdca26"
             ],
             [
              1,
              "#f0f921"
             ]
            ],
            "type": "heatmapgl"
           }
          ],
          "histogram": [
           {
            "marker": {
             "pattern": {
              "fillmode": "overlay",
              "size": 10,
              "solidity": 0.2
             }
            },
            "type": "histogram"
           }
          ],
          "histogram2d": [
           {
            "colorbar": {
             "outlinewidth": 0,
             "ticks": ""
            },
            "colorscale": [
             [
              0,
              "#0d0887"
             ],
             [
              0.1111111111111111,
              "#46039f"
             ],
             [
              0.2222222222222222,
              "#7201a8"
             ],
             [
              0.3333333333333333,
              "#9c179e"
             ],
             [
              0.4444444444444444,
              "#bd3786"
             ],
             [
              0.5555555555555556,
              "#d8576b"
             ],
             [
              0.6666666666666666,
              "#ed7953"
             ],
             [
              0.7777777777777778,
              "#fb9f3a"
             ],
             [
              0.8888888888888888,
              "#fdca26"
             ],
             [
              1,
              "#f0f921"
             ]
            ],
            "type": "histogram2d"
           }
          ],
          "histogram2dcontour": [
           {
            "colorbar": {
             "outlinewidth": 0,
             "ticks": ""
            },
            "colorscale": [
             [
              0,
              "#0d0887"
             ],
             [
              0.1111111111111111,
              "#46039f"
             ],
             [
              0.2222222222222222,
              "#7201a8"
             ],
             [
              0.3333333333333333,
              "#9c179e"
             ],
             [
              0.4444444444444444,
              "#bd3786"
             ],
             [
              0.5555555555555556,
              "#d8576b"
             ],
             [
              0.6666666666666666,
              "#ed7953"
             ],
             [
              0.7777777777777778,
              "#fb9f3a"
             ],
             [
              0.8888888888888888,
              "#fdca26"
             ],
             [
              1,
              "#f0f921"
             ]
            ],
            "type": "histogram2dcontour"
           }
          ],
          "mesh3d": [
           {
            "colorbar": {
             "outlinewidth": 0,
             "ticks": ""
            },
            "type": "mesh3d"
           }
          ],
          "parcoords": [
           {
            "line": {
             "colorbar": {
              "outlinewidth": 0,
              "ticks": ""
             }
            },
            "type": "parcoords"
           }
          ],
          "pie": [
           {
            "automargin": true,
            "type": "pie"
           }
          ],
          "scatter": [
           {
            "fillpattern": {
             "fillmode": "overlay",
             "size": 10,
             "solidity": 0.2
            },
            "type": "scatter"
           }
          ],
          "scatter3d": [
           {
            "line": {
             "colorbar": {
              "outlinewidth": 0,
              "ticks": ""
             }
            },
            "marker": {
             "colorbar": {
              "outlinewidth": 0,
              "ticks": ""
             }
            },
            "type": "scatter3d"
           }
          ],
          "scattercarpet": [
           {
            "marker": {
             "colorbar": {
              "outlinewidth": 0,
              "ticks": ""
             }
            },
            "type": "scattercarpet"
           }
          ],
          "scattergeo": [
           {
            "marker": {
             "colorbar": {
              "outlinewidth": 0,
              "ticks": ""
             }
            },
            "type": "scattergeo"
           }
          ],
          "scattergl": [
           {
            "marker": {
             "colorbar": {
              "outlinewidth": 0,
              "ticks": ""
             }
            },
            "type": "scattergl"
           }
          ],
          "scattermapbox": [
           {
            "marker": {
             "colorbar": {
              "outlinewidth": 0,
              "ticks": ""
             }
            },
            "type": "scattermapbox"
           }
          ],
          "scatterpolar": [
           {
            "marker": {
             "colorbar": {
              "outlinewidth": 0,
              "ticks": ""
             }
            },
            "type": "scatterpolar"
           }
          ],
          "scatterpolargl": [
           {
            "marker": {
             "colorbar": {
              "outlinewidth": 0,
              "ticks": ""
             }
            },
            "type": "scatterpolargl"
           }
          ],
          "scatterternary": [
           {
            "marker": {
             "colorbar": {
              "outlinewidth": 0,
              "ticks": ""
             }
            },
            "type": "scatterternary"
           }
          ],
          "surface": [
           {
            "colorbar": {
             "outlinewidth": 0,
             "ticks": ""
            },
            "colorscale": [
             [
              0,
              "#0d0887"
             ],
             [
              0.1111111111111111,
              "#46039f"
             ],
             [
              0.2222222222222222,
              "#7201a8"
             ],
             [
              0.3333333333333333,
              "#9c179e"
             ],
             [
              0.4444444444444444,
              "#bd3786"
             ],
             [
              0.5555555555555556,
              "#d8576b"
             ],
             [
              0.6666666666666666,
              "#ed7953"
             ],
             [
              0.7777777777777778,
              "#fb9f3a"
             ],
             [
              0.8888888888888888,
              "#fdca26"
             ],
             [
              1,
              "#f0f921"
             ]
            ],
            "type": "surface"
           }
          ],
          "table": [
           {
            "cells": {
             "fill": {
              "color": "#EBF0F8"
             },
             "line": {
              "color": "white"
             }
            },
            "header": {
             "fill": {
              "color": "#C8D4E3"
             },
             "line": {
              "color": "white"
             }
            },
            "type": "table"
           }
          ]
         },
         "layout": {
          "annotationdefaults": {
           "arrowcolor": "#2a3f5f",
           "arrowhead": 0,
           "arrowwidth": 1
          },
          "autotypenumbers": "strict",
          "coloraxis": {
           "colorbar": {
            "outlinewidth": 0,
            "ticks": ""
           }
          },
          "colorscale": {
           "diverging": [
            [
             0,
             "#8e0152"
            ],
            [
             0.1,
             "#c51b7d"
            ],
            [
             0.2,
             "#de77ae"
            ],
            [
             0.3,
             "#f1b6da"
            ],
            [
             0.4,
             "#fde0ef"
            ],
            [
             0.5,
             "#f7f7f7"
            ],
            [
             0.6,
             "#e6f5d0"
            ],
            [
             0.7,
             "#b8e186"
            ],
            [
             0.8,
             "#7fbc41"
            ],
            [
             0.9,
             "#4d9221"
            ],
            [
             1,
             "#276419"
            ]
           ],
           "sequential": [
            [
             0,
             "#0d0887"
            ],
            [
             0.1111111111111111,
             "#46039f"
            ],
            [
             0.2222222222222222,
             "#7201a8"
            ],
            [
             0.3333333333333333,
             "#9c179e"
            ],
            [
             0.4444444444444444,
             "#bd3786"
            ],
            [
             0.5555555555555556,
             "#d8576b"
            ],
            [
             0.6666666666666666,
             "#ed7953"
            ],
            [
             0.7777777777777778,
             "#fb9f3a"
            ],
            [
             0.8888888888888888,
             "#fdca26"
            ],
            [
             1,
             "#f0f921"
            ]
           ],
           "sequentialminus": [
            [
             0,
             "#0d0887"
            ],
            [
             0.1111111111111111,
             "#46039f"
            ],
            [
             0.2222222222222222,
             "#7201a8"
            ],
            [
             0.3333333333333333,
             "#9c179e"
            ],
            [
             0.4444444444444444,
             "#bd3786"
            ],
            [
             0.5555555555555556,
             "#d8576b"
            ],
            [
             0.6666666666666666,
             "#ed7953"
            ],
            [
             0.7777777777777778,
             "#fb9f3a"
            ],
            [
             0.8888888888888888,
             "#fdca26"
            ],
            [
             1,
             "#f0f921"
            ]
           ]
          },
          "colorway": [
           "#636efa",
           "#EF553B",
           "#00cc96",
           "#ab63fa",
           "#FFA15A",
           "#19d3f3",
           "#FF6692",
           "#B6E880",
           "#FF97FF",
           "#FECB52"
          ],
          "font": {
           "color": "#2a3f5f"
          },
          "geo": {
           "bgcolor": "white",
           "lakecolor": "white",
           "landcolor": "#E5ECF6",
           "showlakes": true,
           "showland": true,
           "subunitcolor": "white"
          },
          "hoverlabel": {
           "align": "left"
          },
          "hovermode": "closest",
          "mapbox": {
           "style": "light"
          },
          "paper_bgcolor": "white",
          "plot_bgcolor": "#E5ECF6",
          "polar": {
           "angularaxis": {
            "gridcolor": "white",
            "linecolor": "white",
            "ticks": ""
           },
           "bgcolor": "#E5ECF6",
           "radialaxis": {
            "gridcolor": "white",
            "linecolor": "white",
            "ticks": ""
           }
          },
          "scene": {
           "xaxis": {
            "backgroundcolor": "#E5ECF6",
            "gridcolor": "white",
            "gridwidth": 2,
            "linecolor": "white",
            "showbackground": true,
            "ticks": "",
            "zerolinecolor": "white"
           },
           "yaxis": {
            "backgroundcolor": "#E5ECF6",
            "gridcolor": "white",
            "gridwidth": 2,
            "linecolor": "white",
            "showbackground": true,
            "ticks": "",
            "zerolinecolor": "white"
           },
           "zaxis": {
            "backgroundcolor": "#E5ECF6",
            "gridcolor": "white",
            "gridwidth": 2,
            "linecolor": "white",
            "showbackground": true,
            "ticks": "",
            "zerolinecolor": "white"
           }
          },
          "shapedefaults": {
           "line": {
            "color": "#2a3f5f"
           }
          },
          "ternary": {
           "aaxis": {
            "gridcolor": "white",
            "linecolor": "white",
            "ticks": ""
           },
           "baxis": {
            "gridcolor": "white",
            "linecolor": "white",
            "ticks": ""
           },
           "bgcolor": "#E5ECF6",
           "caxis": {
            "gridcolor": "white",
            "linecolor": "white",
            "ticks": ""
           }
          },
          "title": {
           "x": 0.05
          },
          "xaxis": {
           "automargin": true,
           "gridcolor": "white",
           "linecolor": "white",
           "ticks": "",
           "title": {
            "standoff": 15
           },
           "zerolinecolor": "white",
           "zerolinewidth": 2
          },
          "yaxis": {
           "automargin": true,
           "gridcolor": "white",
           "linecolor": "white",
           "ticks": "",
           "title": {
            "standoff": 15
           },
           "zerolinecolor": "white",
           "zerolinewidth": 2
          }
         }
        },
        "xaxis": {
         "anchor": "y",
         "domain": [
          0,
          1
         ],
         "title": {
          "text": "index"
         }
        },
        "yaxis": {
         "anchor": "x",
         "domain": [
          0,
          1
         ],
         "title": {
          "text": "value"
         }
        }
       }
      },
      "text/html": [
       "<div>                            <div id=\"45c50a89-1816-4f24-86bc-b469d0f651f8\" class=\"plotly-graph-div\" style=\"height:525px; width:100%;\"></div>            <script type=\"text/javascript\">                require([\"plotly\"], function(Plotly) {                    window.PLOTLYENV=window.PLOTLYENV || {};                                    if (document.getElementById(\"45c50a89-1816-4f24-86bc-b469d0f651f8\")) {                    Plotly.newPlot(                        \"45c50a89-1816-4f24-86bc-b469d0f651f8\",                        [{\"hovertemplate\":\"variable=trend<br>index=%{x}<br>value=%{y}<extra></extra>\",\"legendgroup\":\"trend\",\"line\":{\"color\":\"#636efa\",\"dash\":\"solid\"},\"marker\":{\"symbol\":\"circle\"},\"mode\":\"lines\",\"name\":\"trend\",\"orientation\":\"v\",\"showlegend\":true,\"x\":[\"2022-04-11T00:00:00\",\"2022-04-12T00:00:00\",\"2022-04-13T00:00:00\",\"2022-04-14T00:00:00\",\"2022-04-18T00:00:00\",\"2022-04-19T00:00:00\",\"2022-04-20T00:00:00\",\"2022-04-21T00:00:00\",\"2022-04-22T00:00:00\",\"2022-04-25T00:00:00\",\"2022-04-26T00:00:00\",\"2022-04-27T00:00:00\",\"2022-04-28T00:00:00\",\"2022-04-29T00:00:00\",\"2022-05-02T00:00:00\",\"2022-05-03T00:00:00\",\"2022-05-04T00:00:00\",\"2022-05-05T00:00:00\",\"2022-05-06T00:00:00\",\"2022-05-09T00:00:00\"],\"xaxis\":\"x\",\"y\":[753882.466040805,754098.8505887996,754315.2351367944,754531.6196847891,755397.1578767676,755613.5424247623,755829.9269727569,756046.3115207516,756262.6960687464,756911.8497127304,757128.234260725,757344.6188087196,757561.0033567142,757777.3879047089,758426.541548693,758642.9260966877,758859.3106446823,759075.695192677,759292.0797406716,759941.2333846554],\"yaxis\":\"y\",\"type\":\"scatter\"},{\"hovertemplate\":\"variable=cap<br>index=%{x}<br>value=%{y}<extra></extra>\",\"legendgroup\":\"cap\",\"line\":{\"color\":\"#EF553B\",\"dash\":\"solid\"},\"marker\":{\"symbol\":\"circle\"},\"mode\":\"lines\",\"name\":\"cap\",\"orientation\":\"v\",\"showlegend\":true,\"x\":[\"2022-04-11T00:00:00\",\"2022-04-12T00:00:00\",\"2022-04-13T00:00:00\",\"2022-04-14T00:00:00\",\"2022-04-18T00:00:00\",\"2022-04-19T00:00:00\",\"2022-04-20T00:00:00\",\"2022-04-21T00:00:00\",\"2022-04-22T00:00:00\",\"2022-04-25T00:00:00\",\"2022-04-26T00:00:00\",\"2022-04-27T00:00:00\",\"2022-04-28T00:00:00\",\"2022-04-29T00:00:00\",\"2022-05-02T00:00:00\",\"2022-05-03T00:00:00\",\"2022-05-04T00:00:00\",\"2022-05-05T00:00:00\",\"2022-05-06T00:00:00\",\"2022-05-09T00:00:00\"],\"xaxis\":\"x\",\"y\":[531040.0,531880.0,531000.0,525900.0,521674.0,521019.0,524208.0,526699.0,526900.0,517444.0,509650.0,507419.0,502799.0,502329.0,500000.0,492125.0,487713.0,494343.0,493850.0,483795.0],\"yaxis\":\"y\",\"type\":\"scatter\"},{\"hovertemplate\":\"variable=yhat_lower<br>index=%{x}<br>value=%{y}<extra></extra>\",\"legendgroup\":\"yhat_lower\",\"line\":{\"color\":\"#00cc96\",\"dash\":\"solid\"},\"marker\":{\"symbol\":\"circle\"},\"mode\":\"lines\",\"name\":\"yhat_lower\",\"orientation\":\"v\",\"showlegend\":true,\"x\":[\"2022-04-11T00:00:00\",\"2022-04-12T00:00:00\",\"2022-04-13T00:00:00\",\"2022-04-14T00:00:00\",\"2022-04-18T00:00:00\",\"2022-04-19T00:00:00\",\"2022-04-20T00:00:00\",\"2022-04-21T00:00:00\",\"2022-04-22T00:00:00\",\"2022-04-25T00:00:00\",\"2022-04-26T00:00:00\",\"2022-04-27T00:00:00\",\"2022-04-28T00:00:00\",\"2022-04-29T00:00:00\",\"2022-05-02T00:00:00\",\"2022-05-03T00:00:00\",\"2022-05-04T00:00:00\",\"2022-05-05T00:00:00\",\"2022-05-06T00:00:00\",\"2022-05-09T00:00:00\"],\"xaxis\":\"x\",\"y\":[419513.5191356023,414426.6664062312,410924.0226867048,407736.5353852832,417699.19478507835,418873.00352635665,413314.09486199776,417871.69046478084,424246.5593739379,418129.3647162015,424359.6159696244,399734.7869475689,409484.3428258917,426759.3147776568,421445.3116589303,410275.80848831125,435156.28168501856,420382.1568576284,431398.324893221,424744.2250044902],\"yaxis\":\"y\",\"type\":\"scatter\"},{\"hovertemplate\":\"variable=yhat_upper<br>index=%{x}<br>value=%{y}<extra></extra>\",\"legendgroup\":\"yhat_upper\",\"line\":{\"color\":\"#ab63fa\",\"dash\":\"solid\"},\"marker\":{\"symbol\":\"circle\"},\"mode\":\"lines\",\"name\":\"yhat_upper\",\"orientation\":\"v\",\"showlegend\":true,\"x\":[\"2022-04-11T00:00:00\",\"2022-04-12T00:00:00\",\"2022-04-13T00:00:00\",\"2022-04-14T00:00:00\",\"2022-04-18T00:00:00\",\"2022-04-19T00:00:00\",\"2022-04-20T00:00:00\",\"2022-04-21T00:00:00\",\"2022-04-22T00:00:00\",\"2022-04-25T00:00:00\",\"2022-04-26T00:00:00\",\"2022-04-27T00:00:00\",\"2022-04-28T00:00:00\",\"2022-04-29T00:00:00\",\"2022-05-02T00:00:00\",\"2022-05-03T00:00:00\",\"2022-05-04T00:00:00\",\"2022-05-05T00:00:00\",\"2022-05-06T00:00:00\",\"2022-05-09T00:00:00\"],\"xaxis\":\"x\",\"y\":[531242.7588413792,521546.8260581282,522708.5191715935,527954.1624975502,531557.2302548821,527316.4579981056,523964.2308999235,528745.1976443902,531194.8785605213,523270.6748969266,528786.9908631103,533134.7779947792,532436.3697831224,541753.5695531787,537076.896891249,530663.4569541386,536342.1942254591,528687.8107023784,528535.0369674808,530508.3732234876],\"yaxis\":\"y\",\"type\":\"scatter\"},{\"hovertemplate\":\"variable=trend_lower<br>index=%{x}<br>value=%{y}<extra></extra>\",\"legendgroup\":\"trend_lower\",\"line\":{\"color\":\"#FFA15A\",\"dash\":\"solid\"},\"marker\":{\"symbol\":\"circle\"},\"mode\":\"lines\",\"name\":\"trend_lower\",\"orientation\":\"v\",\"showlegend\":true,\"x\":[\"2022-04-11T00:00:00\",\"2022-04-12T00:00:00\",\"2022-04-13T00:00:00\",\"2022-04-14T00:00:00\",\"2022-04-18T00:00:00\",\"2022-04-19T00:00:00\",\"2022-04-20T00:00:00\",\"2022-04-21T00:00:00\",\"2022-04-22T00:00:00\",\"2022-04-25T00:00:00\",\"2022-04-26T00:00:00\",\"2022-04-27T00:00:00\",\"2022-04-28T00:00:00\",\"2022-04-29T00:00:00\",\"2022-05-02T00:00:00\",\"2022-05-03T00:00:00\",\"2022-05-04T00:00:00\",\"2022-05-05T00:00:00\",\"2022-05-06T00:00:00\",\"2022-05-09T00:00:00\"],\"xaxis\":\"x\",\"y\":[753790.4068211333,753952.5735859562,754100.8360661754,754221.6352234214,754443.6325683764,754244.2427462914,754044.8529242068,753845.463102122,753646.073280037,753047.9038137827,752848.5139916978,752649.1241696131,752449.7343475283,752250.3445254435,751652.175059189,751452.7852371043,751253.3954150195,751054.0055929347,750854.6157708499,750256.4463045956],\"yaxis\":\"y\",\"type\":\"scatter\"},{\"hovertemplate\":\"variable=trend_upper<br>index=%{x}<br>value=%{y}<extra></extra>\",\"legendgroup\":\"trend_upper\",\"line\":{\"color\":\"#19d3f3\",\"dash\":\"solid\"},\"marker\":{\"symbol\":\"circle\"},\"mode\":\"lines\",\"name\":\"trend_upper\",\"orientation\":\"v\",\"showlegend\":true,\"x\":[\"2022-04-11T00:00:00\",\"2022-04-12T00:00:00\",\"2022-04-13T00:00:00\",\"2022-04-14T00:00:00\",\"2022-04-18T00:00:00\",\"2022-04-19T00:00:00\",\"2022-04-20T00:00:00\",\"2022-04-21T00:00:00\",\"2022-04-22T00:00:00\",\"2022-04-25T00:00:00\",\"2022-04-26T00:00:00\",\"2022-04-27T00:00:00\",\"2022-04-28T00:00:00\",\"2022-04-29T00:00:00\",\"2022-05-02T00:00:00\",\"2022-05-03T00:00:00\",\"2022-05-04T00:00:00\",\"2022-05-05T00:00:00\",\"2022-05-06T00:00:00\",\"2022-05-09T00:00:00\"],\"xaxis\":\"x\",\"y\":[754200.651758005,754538.535633553,754913.9438935961,755307.5353684968,756881.9012680991,757275.4927429997,757669.0842179002,758062.6756928009,758456.2671677017,759637.0415924035,760030.633067304,760424.2245422048,760817.8160171051,761211.4074920058,762392.1819167079,762785.7733916086,763179.364866509,763572.9563414097,763966.5478163102,765147.322241012],\"yaxis\":\"y\",\"type\":\"scatter\"},{\"hovertemplate\":\"variable=additive_terms<br>index=%{x}<br>value=%{y}<extra></extra>\",\"legendgroup\":\"additive_terms\",\"line\":{\"color\":\"#FF6692\",\"dash\":\"solid\"},\"marker\":{\"symbol\":\"circle\"},\"mode\":\"lines\",\"name\":\"additive_terms\",\"orientation\":\"v\",\"showlegend\":true,\"x\":[\"2022-04-11T00:00:00\",\"2022-04-12T00:00:00\",\"2022-04-13T00:00:00\",\"2022-04-14T00:00:00\",\"2022-04-18T00:00:00\",\"2022-04-19T00:00:00\",\"2022-04-20T00:00:00\",\"2022-04-21T00:00:00\",\"2022-04-22T00:00:00\",\"2022-04-25T00:00:00\",\"2022-04-26T00:00:00\",\"2022-04-27T00:00:00\",\"2022-04-28T00:00:00\",\"2022-04-29T00:00:00\",\"2022-05-02T00:00:00\",\"2022-05-03T00:00:00\",\"2022-05-04T00:00:00\",\"2022-05-05T00:00:00\",\"2022-05-06T00:00:00\",\"2022-05-09T00:00:00\"],\"xaxis\":\"x\",\"y\":[-283245.8678029843,-283705.9566536975,-283837.0299918884,-283694.740404528,-282845.8047086242,-283096.0469658781,-283038.7116164255,-282734.14904825465,-282197.158819833,-281571.18563982926,-281838.7288014696,-281838.8953093124,-281631.39657196164,-281229.48195871065,-281208.37600288366,-281730.7491161028,-282004.0631503303,-282082.3235767882,-281972.7662386576,-282806.5851999241],\"yaxis\":\"y\",\"type\":\"scatter\"},{\"hovertemplate\":\"variable=additive_terms_lower<br>index=%{x}<br>value=%{y}<extra></extra>\",\"legendgroup\":\"additive_terms_lower\",\"line\":{\"color\":\"#B6E880\",\"dash\":\"solid\"},\"marker\":{\"symbol\":\"circle\"},\"mode\":\"lines\",\"name\":\"additive_terms_lower\",\"orientation\":\"v\",\"showlegend\":true,\"x\":[\"2022-04-11T00:00:00\",\"2022-04-12T00:00:00\",\"2022-04-13T00:00:00\",\"2022-04-14T00:00:00\",\"2022-04-18T00:00:00\",\"2022-04-19T00:00:00\",\"2022-04-20T00:00:00\",\"2022-04-21T00:00:00\",\"2022-04-22T00:00:00\",\"2022-04-25T00:00:00\",\"2022-04-26T00:00:00\",\"2022-04-27T00:00:00\",\"2022-04-28T00:00:00\",\"2022-04-29T00:00:00\",\"2022-05-02T00:00:00\",\"2022-05-03T00:00:00\",\"2022-05-04T00:00:00\",\"2022-05-05T00:00:00\",\"2022-05-06T00:00:00\",\"2022-05-09T00:00:00\"],\"xaxis\":\"x\",\"y\":[-283245.8678029843,-283705.9566536975,-283837.0299918884,-283694.740404528,-282845.8047086242,-283096.0469658781,-283038.7116164255,-282734.14904825465,-282197.158819833,-281571.18563982926,-281838.7288014696,-281838.8953093124,-281631.39657196164,-281229.48195871065,-281208.37600288366,-281730.7491161028,-282004.0631503303,-282082.3235767882,-281972.7662386576,-282806.5851999241],\"yaxis\":\"y\",\"type\":\"scatter\"},{\"hovertemplate\":\"variable=additive_terms_upper<br>index=%{x}<br>value=%{y}<extra></extra>\",\"legendgroup\":\"additive_terms_upper\",\"line\":{\"color\":\"#FF97FF\",\"dash\":\"solid\"},\"marker\":{\"symbol\":\"circle\"},\"mode\":\"lines\",\"name\":\"additive_terms_upper\",\"orientation\":\"v\",\"showlegend\":true,\"x\":[\"2022-04-11T00:00:00\",\"2022-04-12T00:00:00\",\"2022-04-13T00:00:00\",\"2022-04-14T00:00:00\",\"2022-04-18T00:00:00\",\"2022-04-19T00:00:00\",\"2022-04-20T00:00:00\",\"2022-04-21T00:00:00\",\"2022-04-22T00:00:00\",\"2022-04-25T00:00:00\",\"2022-04-26T00:00:00\",\"2022-04-27T00:00:00\",\"2022-04-28T00:00:00\",\"2022-04-29T00:00:00\",\"2022-05-02T00:00:00\",\"2022-05-03T00:00:00\",\"2022-05-04T00:00:00\",\"2022-05-05T00:00:00\",\"2022-05-06T00:00:00\",\"2022-05-09T00:00:00\"],\"xaxis\":\"x\",\"y\":[-283245.8678029843,-283705.9566536975,-283837.0299918884,-283694.740404528,-282845.8047086242,-283096.0469658781,-283038.7116164255,-282734.14904825465,-282197.158819833,-281571.18563982926,-281838.7288014696,-281838.8953093124,-281631.39657196164,-281229.48195871065,-281208.37600288366,-281730.7491161028,-282004.0631503303,-282082.3235767882,-281972.7662386576,-282806.5851999241],\"yaxis\":\"y\",\"type\":\"scatter\"},{\"hovertemplate\":\"variable=daily<br>index=%{x}<br>value=%{y}<extra></extra>\",\"legendgroup\":\"daily\",\"line\":{\"color\":\"#FECB52\",\"dash\":\"solid\"},\"marker\":{\"symbol\":\"circle\"},\"mode\":\"lines\",\"name\":\"daily\",\"orientation\":\"v\",\"showlegend\":true,\"x\":[\"2022-04-11T00:00:00\",\"2022-04-12T00:00:00\",\"2022-04-13T00:00:00\",\"2022-04-14T00:00:00\",\"2022-04-18T00:00:00\",\"2022-04-19T00:00:00\",\"2022-04-20T00:00:00\",\"2022-04-21T00:00:00\",\"2022-04-22T00:00:00\",\"2022-04-25T00:00:00\",\"2022-04-26T00:00:00\",\"2022-04-27T00:00:00\",\"2022-04-28T00:00:00\",\"2022-04-29T00:00:00\",\"2022-05-02T00:00:00\",\"2022-05-03T00:00:00\",\"2022-05-04T00:00:00\",\"2022-05-05T00:00:00\",\"2022-05-06T00:00:00\",\"2022-05-09T00:00:00\"],\"xaxis\":\"x\",\"y\":[-270559.20064340497,-270559.20064340497,-270559.20064340497,-270559.20064340497,-270559.20064340497,-270559.20064340497,-270559.20064340497,-270559.20064340497,-270559.20064340497,-270559.20064340497,-270559.20064340497,-270559.20064340497,-270559.20064340497,-270559.20064340497,-270559.20064340497,-270559.20064340497,-270559.20064340497,-270559.20064340497,-270559.20064340497,-270559.20064340497],\"yaxis\":\"y\",\"type\":\"scatter\"},{\"hovertemplate\":\"variable=daily_lower<br>index=%{x}<br>value=%{y}<extra></extra>\",\"legendgroup\":\"daily_lower\",\"line\":{\"color\":\"#636efa\",\"dash\":\"solid\"},\"marker\":{\"symbol\":\"circle\"},\"mode\":\"lines\",\"name\":\"daily_lower\",\"orientation\":\"v\",\"showlegend\":true,\"x\":[\"2022-04-11T00:00:00\",\"2022-04-12T00:00:00\",\"2022-04-13T00:00:00\",\"2022-04-14T00:00:00\",\"2022-04-18T00:00:00\",\"2022-04-19T00:00:00\",\"2022-04-20T00:00:00\",\"2022-04-21T00:00:00\",\"2022-04-22T00:00:00\",\"2022-04-25T00:00:00\",\"2022-04-26T00:00:00\",\"2022-04-27T00:00:00\",\"2022-04-28T00:00:00\",\"2022-04-29T00:00:00\",\"2022-05-02T00:00:00\",\"2022-05-03T00:00:00\",\"2022-05-04T00:00:00\",\"2022-05-05T00:00:00\",\"2022-05-06T00:00:00\",\"2022-05-09T00:00:00\"],\"xaxis\":\"x\",\"y\":[-270559.20064340497,-270559.20064340497,-270559.20064340497,-270559.20064340497,-270559.20064340497,-270559.20064340497,-270559.20064340497,-270559.20064340497,-270559.20064340497,-270559.20064340497,-270559.20064340497,-270559.20064340497,-270559.20064340497,-270559.20064340497,-270559.20064340497,-270559.20064340497,-270559.20064340497,-270559.20064340497,-270559.20064340497,-270559.20064340497],\"yaxis\":\"y\",\"type\":\"scatter\"},{\"hovertemplate\":\"variable=daily_upper<br>index=%{x}<br>value=%{y}<extra></extra>\",\"legendgroup\":\"daily_upper\",\"line\":{\"color\":\"#EF553B\",\"dash\":\"solid\"},\"marker\":{\"symbol\":\"circle\"},\"mode\":\"lines\",\"name\":\"daily_upper\",\"orientation\":\"v\",\"showlegend\":true,\"x\":[\"2022-04-11T00:00:00\",\"2022-04-12T00:00:00\",\"2022-04-13T00:00:00\",\"2022-04-14T00:00:00\",\"2022-04-18T00:00:00\",\"2022-04-19T00:00:00\",\"2022-04-20T00:00:00\",\"2022-04-21T00:00:00\",\"2022-04-22T00:00:00\",\"2022-04-25T00:00:00\",\"2022-04-26T00:00:00\",\"2022-04-27T00:00:00\",\"2022-04-28T00:00:00\",\"2022-04-29T00:00:00\",\"2022-05-02T00:00:00\",\"2022-05-03T00:00:00\",\"2022-05-04T00:00:00\",\"2022-05-05T00:00:00\",\"2022-05-06T00:00:00\",\"2022-05-09T00:00:00\"],\"xaxis\":\"x\",\"y\":[-270559.20064340497,-270559.20064340497,-270559.20064340497,-270559.20064340497,-270559.20064340497,-270559.20064340497,-270559.20064340497,-270559.20064340497,-270559.20064340497,-270559.20064340497,-270559.20064340497,-270559.20064340497,-270559.20064340497,-270559.20064340497,-270559.20064340497,-270559.20064340497,-270559.20064340497,-270559.20064340497,-270559.20064340497,-270559.20064340497],\"yaxis\":\"y\",\"type\":\"scatter\"},{\"hovertemplate\":\"variable=weekly<br>index=%{x}<br>value=%{y}<extra></extra>\",\"legendgroup\":\"weekly\",\"line\":{\"color\":\"#00cc96\",\"dash\":\"solid\"},\"marker\":{\"symbol\":\"circle\"},\"mode\":\"lines\",\"name\":\"weekly\",\"orientation\":\"v\",\"showlegend\":true,\"x\":[\"2022-04-11T00:00:00\",\"2022-04-12T00:00:00\",\"2022-04-13T00:00:00\",\"2022-04-14T00:00:00\",\"2022-04-18T00:00:00\",\"2022-04-19T00:00:00\",\"2022-04-20T00:00:00\",\"2022-04-21T00:00:00\",\"2022-04-22T00:00:00\",\"2022-04-25T00:00:00\",\"2022-04-26T00:00:00\",\"2022-04-27T00:00:00\",\"2022-04-28T00:00:00\",\"2022-04-29T00:00:00\",\"2022-05-02T00:00:00\",\"2022-05-03T00:00:00\",\"2022-05-04T00:00:00\",\"2022-05-05T00:00:00\",\"2022-05-06T00:00:00\",\"2022-05-09T00:00:00\"],\"xaxis\":\"x\",\"y\":[-13235.068161305562,-13651.386140536633,-13774.983481564053,-13660.729269972622,-13235.06816137247,-13651.386140523531,-13774.983481564092,-13660.729269937026,-13317.632943657141,-13235.0681613717,-13651.386140558961,-13774.983481564124,-13660.72926993148,-13317.63294365781,-13235.068161265075,-13651.386140545856,-13774.983481564035,-13660.729269963182,-13317.632943658477,-13235.068161298144],\"yaxis\":\"y\",\"type\":\"scatter\"},{\"hovertemplate\":\"variable=weekly_lower<br>index=%{x}<br>value=%{y}<extra></extra>\",\"legendgroup\":\"weekly_lower\",\"line\":{\"color\":\"#ab63fa\",\"dash\":\"solid\"},\"marker\":{\"symbol\":\"circle\"},\"mode\":\"lines\",\"name\":\"weekly_lower\",\"orientation\":\"v\",\"showlegend\":true,\"x\":[\"2022-04-11T00:00:00\",\"2022-04-12T00:00:00\",\"2022-04-13T00:00:00\",\"2022-04-14T00:00:00\",\"2022-04-18T00:00:00\",\"2022-04-19T00:00:00\",\"2022-04-20T00:00:00\",\"2022-04-21T00:00:00\",\"2022-04-22T00:00:00\",\"2022-04-25T00:00:00\",\"2022-04-26T00:00:00\",\"2022-04-27T00:00:00\",\"2022-04-28T00:00:00\",\"2022-04-29T00:00:00\",\"2022-05-02T00:00:00\",\"2022-05-03T00:00:00\",\"2022-05-04T00:00:00\",\"2022-05-05T00:00:00\",\"2022-05-06T00:00:00\",\"2022-05-09T00:00:00\"],\"xaxis\":\"x\",\"y\":[-13235.068161305562,-13651.386140536633,-13774.983481564053,-13660.729269972622,-13235.06816137247,-13651.386140523531,-13774.983481564092,-13660.729269937026,-13317.632943657141,-13235.0681613717,-13651.386140558961,-13774.983481564124,-13660.72926993148,-13317.63294365781,-13235.068161265075,-13651.386140545856,-13774.983481564035,-13660.729269963182,-13317.632943658477,-13235.068161298144],\"yaxis\":\"y\",\"type\":\"scatter\"},{\"hovertemplate\":\"variable=weekly_upper<br>index=%{x}<br>value=%{y}<extra></extra>\",\"legendgroup\":\"weekly_upper\",\"line\":{\"color\":\"#FFA15A\",\"dash\":\"solid\"},\"marker\":{\"symbol\":\"circle\"},\"mode\":\"lines\",\"name\":\"weekly_upper\",\"orientation\":\"v\",\"showlegend\":true,\"x\":[\"2022-04-11T00:00:00\",\"2022-04-12T00:00:00\",\"2022-04-13T00:00:00\",\"2022-04-14T00:00:00\",\"2022-04-18T00:00:00\",\"2022-04-19T00:00:00\",\"2022-04-20T00:00:00\",\"2022-04-21T00:00:00\",\"2022-04-22T00:00:00\",\"2022-04-25T00:00:00\",\"2022-04-26T00:00:00\",\"2022-04-27T00:00:00\",\"2022-04-28T00:00:00\",\"2022-04-29T00:00:00\",\"2022-05-02T00:00:00\",\"2022-05-03T00:00:00\",\"2022-05-04T00:00:00\",\"2022-05-05T00:00:00\",\"2022-05-06T00:00:00\",\"2022-05-09T00:00:00\"],\"xaxis\":\"x\",\"y\":[-13235.068161305562,-13651.386140536633,-13774.983481564053,-13660.729269972622,-13235.06816137247,-13651.386140523531,-13774.983481564092,-13660.729269937026,-13317.632943657141,-13235.0681613717,-13651.386140558961,-13774.983481564124,-13660.72926993148,-13317.63294365781,-13235.068161265075,-13651.386140545856,-13774.983481564035,-13660.729269963182,-13317.632943658477,-13235.068161298144],\"yaxis\":\"y\",\"type\":\"scatter\"},{\"hovertemplate\":\"variable=yearly<br>index=%{x}<br>value=%{y}<extra></extra>\",\"legendgroup\":\"yearly\",\"line\":{\"color\":\"#19d3f3\",\"dash\":\"solid\"},\"marker\":{\"symbol\":\"circle\"},\"mode\":\"lines\",\"name\":\"yearly\",\"orientation\":\"v\",\"showlegend\":true,\"x\":[\"2022-04-11T00:00:00\",\"2022-04-12T00:00:00\",\"2022-04-13T00:00:00\",\"2022-04-14T00:00:00\",\"2022-04-18T00:00:00\",\"2022-04-19T00:00:00\",\"2022-04-20T00:00:00\",\"2022-04-21T00:00:00\",\"2022-04-22T00:00:00\",\"2022-04-25T00:00:00\",\"2022-04-26T00:00:00\",\"2022-04-27T00:00:00\",\"2022-04-28T00:00:00\",\"2022-04-29T00:00:00\",\"2022-05-02T00:00:00\",\"2022-05-03T00:00:00\",\"2022-05-04T00:00:00\",\"2022-05-05T00:00:00\",\"2022-05-06T00:00:00\",\"2022-05-09T00:00:00\"],\"xaxis\":\"x\",\"y\":[548.4010017262308,504.63013024409247,497.1541330806601,525.1895088496295,948.4640961532276,1114.5398180503878,1295.4725085435407,1485.780865087368,1679.674767229097,2223.083164947435,2371.8579824943663,2495.2888156567296,2588.533341374819,2647.351628352126,2585.892801786357,2479.8376678479935,2330.120974638736,2137.6063365799723,1904.0673484058561,987.6836047790255],\"yaxis\":\"y\",\"type\":\"scatter\"},{\"hovertemplate\":\"variable=yearly_lower<br>index=%{x}<br>value=%{y}<extra></extra>\",\"legendgroup\":\"yearly_lower\",\"line\":{\"color\":\"#FF6692\",\"dash\":\"solid\"},\"marker\":{\"symbol\":\"circle\"},\"mode\":\"lines\",\"name\":\"yearly_lower\",\"orientation\":\"v\",\"showlegend\":true,\"x\":[\"2022-04-11T00:00:00\",\"2022-04-12T00:00:00\",\"2022-04-13T00:00:00\",\"2022-04-14T00:00:00\",\"2022-04-18T00:00:00\",\"2022-04-19T00:00:00\",\"2022-04-20T00:00:00\",\"2022-04-21T00:00:00\",\"2022-04-22T00:00:00\",\"2022-04-25T00:00:00\",\"2022-04-26T00:00:00\",\"2022-04-27T00:00:00\",\"2022-04-28T00:00:00\",\"2022-04-29T00:00:00\",\"2022-05-02T00:00:00\",\"2022-05-03T00:00:00\",\"2022-05-04T00:00:00\",\"2022-05-05T00:00:00\",\"2022-05-06T00:00:00\",\"2022-05-09T00:00:00\"],\"xaxis\":\"x\",\"y\":[548.4010017262308,504.63013024409247,497.1541330806601,525.1895088496295,948.4640961532276,1114.5398180503878,1295.4725085435407,1485.780865087368,1679.674767229097,2223.083164947435,2371.8579824943663,2495.2888156567296,2588.533341374819,2647.351628352126,2585.892801786357,2479.8376678479935,2330.120974638736,2137.6063365799723,1904.0673484058561,987.6836047790255],\"yaxis\":\"y\",\"type\":\"scatter\"},{\"hovertemplate\":\"variable=yearly_upper<br>index=%{x}<br>value=%{y}<extra></extra>\",\"legendgroup\":\"yearly_upper\",\"line\":{\"color\":\"#B6E880\",\"dash\":\"solid\"},\"marker\":{\"symbol\":\"circle\"},\"mode\":\"lines\",\"name\":\"yearly_upper\",\"orientation\":\"v\",\"showlegend\":true,\"x\":[\"2022-04-11T00:00:00\",\"2022-04-12T00:00:00\",\"2022-04-13T00:00:00\",\"2022-04-14T00:00:00\",\"2022-04-18T00:00:00\",\"2022-04-19T00:00:00\",\"2022-04-20T00:00:00\",\"2022-04-21T00:00:00\",\"2022-04-22T00:00:00\",\"2022-04-25T00:00:00\",\"2022-04-26T00:00:00\",\"2022-04-27T00:00:00\",\"2022-04-28T00:00:00\",\"2022-04-29T00:00:00\",\"2022-05-02T00:00:00\",\"2022-05-03T00:00:00\",\"2022-05-04T00:00:00\",\"2022-05-05T00:00:00\",\"2022-05-06T00:00:00\",\"2022-05-09T00:00:00\"],\"xaxis\":\"x\",\"y\":[548.4010017262308,504.63013024409247,497.1541330806601,525.1895088496295,948.4640961532276,1114.5398180503878,1295.4725085435407,1485.780865087368,1679.674767229097,2223.083164947435,2371.8579824943663,2495.2888156567296,2588.533341374819,2647.351628352126,2585.892801786357,2479.8376678479935,2330.120974638736,2137.6063365799723,1904.0673484058561,987.6836047790255],\"yaxis\":\"y\",\"type\":\"scatter\"},{\"hovertemplate\":\"variable=multiplicative_terms<br>index=%{x}<br>value=%{y}<extra></extra>\",\"legendgroup\":\"multiplicative_terms\",\"line\":{\"color\":\"#FF97FF\",\"dash\":\"solid\"},\"marker\":{\"symbol\":\"circle\"},\"mode\":\"lines\",\"name\":\"multiplicative_terms\",\"orientation\":\"v\",\"showlegend\":true,\"x\":[\"2022-04-11T00:00:00\",\"2022-04-12T00:00:00\",\"2022-04-13T00:00:00\",\"2022-04-14T00:00:00\",\"2022-04-18T00:00:00\",\"2022-04-19T00:00:00\",\"2022-04-20T00:00:00\",\"2022-04-21T00:00:00\",\"2022-04-22T00:00:00\",\"2022-04-25T00:00:00\",\"2022-04-26T00:00:00\",\"2022-04-27T00:00:00\",\"2022-04-28T00:00:00\",\"2022-04-29T00:00:00\",\"2022-05-02T00:00:00\",\"2022-05-03T00:00:00\",\"2022-05-04T00:00:00\",\"2022-05-05T00:00:00\",\"2022-05-06T00:00:00\",\"2022-05-09T00:00:00\"],\"xaxis\":\"x\",\"y\":[0.0,0.0,0.0,0.0,0.0,0.0,0.0,0.0,0.0,0.0,0.0,0.0,0.0,0.0,0.0,0.0,0.0,0.0,0.0,0.0],\"yaxis\":\"y\",\"type\":\"scatter\"},{\"hovertemplate\":\"variable=multiplicative_terms_lower<br>index=%{x}<br>value=%{y}<extra></extra>\",\"legendgroup\":\"multiplicative_terms_lower\",\"line\":{\"color\":\"#FECB52\",\"dash\":\"solid\"},\"marker\":{\"symbol\":\"circle\"},\"mode\":\"lines\",\"name\":\"multiplicative_terms_lower\",\"orientation\":\"v\",\"showlegend\":true,\"x\":[\"2022-04-11T00:00:00\",\"2022-04-12T00:00:00\",\"2022-04-13T00:00:00\",\"2022-04-14T00:00:00\",\"2022-04-18T00:00:00\",\"2022-04-19T00:00:00\",\"2022-04-20T00:00:00\",\"2022-04-21T00:00:00\",\"2022-04-22T00:00:00\",\"2022-04-25T00:00:00\",\"2022-04-26T00:00:00\",\"2022-04-27T00:00:00\",\"2022-04-28T00:00:00\",\"2022-04-29T00:00:00\",\"2022-05-02T00:00:00\",\"2022-05-03T00:00:00\",\"2022-05-04T00:00:00\",\"2022-05-05T00:00:00\",\"2022-05-06T00:00:00\",\"2022-05-09T00:00:00\"],\"xaxis\":\"x\",\"y\":[0.0,0.0,0.0,0.0,0.0,0.0,0.0,0.0,0.0,0.0,0.0,0.0,0.0,0.0,0.0,0.0,0.0,0.0,0.0,0.0],\"yaxis\":\"y\",\"type\":\"scatter\"},{\"hovertemplate\":\"variable=multiplicative_terms_upper<br>index=%{x}<br>value=%{y}<extra></extra>\",\"legendgroup\":\"multiplicative_terms_upper\",\"line\":{\"color\":\"#636efa\",\"dash\":\"solid\"},\"marker\":{\"symbol\":\"circle\"},\"mode\":\"lines\",\"name\":\"multiplicative_terms_upper\",\"orientation\":\"v\",\"showlegend\":true,\"x\":[\"2022-04-11T00:00:00\",\"2022-04-12T00:00:00\",\"2022-04-13T00:00:00\",\"2022-04-14T00:00:00\",\"2022-04-18T00:00:00\",\"2022-04-19T00:00:00\",\"2022-04-20T00:00:00\",\"2022-04-21T00:00:00\",\"2022-04-22T00:00:00\",\"2022-04-25T00:00:00\",\"2022-04-26T00:00:00\",\"2022-04-27T00:00:00\",\"2022-04-28T00:00:00\",\"2022-04-29T00:00:00\",\"2022-05-02T00:00:00\",\"2022-05-03T00:00:00\",\"2022-05-04T00:00:00\",\"2022-05-05T00:00:00\",\"2022-05-06T00:00:00\",\"2022-05-09T00:00:00\"],\"xaxis\":\"x\",\"y\":[0.0,0.0,0.0,0.0,0.0,0.0,0.0,0.0,0.0,0.0,0.0,0.0,0.0,0.0,0.0,0.0,0.0,0.0,0.0,0.0],\"yaxis\":\"y\",\"type\":\"scatter\"},{\"hovertemplate\":\"variable=pred<br>index=%{x}<br>value=%{y}<extra></extra>\",\"legendgroup\":\"pred\",\"line\":{\"color\":\"#EF553B\",\"dash\":\"solid\"},\"marker\":{\"symbol\":\"circle\"},\"mode\":\"lines\",\"name\":\"pred\",\"orientation\":\"v\",\"showlegend\":true,\"x\":[\"2022-04-11T00:00:00\",\"2022-04-12T00:00:00\",\"2022-04-13T00:00:00\",\"2022-04-14T00:00:00\",\"2022-04-18T00:00:00\",\"2022-04-19T00:00:00\",\"2022-04-20T00:00:00\",\"2022-04-21T00:00:00\",\"2022-04-22T00:00:00\",\"2022-04-25T00:00:00\",\"2022-04-26T00:00:00\",\"2022-04-27T00:00:00\",\"2022-04-28T00:00:00\",\"2022-04-29T00:00:00\",\"2022-05-02T00:00:00\",\"2022-05-03T00:00:00\",\"2022-05-04T00:00:00\",\"2022-05-05T00:00:00\",\"2022-05-06T00:00:00\",\"2022-05-09T00:00:00\"],\"xaxis\":\"x\",\"y\":[470636.59823782067,470392.8939351021,470478.205144906,470836.8792802611,472551.35316814337,472517.49545888416,472791.2153563314,473312.1624724969,474065.5372489134,475340.6640729011,475289.50545925536,475505.7234994072,475929.6067847525,476547.9059459982,477218.1655458093,476912.17698058486,476855.247494352,476993.3716158888,477319.313502014,477134.6481847313],\"yaxis\":\"y\",\"type\":\"scatter\"},{\"hovertemplate\":\"variable=y<br>index=%{x}<br>value=%{y}<extra></extra>\",\"legendgroup\":\"y\",\"line\":{\"color\":\"#00cc96\",\"dash\":\"solid\"},\"marker\":{\"symbol\":\"circle\"},\"mode\":\"lines\",\"name\":\"y\",\"orientation\":\"v\",\"showlegend\":true,\"x\":[\"2022-04-11T00:00:00\",\"2022-04-12T00:00:00\",\"2022-04-13T00:00:00\",\"2022-04-14T00:00:00\",\"2022-04-18T00:00:00\",\"2022-04-19T00:00:00\",\"2022-04-20T00:00:00\",\"2022-04-21T00:00:00\",\"2022-04-22T00:00:00\",\"2022-04-25T00:00:00\",\"2022-04-26T00:00:00\",\"2022-04-27T00:00:00\",\"2022-04-28T00:00:00\",\"2022-04-29T00:00:00\",\"2022-05-02T00:00:00\",\"2022-05-03T00:00:00\",\"2022-05-04T00:00:00\",\"2022-05-05T00:00:00\",\"2022-05-06T00:00:00\",\"2022-05-09T00:00:00\"],\"xaxis\":\"x\",\"y\":[529000.0,527590.0,524271.0,519800.0,516435.0,519499.0,523260.0,522901.0,515815.0,505440.0,506200.0,497777.0,496800.0,499000.0,484340.0,478150.0,481198.0,494343.0,481400.0,479500.0],\"yaxis\":\"y\",\"type\":\"scatter\"}],                        {\"template\":{\"data\":{\"histogram2dcontour\":[{\"type\":\"histogram2dcontour\",\"colorbar\":{\"outlinewidth\":0,\"ticks\":\"\"},\"colorscale\":[[0.0,\"#0d0887\"],[0.1111111111111111,\"#46039f\"],[0.2222222222222222,\"#7201a8\"],[0.3333333333333333,\"#9c179e\"],[0.4444444444444444,\"#bd3786\"],[0.5555555555555556,\"#d8576b\"],[0.6666666666666666,\"#ed7953\"],[0.7777777777777778,\"#fb9f3a\"],[0.8888888888888888,\"#fdca26\"],[1.0,\"#f0f921\"]]}],\"choropleth\":[{\"type\":\"choropleth\",\"colorbar\":{\"outlinewidth\":0,\"ticks\":\"\"}}],\"histogram2d\":[{\"type\":\"histogram2d\",\"colorbar\":{\"outlinewidth\":0,\"ticks\":\"\"},\"colorscale\":[[0.0,\"#0d0887\"],[0.1111111111111111,\"#46039f\"],[0.2222222222222222,\"#7201a8\"],[0.3333333333333333,\"#9c179e\"],[0.4444444444444444,\"#bd3786\"],[0.5555555555555556,\"#d8576b\"],[0.6666666666666666,\"#ed7953\"],[0.7777777777777778,\"#fb9f3a\"],[0.8888888888888888,\"#fdca26\"],[1.0,\"#f0f921\"]]}],\"heatmap\":[{\"type\":\"heatmap\",\"colorbar\":{\"outlinewidth\":0,\"ticks\":\"\"},\"colorscale\":[[0.0,\"#0d0887\"],[0.1111111111111111,\"#46039f\"],[0.2222222222222222,\"#7201a8\"],[0.3333333333333333,\"#9c179e\"],[0.4444444444444444,\"#bd3786\"],[0.5555555555555556,\"#d8576b\"],[0.6666666666666666,\"#ed7953\"],[0.7777777777777778,\"#fb9f3a\"],[0.8888888888888888,\"#fdca26\"],[1.0,\"#f0f921\"]]}],\"heatmapgl\":[{\"type\":\"heatmapgl\",\"colorbar\":{\"outlinewidth\":0,\"ticks\":\"\"},\"colorscale\":[[0.0,\"#0d0887\"],[0.1111111111111111,\"#46039f\"],[0.2222222222222222,\"#7201a8\"],[0.3333333333333333,\"#9c179e\"],[0.4444444444444444,\"#bd3786\"],[0.5555555555555556,\"#d8576b\"],[0.6666666666666666,\"#ed7953\"],[0.7777777777777778,\"#fb9f3a\"],[0.8888888888888888,\"#fdca26\"],[1.0,\"#f0f921\"]]}],\"contourcarpet\":[{\"type\":\"contourcarpet\",\"colorbar\":{\"outlinewidth\":0,\"ticks\":\"\"}}],\"contour\":[{\"type\":\"contour\",\"colorbar\":{\"outlinewidth\":0,\"ticks\":\"\"},\"colorscale\":[[0.0,\"#0d0887\"],[0.1111111111111111,\"#46039f\"],[0.2222222222222222,\"#7201a8\"],[0.3333333333333333,\"#9c179e\"],[0.4444444444444444,\"#bd3786\"],[0.5555555555555556,\"#d8576b\"],[0.6666666666666666,\"#ed7953\"],[0.7777777777777778,\"#fb9f3a\"],[0.8888888888888888,\"#fdca26\"],[1.0,\"#f0f921\"]]}],\"surface\":[{\"type\":\"surface\",\"colorbar\":{\"outlinewidth\":0,\"ticks\":\"\"},\"colorscale\":[[0.0,\"#0d0887\"],[0.1111111111111111,\"#46039f\"],[0.2222222222222222,\"#7201a8\"],[0.3333333333333333,\"#9c179e\"],[0.4444444444444444,\"#bd3786\"],[0.5555555555555556,\"#d8576b\"],[0.6666666666666666,\"#ed7953\"],[0.7777777777777778,\"#fb9f3a\"],[0.8888888888888888,\"#fdca26\"],[1.0,\"#f0f921\"]]}],\"mesh3d\":[{\"type\":\"mesh3d\",\"colorbar\":{\"outlinewidth\":0,\"ticks\":\"\"}}],\"scatter\":[{\"fillpattern\":{\"fillmode\":\"overlay\",\"size\":10,\"solidity\":0.2},\"type\":\"scatter\"}],\"parcoords\":[{\"type\":\"parcoords\",\"line\":{\"colorbar\":{\"outlinewidth\":0,\"ticks\":\"\"}}}],\"scatterpolargl\":[{\"type\":\"scatterpolargl\",\"marker\":{\"colorbar\":{\"outlinewidth\":0,\"ticks\":\"\"}}}],\"bar\":[{\"error_x\":{\"color\":\"#2a3f5f\"},\"error_y\":{\"color\":\"#2a3f5f\"},\"marker\":{\"line\":{\"color\":\"#E5ECF6\",\"width\":0.5},\"pattern\":{\"fillmode\":\"overlay\",\"size\":10,\"solidity\":0.2}},\"type\":\"bar\"}],\"scattergeo\":[{\"type\":\"scattergeo\",\"marker\":{\"colorbar\":{\"outlinewidth\":0,\"ticks\":\"\"}}}],\"scatterpolar\":[{\"type\":\"scatterpolar\",\"marker\":{\"colorbar\":{\"outlinewidth\":0,\"ticks\":\"\"}}}],\"histogram\":[{\"marker\":{\"pattern\":{\"fillmode\":\"overlay\",\"size\":10,\"solidity\":0.2}},\"type\":\"histogram\"}],\"scattergl\":[{\"type\":\"scattergl\",\"marker\":{\"colorbar\":{\"outlinewidth\":0,\"ticks\":\"\"}}}],\"scatter3d\":[{\"type\":\"scatter3d\",\"line\":{\"colorbar\":{\"outlinewidth\":0,\"ticks\":\"\"}},\"marker\":{\"colorbar\":{\"outlinewidth\":0,\"ticks\":\"\"}}}],\"scattermapbox\":[{\"type\":\"scattermapbox\",\"marker\":{\"colorbar\":{\"outlinewidth\":0,\"ticks\":\"\"}}}],\"scatterternary\":[{\"type\":\"scatterternary\",\"marker\":{\"colorbar\":{\"outlinewidth\":0,\"ticks\":\"\"}}}],\"scattercarpet\":[{\"type\":\"scattercarpet\",\"marker\":{\"colorbar\":{\"outlinewidth\":0,\"ticks\":\"\"}}}],\"carpet\":[{\"aaxis\":{\"endlinecolor\":\"#2a3f5f\",\"gridcolor\":\"white\",\"linecolor\":\"white\",\"minorgridcolor\":\"white\",\"startlinecolor\":\"#2a3f5f\"},\"baxis\":{\"endlinecolor\":\"#2a3f5f\",\"gridcolor\":\"white\",\"linecolor\":\"white\",\"minorgridcolor\":\"white\",\"startlinecolor\":\"#2a3f5f\"},\"type\":\"carpet\"}],\"table\":[{\"cells\":{\"fill\":{\"color\":\"#EBF0F8\"},\"line\":{\"color\":\"white\"}},\"header\":{\"fill\":{\"color\":\"#C8D4E3\"},\"line\":{\"color\":\"white\"}},\"type\":\"table\"}],\"barpolar\":[{\"marker\":{\"line\":{\"color\":\"#E5ECF6\",\"width\":0.5},\"pattern\":{\"fillmode\":\"overlay\",\"size\":10,\"solidity\":0.2}},\"type\":\"barpolar\"}],\"pie\":[{\"automargin\":true,\"type\":\"pie\"}]},\"layout\":{\"autotypenumbers\":\"strict\",\"colorway\":[\"#636efa\",\"#EF553B\",\"#00cc96\",\"#ab63fa\",\"#FFA15A\",\"#19d3f3\",\"#FF6692\",\"#B6E880\",\"#FF97FF\",\"#FECB52\"],\"font\":{\"color\":\"#2a3f5f\"},\"hovermode\":\"closest\",\"hoverlabel\":{\"align\":\"left\"},\"paper_bgcolor\":\"white\",\"plot_bgcolor\":\"#E5ECF6\",\"polar\":{\"bgcolor\":\"#E5ECF6\",\"angularaxis\":{\"gridcolor\":\"white\",\"linecolor\":\"white\",\"ticks\":\"\"},\"radialaxis\":{\"gridcolor\":\"white\",\"linecolor\":\"white\",\"ticks\":\"\"}},\"ternary\":{\"bgcolor\":\"#E5ECF6\",\"aaxis\":{\"gridcolor\":\"white\",\"linecolor\":\"white\",\"ticks\":\"\"},\"baxis\":{\"gridcolor\":\"white\",\"linecolor\":\"white\",\"ticks\":\"\"},\"caxis\":{\"gridcolor\":\"white\",\"linecolor\":\"white\",\"ticks\":\"\"}},\"coloraxis\":{\"colorbar\":{\"outlinewidth\":0,\"ticks\":\"\"}},\"colorscale\":{\"sequential\":[[0.0,\"#0d0887\"],[0.1111111111111111,\"#46039f\"],[0.2222222222222222,\"#7201a8\"],[0.3333333333333333,\"#9c179e\"],[0.4444444444444444,\"#bd3786\"],[0.5555555555555556,\"#d8576b\"],[0.6666666666666666,\"#ed7953\"],[0.7777777777777778,\"#fb9f3a\"],[0.8888888888888888,\"#fdca26\"],[1.0,\"#f0f921\"]],\"sequentialminus\":[[0.0,\"#0d0887\"],[0.1111111111111111,\"#46039f\"],[0.2222222222222222,\"#7201a8\"],[0.3333333333333333,\"#9c179e\"],[0.4444444444444444,\"#bd3786\"],[0.5555555555555556,\"#d8576b\"],[0.6666666666666666,\"#ed7953\"],[0.7777777777777778,\"#fb9f3a\"],[0.8888888888888888,\"#fdca26\"],[1.0,\"#f0f921\"]],\"diverging\":[[0,\"#8e0152\"],[0.1,\"#c51b7d\"],[0.2,\"#de77ae\"],[0.3,\"#f1b6da\"],[0.4,\"#fde0ef\"],[0.5,\"#f7f7f7\"],[0.6,\"#e6f5d0\"],[0.7,\"#b8e186\"],[0.8,\"#7fbc41\"],[0.9,\"#4d9221\"],[1,\"#276419\"]]},\"xaxis\":{\"gridcolor\":\"white\",\"linecolor\":\"white\",\"ticks\":\"\",\"title\":{\"standoff\":15},\"zerolinecolor\":\"white\",\"automargin\":true,\"zerolinewidth\":2},\"yaxis\":{\"gridcolor\":\"white\",\"linecolor\":\"white\",\"ticks\":\"\",\"title\":{\"standoff\":15},\"zerolinecolor\":\"white\",\"automargin\":true,\"zerolinewidth\":2},\"scene\":{\"xaxis\":{\"backgroundcolor\":\"#E5ECF6\",\"gridcolor\":\"white\",\"linecolor\":\"white\",\"showbackground\":true,\"ticks\":\"\",\"zerolinecolor\":\"white\",\"gridwidth\":2},\"yaxis\":{\"backgroundcolor\":\"#E5ECF6\",\"gridcolor\":\"white\",\"linecolor\":\"white\",\"showbackground\":true,\"ticks\":\"\",\"zerolinecolor\":\"white\",\"gridwidth\":2},\"zaxis\":{\"backgroundcolor\":\"#E5ECF6\",\"gridcolor\":\"white\",\"linecolor\":\"white\",\"showbackground\":true,\"ticks\":\"\",\"zerolinecolor\":\"white\",\"gridwidth\":2}},\"shapedefaults\":{\"line\":{\"color\":\"#2a3f5f\"}},\"annotationdefaults\":{\"arrowcolor\":\"#2a3f5f\",\"arrowhead\":0,\"arrowwidth\":1},\"geo\":{\"bgcolor\":\"white\",\"landcolor\":\"#E5ECF6\",\"subunitcolor\":\"white\",\"showland\":true,\"showlakes\":true,\"lakecolor\":\"white\"},\"title\":{\"x\":0.05},\"mapbox\":{\"style\":\"light\"}}},\"xaxis\":{\"anchor\":\"y\",\"domain\":[0.0,1.0],\"title\":{\"text\":\"index\"}},\"yaxis\":{\"anchor\":\"x\",\"domain\":[0.0,1.0],\"title\":{\"text\":\"value\"}},\"legend\":{\"title\":{\"text\":\"variable\"},\"tracegroupgap\":0},\"margin\":{\"t\":60}},                        {\"responsive\": true}                    ).then(function(){\n",
       "                            \n",
       "var gd = document.getElementById('45c50a89-1816-4f24-86bc-b469d0f651f8');\n",
       "var x = new MutationObserver(function (mutations, observer) {{\n",
       "        var display = window.getComputedStyle(gd).display;\n",
       "        if (!display || display === 'none') {{\n",
       "            console.log([gd, 'removed!']);\n",
       "            Plotly.purge(gd);\n",
       "            observer.disconnect();\n",
       "        }}\n",
       "}});\n",
       "\n",
       "// Listen for the removal of the full notebook cells\n",
       "var notebookContainer = gd.closest('#notebook-container');\n",
       "if (notebookContainer) {{\n",
       "    x.observe(notebookContainer, {childList: true});\n",
       "}}\n",
       "\n",
       "// Listen for the clearing of the current output cell\n",
       "var outputEl = gd.closest('.output');\n",
       "if (outputEl) {{\n",
       "    x.observe(outputEl, {childList: true});\n",
       "}}\n",
       "\n",
       "                        })                };                });            </script>        </div>"
      ]
     },
     "metadata": {},
     "output_type": "display_data"
    }
   ],
   "source": [
    "fig = px.line(result, y=result.columns[0:len(result.columns)], x=result.index)\n",
    "fig.show()"
   ]
  },
  {
   "cell_type": "code",
   "execution_count": 98,
   "metadata": {},
   "outputs": [
    {
     "data": {
      "text/html": [
       "<div>\n",
       "<style scoped>\n",
       "    .dataframe tbody tr th:only-of-type {\n",
       "        vertical-align: middle;\n",
       "    }\n",
       "\n",
       "    .dataframe tbody tr th {\n",
       "        vertical-align: top;\n",
       "    }\n",
       "\n",
       "    .dataframe thead th {\n",
       "        text-align: right;\n",
       "    }\n",
       "</style>\n",
       "<table border=\"1\" class=\"dataframe\">\n",
       "  <thead>\n",
       "    <tr style=\"text-align: right;\">\n",
       "      <th></th>\n",
       "      <th>Results</th>\n",
       "    </tr>\n",
       "  </thead>\n",
       "  <tbody>\n",
       "    <tr>\n",
       "      <th>MSE</th>\n",
       "      <td>1327126474.82</td>\n",
       "    </tr>\n",
       "    <tr>\n",
       "      <th>RMSE</th>\n",
       "      <td>36429.75</td>\n",
       "    </tr>\n",
       "    <tr>\n",
       "      <th>MAE</th>\n",
       "      <td>30704.52</td>\n",
       "    </tr>\n",
       "    <tr>\n",
       "      <th>MAPE</th>\n",
       "      <td>0.06</td>\n",
       "    </tr>\n",
       "    <tr>\n",
       "      <th>RSQUARED</th>\n",
       "      <td>-3.44</td>\n",
       "    </tr>\n",
       "  </tbody>\n",
       "</table>\n",
       "</div>"
      ],
      "text/plain": [
       "                Results\n",
       "MSE       1327126474.82\n",
       "RMSE           36429.75\n",
       "MAE            30704.52\n",
       "MAPE               0.06\n",
       "RSQUARED          -3.44"
      ]
     },
     "execution_count": 98,
     "metadata": {},
     "output_type": "execute_result"
    }
   ],
   "source": [
    "MAE = mean_absolute_error(result['y'], result['pred'])\n",
    "RSQUARED = r2_score(result['y'], result['pred'])\n",
    "MAPE = mean_absolute_percentage_error(result['y'], result['pred'])\n",
    "MSE = mean_squared_error(result['y'], result['pred'])\n",
    "RMSE = math.sqrt(MSE)\n",
    "COLUMN_NAMES = [\"MSE\", \"RMSE\", \"MAE\", \"MAPE\", \"RSQUARED\"]\n",
    "values = np.array([f'{MSE:.2f}', f'{RMSE:.2f}', f'{MAE:.2f}', f'{MAPE:.2f}', f'{RSQUARED:.2f}'])\n",
    "\n",
    "df = pd.DataFrame(values, columns=['Results'], index=COLUMN_NAMES)\n",
    "df"
   ]
  },
  {
   "cell_type": "code",
   "execution_count": 159,
   "metadata": {},
   "outputs": [],
   "source": [
    "future= m.make_future_dataframe(periods=20)"
   ]
  },
  {
   "cell_type": "code",
   "execution_count": 160,
   "metadata": {},
   "outputs": [
    {
     "data": {
      "text/html": [
       "<div>\n",
       "<style scoped>\n",
       "    .dataframe tbody tr th:only-of-type {\n",
       "        vertical-align: middle;\n",
       "    }\n",
       "\n",
       "    .dataframe tbody tr th {\n",
       "        vertical-align: top;\n",
       "    }\n",
       "\n",
       "    .dataframe thead th {\n",
       "        text-align: right;\n",
       "    }\n",
       "</style>\n",
       "<table border=\"1\" class=\"dataframe\">\n",
       "  <thead>\n",
       "    <tr style=\"text-align: right;\">\n",
       "      <th></th>\n",
       "      <th>ds</th>\n",
       "      <th>trend</th>\n",
       "      <th>yhat_lower</th>\n",
       "      <th>yhat_upper</th>\n",
       "      <th>trend_lower</th>\n",
       "      <th>trend_upper</th>\n",
       "      <th>additive_terms</th>\n",
       "      <th>additive_terms_lower</th>\n",
       "      <th>additive_terms_upper</th>\n",
       "      <th>daily</th>\n",
       "      <th>...</th>\n",
       "      <th>weekly</th>\n",
       "      <th>weekly_lower</th>\n",
       "      <th>weekly_upper</th>\n",
       "      <th>yearly</th>\n",
       "      <th>yearly_lower</th>\n",
       "      <th>yearly_upper</th>\n",
       "      <th>multiplicative_terms</th>\n",
       "      <th>multiplicative_terms_lower</th>\n",
       "      <th>multiplicative_terms_upper</th>\n",
       "      <th>yhat</th>\n",
       "    </tr>\n",
       "  </thead>\n",
       "  <tbody>\n",
       "    <tr>\n",
       "      <th>20</th>\n",
       "      <td>2010-06-01</td>\n",
       "      <td>409200.506952</td>\n",
       "      <td>61344.978216</td>\n",
       "      <td>170640.313899</td>\n",
       "      <td>409200.506952</td>\n",
       "      <td>409200.506952</td>\n",
       "      <td>-288572.692712</td>\n",
       "      <td>-288572.692712</td>\n",
       "      <td>-288572.692712</td>\n",
       "      <td>-270559.200643</td>\n",
       "      <td>...</td>\n",
       "      <td>-13651.386141</td>\n",
       "      <td>-13651.386141</td>\n",
       "      <td>-13651.386141</td>\n",
       "      <td>-4362.105928</td>\n",
       "      <td>-4362.105928</td>\n",
       "      <td>-4362.105928</td>\n",
       "      <td>0.0</td>\n",
       "      <td>0.0</td>\n",
       "      <td>0.0</td>\n",
       "      <td>120627.814240</td>\n",
       "    </tr>\n",
       "    <tr>\n",
       "      <th>21</th>\n",
       "      <td>2010-06-02</td>\n",
       "      <td>409177.247111</td>\n",
       "      <td>56435.709982</td>\n",
       "      <td>184090.494165</td>\n",
       "      <td>409177.247111</td>\n",
       "      <td>409177.247111</td>\n",
       "      <td>-288638.089872</td>\n",
       "      <td>-288638.089872</td>\n",
       "      <td>-288638.089872</td>\n",
       "      <td>-270559.200643</td>\n",
       "      <td>...</td>\n",
       "      <td>-13774.983482</td>\n",
       "      <td>-13774.983482</td>\n",
       "      <td>-13774.983482</td>\n",
       "      <td>-4303.905747</td>\n",
       "      <td>-4303.905747</td>\n",
       "      <td>-4303.905747</td>\n",
       "      <td>0.0</td>\n",
       "      <td>0.0</td>\n",
       "      <td>0.0</td>\n",
       "      <td>120539.157239</td>\n",
       "    </tr>\n",
       "    <tr>\n",
       "      <th>22</th>\n",
       "      <td>2010-06-03</td>\n",
       "      <td>409153.987270</td>\n",
       "      <td>64811.139915</td>\n",
       "      <td>182018.845307</td>\n",
       "      <td>409153.987270</td>\n",
       "      <td>409153.987270</td>\n",
       "      <td>-288460.264837</td>\n",
       "      <td>-288460.264837</td>\n",
       "      <td>-288460.264837</td>\n",
       "      <td>-270559.200643</td>\n",
       "      <td>...</td>\n",
       "      <td>-13660.729270</td>\n",
       "      <td>-13660.729270</td>\n",
       "      <td>-13660.729270</td>\n",
       "      <td>-4240.334923</td>\n",
       "      <td>-4240.334923</td>\n",
       "      <td>-4240.334923</td>\n",
       "      <td>0.0</td>\n",
       "      <td>0.0</td>\n",
       "      <td>0.0</td>\n",
       "      <td>120693.722433</td>\n",
       "    </tr>\n",
       "    <tr>\n",
       "      <th>23</th>\n",
       "      <td>2010-06-04</td>\n",
       "      <td>409130.727428</td>\n",
       "      <td>64077.380615</td>\n",
       "      <td>183651.782045</td>\n",
       "      <td>409130.727428</td>\n",
       "      <td>409130.727428</td>\n",
       "      <td>-288053.104509</td>\n",
       "      <td>-288053.104509</td>\n",
       "      <td>-288053.104509</td>\n",
       "      <td>-270559.200643</td>\n",
       "      <td>...</td>\n",
       "      <td>-13317.632944</td>\n",
       "      <td>-13317.632944</td>\n",
       "      <td>-13317.632944</td>\n",
       "      <td>-4176.270922</td>\n",
       "      <td>-4176.270922</td>\n",
       "      <td>-4176.270922</td>\n",
       "      <td>0.0</td>\n",
       "      <td>0.0</td>\n",
       "      <td>0.0</td>\n",
       "      <td>121077.622919</td>\n",
       "    </tr>\n",
       "    <tr>\n",
       "      <th>24</th>\n",
       "      <td>2010-06-07</td>\n",
       "      <td>409060.947905</td>\n",
       "      <td>62050.458087</td>\n",
       "      <td>173672.625452</td>\n",
       "      <td>409060.947905</td>\n",
       "      <td>409060.947905</td>\n",
       "      <td>-287821.053028</td>\n",
       "      <td>-287821.053028</td>\n",
       "      <td>-287821.053028</td>\n",
       "      <td>-270559.200643</td>\n",
       "      <td>...</td>\n",
       "      <td>-13235.068161</td>\n",
       "      <td>-13235.068161</td>\n",
       "      <td>-13235.068161</td>\n",
       "      <td>-4026.784223</td>\n",
       "      <td>-4026.784223</td>\n",
       "      <td>-4026.784223</td>\n",
       "      <td>0.0</td>\n",
       "      <td>0.0</td>\n",
       "      <td>0.0</td>\n",
       "      <td>121239.894877</td>\n",
       "    </tr>\n",
       "    <tr>\n",
       "      <th>...</th>\n",
       "      <td>...</td>\n",
       "      <td>...</td>\n",
       "      <td>...</td>\n",
       "      <td>...</td>\n",
       "      <td>...</td>\n",
       "      <td>...</td>\n",
       "      <td>...</td>\n",
       "      <td>...</td>\n",
       "      <td>...</td>\n",
       "      <td>...</td>\n",
       "      <td>...</td>\n",
       "      <td>...</td>\n",
       "      <td>...</td>\n",
       "      <td>...</td>\n",
       "      <td>...</td>\n",
       "      <td>...</td>\n",
       "      <td>...</td>\n",
       "      <td>...</td>\n",
       "      <td>...</td>\n",
       "      <td>...</td>\n",
       "      <td>...</td>\n",
       "    </tr>\n",
       "    <tr>\n",
       "      <th>3022</th>\n",
       "      <td>2022-04-24</td>\n",
       "      <td>756695.465165</td>\n",
       "      <td>450855.288461</td>\n",
       "      <td>581757.813975</td>\n",
       "      <td>755330.339131</td>\n",
       "      <td>759097.484195</td>\n",
       "      <td>-234685.006519</td>\n",
       "      <td>-234685.006519</td>\n",
       "      <td>-234685.006519</td>\n",
       "      <td>-270559.200643</td>\n",
       "      <td>...</td>\n",
       "      <td>33819.899702</td>\n",
       "      <td>33819.899702</td>\n",
       "      <td>33819.899702</td>\n",
       "      <td>2054.294422</td>\n",
       "      <td>2054.294422</td>\n",
       "      <td>2054.294422</td>\n",
       "      <td>0.0</td>\n",
       "      <td>0.0</td>\n",
       "      <td>0.0</td>\n",
       "      <td>522010.458646</td>\n",
       "    </tr>\n",
       "    <tr>\n",
       "      <th>3023</th>\n",
       "      <td>2022-04-25</td>\n",
       "      <td>756911.849713</td>\n",
       "      <td>421176.204371</td>\n",
       "      <td>536186.737785</td>\n",
       "      <td>755410.822703</td>\n",
       "      <td>759485.761338</td>\n",
       "      <td>-281571.185640</td>\n",
       "      <td>-281571.185640</td>\n",
       "      <td>-281571.185640</td>\n",
       "      <td>-270559.200643</td>\n",
       "      <td>...</td>\n",
       "      <td>-13235.068161</td>\n",
       "      <td>-13235.068161</td>\n",
       "      <td>-13235.068161</td>\n",
       "      <td>2223.083165</td>\n",
       "      <td>2223.083165</td>\n",
       "      <td>2223.083165</td>\n",
       "      <td>0.0</td>\n",
       "      <td>0.0</td>\n",
       "      <td>0.0</td>\n",
       "      <td>475340.664073</td>\n",
       "    </tr>\n",
       "    <tr>\n",
       "      <th>3024</th>\n",
       "      <td>2022-04-26</td>\n",
       "      <td>757128.234261</td>\n",
       "      <td>422633.979025</td>\n",
       "      <td>533806.716199</td>\n",
       "      <td>755491.306274</td>\n",
       "      <td>759874.038480</td>\n",
       "      <td>-281838.728801</td>\n",
       "      <td>-281838.728801</td>\n",
       "      <td>-281838.728801</td>\n",
       "      <td>-270559.200643</td>\n",
       "      <td>...</td>\n",
       "      <td>-13651.386141</td>\n",
       "      <td>-13651.386141</td>\n",
       "      <td>-13651.386141</td>\n",
       "      <td>2371.857982</td>\n",
       "      <td>2371.857982</td>\n",
       "      <td>2371.857982</td>\n",
       "      <td>0.0</td>\n",
       "      <td>0.0</td>\n",
       "      <td>0.0</td>\n",
       "      <td>475289.505459</td>\n",
       "    </tr>\n",
       "    <tr>\n",
       "      <th>3025</th>\n",
       "      <td>2022-04-27</td>\n",
       "      <td>757344.618809</td>\n",
       "      <td>412426.462980</td>\n",
       "      <td>526144.725118</td>\n",
       "      <td>755571.789845</td>\n",
       "      <td>760262.315623</td>\n",
       "      <td>-281838.895309</td>\n",
       "      <td>-281838.895309</td>\n",
       "      <td>-281838.895309</td>\n",
       "      <td>-270559.200643</td>\n",
       "      <td>...</td>\n",
       "      <td>-13774.983482</td>\n",
       "      <td>-13774.983482</td>\n",
       "      <td>-13774.983482</td>\n",
       "      <td>2495.288816</td>\n",
       "      <td>2495.288816</td>\n",
       "      <td>2495.288816</td>\n",
       "      <td>0.0</td>\n",
       "      <td>0.0</td>\n",
       "      <td>0.0</td>\n",
       "      <td>475505.723499</td>\n",
       "    </tr>\n",
       "    <tr>\n",
       "      <th>3026</th>\n",
       "      <td>2022-04-28</td>\n",
       "      <td>757561.003357</td>\n",
       "      <td>424193.715337</td>\n",
       "      <td>545166.538896</td>\n",
       "      <td>755652.273417</td>\n",
       "      <td>760650.592766</td>\n",
       "      <td>-281631.396572</td>\n",
       "      <td>-281631.396572</td>\n",
       "      <td>-281631.396572</td>\n",
       "      <td>-270559.200643</td>\n",
       "      <td>...</td>\n",
       "      <td>-13660.729270</td>\n",
       "      <td>-13660.729270</td>\n",
       "      <td>-13660.729270</td>\n",
       "      <td>2588.533341</td>\n",
       "      <td>2588.533341</td>\n",
       "      <td>2588.533341</td>\n",
       "      <td>0.0</td>\n",
       "      <td>0.0</td>\n",
       "      <td>0.0</td>\n",
       "      <td>475929.606785</td>\n",
       "    </tr>\n",
       "  </tbody>\n",
       "</table>\n",
       "<p>3007 rows × 22 columns</p>\n",
       "</div>"
      ],
      "text/plain": [
       "             ds          trend     yhat_lower     yhat_upper    trend_lower  \\\n",
       "20   2010-06-01  409200.506952   61344.978216  170640.313899  409200.506952   \n",
       "21   2010-06-02  409177.247111   56435.709982  184090.494165  409177.247111   \n",
       "22   2010-06-03  409153.987270   64811.139915  182018.845307  409153.987270   \n",
       "23   2010-06-04  409130.727428   64077.380615  183651.782045  409130.727428   \n",
       "24   2010-06-07  409060.947905   62050.458087  173672.625452  409060.947905   \n",
       "...         ...            ...            ...            ...            ...   \n",
       "3022 2022-04-24  756695.465165  450855.288461  581757.813975  755330.339131   \n",
       "3023 2022-04-25  756911.849713  421176.204371  536186.737785  755410.822703   \n",
       "3024 2022-04-26  757128.234261  422633.979025  533806.716199  755491.306274   \n",
       "3025 2022-04-27  757344.618809  412426.462980  526144.725118  755571.789845   \n",
       "3026 2022-04-28  757561.003357  424193.715337  545166.538896  755652.273417   \n",
       "\n",
       "        trend_upper  additive_terms  additive_terms_lower  \\\n",
       "20    409200.506952  -288572.692712        -288572.692712   \n",
       "21    409177.247111  -288638.089872        -288638.089872   \n",
       "22    409153.987270  -288460.264837        -288460.264837   \n",
       "23    409130.727428  -288053.104509        -288053.104509   \n",
       "24    409060.947905  -287821.053028        -287821.053028   \n",
       "...             ...             ...                   ...   \n",
       "3022  759097.484195  -234685.006519        -234685.006519   \n",
       "3023  759485.761338  -281571.185640        -281571.185640   \n",
       "3024  759874.038480  -281838.728801        -281838.728801   \n",
       "3025  760262.315623  -281838.895309        -281838.895309   \n",
       "3026  760650.592766  -281631.396572        -281631.396572   \n",
       "\n",
       "      additive_terms_upper          daily  ...        weekly  weekly_lower  \\\n",
       "20          -288572.692712 -270559.200643  ... -13651.386141 -13651.386141   \n",
       "21          -288638.089872 -270559.200643  ... -13774.983482 -13774.983482   \n",
       "22          -288460.264837 -270559.200643  ... -13660.729270 -13660.729270   \n",
       "23          -288053.104509 -270559.200643  ... -13317.632944 -13317.632944   \n",
       "24          -287821.053028 -270559.200643  ... -13235.068161 -13235.068161   \n",
       "...                    ...            ...  ...           ...           ...   \n",
       "3022        -234685.006519 -270559.200643  ...  33819.899702  33819.899702   \n",
       "3023        -281571.185640 -270559.200643  ... -13235.068161 -13235.068161   \n",
       "3024        -281838.728801 -270559.200643  ... -13651.386141 -13651.386141   \n",
       "3025        -281838.895309 -270559.200643  ... -13774.983482 -13774.983482   \n",
       "3026        -281631.396572 -270559.200643  ... -13660.729270 -13660.729270   \n",
       "\n",
       "      weekly_upper       yearly  yearly_lower  yearly_upper  \\\n",
       "20   -13651.386141 -4362.105928  -4362.105928  -4362.105928   \n",
       "21   -13774.983482 -4303.905747  -4303.905747  -4303.905747   \n",
       "22   -13660.729270 -4240.334923  -4240.334923  -4240.334923   \n",
       "23   -13317.632944 -4176.270922  -4176.270922  -4176.270922   \n",
       "24   -13235.068161 -4026.784223  -4026.784223  -4026.784223   \n",
       "...            ...          ...           ...           ...   \n",
       "3022  33819.899702  2054.294422   2054.294422   2054.294422   \n",
       "3023 -13235.068161  2223.083165   2223.083165   2223.083165   \n",
       "3024 -13651.386141  2371.857982   2371.857982   2371.857982   \n",
       "3025 -13774.983482  2495.288816   2495.288816   2495.288816   \n",
       "3026 -13660.729270  2588.533341   2588.533341   2588.533341   \n",
       "\n",
       "      multiplicative_terms  multiplicative_terms_lower  \\\n",
       "20                     0.0                         0.0   \n",
       "21                     0.0                         0.0   \n",
       "22                     0.0                         0.0   \n",
       "23                     0.0                         0.0   \n",
       "24                     0.0                         0.0   \n",
       "...                    ...                         ...   \n",
       "3022                   0.0                         0.0   \n",
       "3023                   0.0                         0.0   \n",
       "3024                   0.0                         0.0   \n",
       "3025                   0.0                         0.0   \n",
       "3026                   0.0                         0.0   \n",
       "\n",
       "      multiplicative_terms_upper           yhat  \n",
       "20                           0.0  120627.814240  \n",
       "21                           0.0  120539.157239  \n",
       "22                           0.0  120693.722433  \n",
       "23                           0.0  121077.622919  \n",
       "24                           0.0  121239.894877  \n",
       "...                          ...            ...  \n",
       "3022                         0.0  522010.458646  \n",
       "3023                         0.0  475340.664073  \n",
       "3024                         0.0  475289.505459  \n",
       "3025                         0.0  475505.723499  \n",
       "3026                         0.0  475929.606785  \n",
       "\n",
       "[3007 rows x 22 columns]"
      ]
     },
     "execution_count": 160,
     "metadata": {},
     "output_type": "execute_result"
    }
   ],
   "source": [
    "result=m.predict(future)[(len(result))-20:]\n",
    "result"
   ]
  },
  {
   "cell_type": "code",
   "execution_count": 161,
   "metadata": {},
   "outputs": [
    {
     "name": "stdout",
     "output_type": "stream",
     "text": [
      "[*********************100%***********************]  1 of 1 completed\n"
     ]
    }
   ],
   "source": [
    "tickers=['BRK-A']\n",
    "\n",
    "df = yf.download(tickers=tickers,start=\"2010-05-04\", end = \"2022-04-29\", interval='1d')"
   ]
  },
  {
   "cell_type": "code",
   "execution_count": 162,
   "metadata": {},
   "outputs": [],
   "source": [
    "df=df['Close'][-20:]"
   ]
  },
  {
   "cell_type": "code",
   "execution_count": 165,
   "metadata": {},
   "outputs": [],
   "source": [
    "result=m.predict(future)\n",
    "result=result[-20:]"
   ]
  },
  {
   "cell_type": "code",
   "execution_count": 166,
   "metadata": {},
   "outputs": [],
   "source": [
    "df.index=result.index"
   ]
  },
  {
   "cell_type": "code",
   "execution_count": 167,
   "metadata": {},
   "outputs": [],
   "source": [
    "result=pd.concat([result, df], axis=1)"
   ]
  },
  {
   "cell_type": "code",
   "execution_count": 168,
   "metadata": {},
   "outputs": [
    {
     "data": {
      "application/vnd.plotly.v1+json": {
       "config": {
        "plotlyServerURL": "https://plot.ly"
       },
       "data": [
        {
         "hovertemplate": "variable=trend<br>index=%{x}<br>value=%{y}<extra></extra>",
         "legendgroup": "trend",
         "line": {
          "color": "#636efa",
          "dash": "solid"
         },
         "marker": {
          "symbol": "circle"
         },
         "mode": "lines",
         "name": "trend",
         "orientation": "v",
         "showlegend": true,
         "type": "scatter",
         "x": [
          3007,
          3008,
          3009,
          3010,
          3011,
          3012,
          3013,
          3014,
          3015,
          3016,
          3017,
          3018,
          3019,
          3020,
          3021,
          3022,
          3023,
          3024,
          3025,
          3026
         ],
         "xaxis": "x",
         "y": [
          753449.6969448157,
          753666.0814928103,
          753882.466040805,
          754098.8505887996,
          754315.2351367944,
          754531.6196847891,
          754748.0042327836,
          754964.3887807783,
          755180.773328773,
          755397.1578767676,
          755613.5424247623,
          755829.9269727569,
          756046.3115207516,
          756262.6960687464,
          756479.0806167411,
          756695.4651647357,
          756911.8497127304,
          757128.234260725,
          757344.6188087196,
          757561.0033567142
         ],
         "yaxis": "y"
        },
        {
         "hovertemplate": "variable=yhat_lower<br>index=%{x}<br>value=%{y}<extra></extra>",
         "legendgroup": "yhat_lower",
         "line": {
          "color": "#EF553B",
          "dash": "solid"
         },
         "marker": {
          "symbol": "circle"
         },
         "mode": "lines",
         "name": "yhat_lower",
         "orientation": "v",
         "showlegend": true,
         "type": "scatter",
         "x": [
          3007,
          3008,
          3009,
          3010,
          3011,
          3012,
          3013,
          3014,
          3015,
          3016,
          3017,
          3018,
          3019,
          3020,
          3021,
          3022,
          3023,
          3024,
          3025,
          3026
         ],
         "xaxis": "x",
         "y": [
          464430.2312386283,
          457790.2542277363,
          418346.8345808205,
          414705.94954633474,
          417446.776348488,
          413308.04027662374,
          412587.23058978614,
          467336.66332333366,
          455631.91783653456,
          412772.95654033753,
          416888.3010590461,
          408770.7210894647,
          424114.63877921645,
          424077.9263598403,
          472108.5842239541,
          469209.78399640415,
          425035.17468834354,
          423317.94202514936,
          429015.9743255113,
          424800.75870607805
         ],
         "yaxis": "y"
        },
        {
         "hovertemplate": "variable=yhat_upper<br>index=%{x}<br>value=%{y}<extra></extra>",
         "legendgroup": "yhat_upper",
         "line": {
          "color": "#00cc96",
          "dash": "solid"
         },
         "marker": {
          "symbol": "circle"
         },
         "mode": "lines",
         "name": "yhat_upper",
         "orientation": "v",
         "showlegend": true,
         "type": "scatter",
         "x": [
          3007,
          3008,
          3009,
          3010,
          3011,
          3012,
          3013,
          3014,
          3015,
          3016,
          3017,
          3018,
          3019,
          3020,
          3021,
          3022,
          3023,
          3024,
          3025,
          3026
         ],
         "xaxis": "x",
         "y": [
          569882.3098369573,
          570460.4453792624,
          521568.1756444013,
          531549.2304426854,
          526426.1544507949,
          535445.4553759061,
          533492.9325055813,
          575612.2322637003,
          575421.1927881812,
          524872.5377361547,
          531597.1653059745,
          521891.0369826448,
          527386.8487936191,
          533453.1491766552,
          577889.555259383,
          573830.6006650083,
          522758.952753091,
          548240.7756808107,
          532483.016555759,
          536634.6964871036
         ],
         "yaxis": "y"
        },
        {
         "hovertemplate": "variable=trend_lower<br>index=%{x}<br>value=%{y}<extra></extra>",
         "legendgroup": "trend_lower",
         "line": {
          "color": "#ab63fa",
          "dash": "solid"
         },
         "marker": {
          "symbol": "circle"
         },
         "mode": "lines",
         "name": "trend_lower",
         "orientation": "v",
         "showlegend": true,
         "type": "scatter",
         "x": [
          3007,
          3008,
          3009,
          3010,
          3011,
          3012,
          3013,
          3014,
          3015,
          3016,
          3017,
          3018,
          3019,
          3020,
          3021,
          3022,
          3023,
          3024,
          3025,
          3026
         ],
         "xaxis": "x",
         "y": [
          753424.0360723406,
          753599.4394993666,
          753774.0020161648,
          753948.5645329631,
          754123.1270497614,
          754297.6895665597,
          754472.252083358,
          754625.6496643091,
          754711.6967000077,
          754797.7437357063,
          754883.7907714047,
          754969.8378071034,
          755055.884842802,
          755141.9318785007,
          755227.9789141992,
          755314.0259498978,
          755400.0729855964,
          755486.120021295,
          755572.1670569937,
          755658.2140926922
         ],
         "yaxis": "y"
        },
        {
         "hovertemplate": "variable=trend_upper<br>index=%{x}<br>value=%{y}<extra></extra>",
         "legendgroup": "trend_upper",
         "line": {
          "color": "#FFA15A",
          "dash": "solid"
         },
         "marker": {
          "symbol": "circle"
         },
         "mode": "lines",
         "name": "trend_upper",
         "orientation": "v",
         "showlegend": true,
         "type": "scatter",
         "x": [
          3007,
          3008,
          3009,
          3010,
          3011,
          3012,
          3013,
          3014,
          3015,
          3016,
          3017,
          3018,
          3019,
          3020,
          3021,
          3022,
          3023,
          3024,
          3025,
          3026
         ],
         "xaxis": "x",
         "y": [
          753574.8741477763,
          753919.062895596,
          754263.2516434157,
          754607.4403912354,
          754968.4178186773,
          755349.2704756144,
          755730.1231325517,
          756110.9757894888,
          756491.8284464261,
          756872.6811033633,
          757253.5337603006,
          757634.3864172377,
          758015.239074175,
          758396.0917311127,
          758776.9443880498,
          759157.7970449871,
          759538.6497019242,
          759919.5023588615,
          760332.0421558229,
          760808.4120127726
         ],
         "yaxis": "y"
        },
        {
         "hovertemplate": "variable=additive_terms<br>index=%{x}<br>value=%{y}<extra></extra>",
         "legendgroup": "additive_terms",
         "line": {
          "color": "#19d3f3",
          "dash": "solid"
         },
         "marker": {
          "symbol": "circle"
         },
         "mode": "lines",
         "name": "additive_terms",
         "orientation": "v",
         "showlegend": true,
         "type": "scatter",
         "x": [
          3007,
          3008,
          3009,
          3010,
          3011,
          3012,
          3013,
          3014,
          3015,
          3016,
          3017,
          3018,
          3019,
          3020,
          3021,
          3022,
          3023,
          3024,
          3025,
          3026
         ],
         "xaxis": "x",
         "y": [
          -235995.43676194196,
          -236110.87435793597,
          -283245.8678029843,
          -283705.9566536975,
          -283837.0299918884,
          -283694.740404528,
          -283289.7052956444,
          -236058.74295727466,
          -235937.0029849941,
          -282845.8047086242,
          -283096.0469658781,
          -283038.7116164255,
          -282734.14904825465,
          -282197.158819833,
          -234868.1161050796,
          -234685.00651888445,
          -281571.18563982926,
          -281838.7288014696,
          -281838.8953093124,
          -281631.39657196164
         ],
         "yaxis": "y"
        },
        {
         "hovertemplate": "variable=additive_terms_lower<br>index=%{x}<br>value=%{y}<extra></extra>",
         "legendgroup": "additive_terms_lower",
         "line": {
          "color": "#FF6692",
          "dash": "solid"
         },
         "marker": {
          "symbol": "circle"
         },
         "mode": "lines",
         "name": "additive_terms_lower",
         "orientation": "v",
         "showlegend": true,
         "type": "scatter",
         "x": [
          3007,
          3008,
          3009,
          3010,
          3011,
          3012,
          3013,
          3014,
          3015,
          3016,
          3017,
          3018,
          3019,
          3020,
          3021,
          3022,
          3023,
          3024,
          3025,
          3026
         ],
         "xaxis": "x",
         "y": [
          -235995.43676194196,
          -236110.87435793597,
          -283245.8678029843,
          -283705.9566536975,
          -283837.0299918884,
          -283694.740404528,
          -283289.7052956444,
          -236058.74295727466,
          -235937.0029849941,
          -282845.8047086242,
          -283096.0469658781,
          -283038.7116164255,
          -282734.14904825465,
          -282197.158819833,
          -234868.1161050796,
          -234685.00651888445,
          -281571.18563982926,
          -281838.7288014696,
          -281838.8953093124,
          -281631.39657196164
         ],
         "yaxis": "y"
        },
        {
         "hovertemplate": "variable=additive_terms_upper<br>index=%{x}<br>value=%{y}<extra></extra>",
         "legendgroup": "additive_terms_upper",
         "line": {
          "color": "#B6E880",
          "dash": "solid"
         },
         "marker": {
          "symbol": "circle"
         },
         "mode": "lines",
         "name": "additive_terms_upper",
         "orientation": "v",
         "showlegend": true,
         "type": "scatter",
         "x": [
          3007,
          3008,
          3009,
          3010,
          3011,
          3012,
          3013,
          3014,
          3015,
          3016,
          3017,
          3018,
          3019,
          3020,
          3021,
          3022,
          3023,
          3024,
          3025,
          3026
         ],
         "xaxis": "x",
         "y": [
          -235995.43676194196,
          -236110.87435793597,
          -283245.8678029843,
          -283705.9566536975,
          -283837.0299918884,
          -283694.740404528,
          -283289.7052956444,
          -236058.74295727466,
          -235937.0029849941,
          -282845.8047086242,
          -283096.0469658781,
          -283038.7116164255,
          -282734.14904825465,
          -282197.158819833,
          -234868.1161050796,
          -234685.00651888445,
          -281571.18563982926,
          -281838.7288014696,
          -281838.8953093124,
          -281631.39657196164
         ],
         "yaxis": "y"
        },
        {
         "hovertemplate": "variable=daily<br>index=%{x}<br>value=%{y}<extra></extra>",
         "legendgroup": "daily",
         "line": {
          "color": "#FF97FF",
          "dash": "solid"
         },
         "marker": {
          "symbol": "circle"
         },
         "mode": "lines",
         "name": "daily",
         "orientation": "v",
         "showlegend": true,
         "type": "scatter",
         "x": [
          3007,
          3008,
          3009,
          3010,
          3011,
          3012,
          3013,
          3014,
          3015,
          3016,
          3017,
          3018,
          3019,
          3020,
          3021,
          3022,
          3023,
          3024,
          3025,
          3026
         ],
         "xaxis": "x",
         "y": [
          -270559.20064340497,
          -270559.20064340497,
          -270559.20064340497,
          -270559.20064340497,
          -270559.20064340497,
          -270559.20064340497,
          -270559.20064340497,
          -270559.20064340497,
          -270559.20064340497,
          -270559.20064340497,
          -270559.20064340497,
          -270559.20064340497,
          -270559.20064340497,
          -270559.20064340497,
          -270559.20064340497,
          -270559.20064340497,
          -270559.20064340497,
          -270559.20064340497,
          -270559.20064340497,
          -270559.20064340497
         ],
         "yaxis": "y"
        },
        {
         "hovertemplate": "variable=daily_lower<br>index=%{x}<br>value=%{y}<extra></extra>",
         "legendgroup": "daily_lower",
         "line": {
          "color": "#FECB52",
          "dash": "solid"
         },
         "marker": {
          "symbol": "circle"
         },
         "mode": "lines",
         "name": "daily_lower",
         "orientation": "v",
         "showlegend": true,
         "type": "scatter",
         "x": [
          3007,
          3008,
          3009,
          3010,
          3011,
          3012,
          3013,
          3014,
          3015,
          3016,
          3017,
          3018,
          3019,
          3020,
          3021,
          3022,
          3023,
          3024,
          3025,
          3026
         ],
         "xaxis": "x",
         "y": [
          -270559.20064340497,
          -270559.20064340497,
          -270559.20064340497,
          -270559.20064340497,
          -270559.20064340497,
          -270559.20064340497,
          -270559.20064340497,
          -270559.20064340497,
          -270559.20064340497,
          -270559.20064340497,
          -270559.20064340497,
          -270559.20064340497,
          -270559.20064340497,
          -270559.20064340497,
          -270559.20064340497,
          -270559.20064340497,
          -270559.20064340497,
          -270559.20064340497,
          -270559.20064340497,
          -270559.20064340497
         ],
         "yaxis": "y"
        },
        {
         "hovertemplate": "variable=daily_upper<br>index=%{x}<br>value=%{y}<extra></extra>",
         "legendgroup": "daily_upper",
         "line": {
          "color": "#636efa",
          "dash": "solid"
         },
         "marker": {
          "symbol": "circle"
         },
         "mode": "lines",
         "name": "daily_upper",
         "orientation": "v",
         "showlegend": true,
         "type": "scatter",
         "x": [
          3007,
          3008,
          3009,
          3010,
          3011,
          3012,
          3013,
          3014,
          3015,
          3016,
          3017,
          3018,
          3019,
          3020,
          3021,
          3022,
          3023,
          3024,
          3025,
          3026
         ],
         "xaxis": "x",
         "y": [
          -270559.20064340497,
          -270559.20064340497,
          -270559.20064340497,
          -270559.20064340497,
          -270559.20064340497,
          -270559.20064340497,
          -270559.20064340497,
          -270559.20064340497,
          -270559.20064340497,
          -270559.20064340497,
          -270559.20064340497,
          -270559.20064340497,
          -270559.20064340497,
          -270559.20064340497,
          -270559.20064340497,
          -270559.20064340497,
          -270559.20064340497,
          -270559.20064340497,
          -270559.20064340497,
          -270559.20064340497
         ],
         "yaxis": "y"
        },
        {
         "hovertemplate": "variable=weekly<br>index=%{x}<br>value=%{y}<extra></extra>",
         "legendgroup": "weekly",
         "line": {
          "color": "#EF553B",
          "dash": "solid"
         },
         "marker": {
          "symbol": "circle"
         },
         "mode": "lines",
         "name": "weekly",
         "orientation": "v",
         "showlegend": true,
         "type": "scatter",
         "x": [
          3007,
          3008,
          3009,
          3010,
          3011,
          3012,
          3013,
          3014,
          3015,
          3016,
          3017,
          3018,
          3019,
          3020,
          3021,
          3022,
          3023,
          3024,
          3025,
          3026
         ],
         "xaxis": "x",
         "y": [
          33819.90029467946,
          33819.89970230787,
          -13235.068161305562,
          -13651.386140536633,
          -13774.983481564053,
          -13660.729269972622,
          -13317.632943584224,
          33819.90029469416,
          33819.89970225108,
          -13235.06816137247,
          -13651.386140523531,
          -13774.983481564092,
          -13660.729269937026,
          -13317.632943657141,
          33819.90029475096,
          33819.89970227856,
          -13235.0681613717,
          -13651.386140558961,
          -13774.983481564124,
          -13660.729269931477
         ],
         "yaxis": "y"
        },
        {
         "hovertemplate": "variable=weekly_lower<br>index=%{x}<br>value=%{y}<extra></extra>",
         "legendgroup": "weekly_lower",
         "line": {
          "color": "#00cc96",
          "dash": "solid"
         },
         "marker": {
          "symbol": "circle"
         },
         "mode": "lines",
         "name": "weekly_lower",
         "orientation": "v",
         "showlegend": true,
         "type": "scatter",
         "x": [
          3007,
          3008,
          3009,
          3010,
          3011,
          3012,
          3013,
          3014,
          3015,
          3016,
          3017,
          3018,
          3019,
          3020,
          3021,
          3022,
          3023,
          3024,
          3025,
          3026
         ],
         "xaxis": "x",
         "y": [
          33819.90029467946,
          33819.89970230787,
          -13235.068161305562,
          -13651.386140536633,
          -13774.983481564053,
          -13660.729269972622,
          -13317.632943584224,
          33819.90029469416,
          33819.89970225108,
          -13235.06816137247,
          -13651.386140523531,
          -13774.983481564092,
          -13660.729269937026,
          -13317.632943657141,
          33819.90029475096,
          33819.89970227856,
          -13235.0681613717,
          -13651.386140558961,
          -13774.983481564124,
          -13660.729269931477
         ],
         "yaxis": "y"
        },
        {
         "hovertemplate": "variable=weekly_upper<br>index=%{x}<br>value=%{y}<extra></extra>",
         "legendgroup": "weekly_upper",
         "line": {
          "color": "#ab63fa",
          "dash": "solid"
         },
         "marker": {
          "symbol": "circle"
         },
         "mode": "lines",
         "name": "weekly_upper",
         "orientation": "v",
         "showlegend": true,
         "type": "scatter",
         "x": [
          3007,
          3008,
          3009,
          3010,
          3011,
          3012,
          3013,
          3014,
          3015,
          3016,
          3017,
          3018,
          3019,
          3020,
          3021,
          3022,
          3023,
          3024,
          3025,
          3026
         ],
         "xaxis": "x",
         "y": [
          33819.90029467946,
          33819.89970230787,
          -13235.068161305562,
          -13651.386140536633,
          -13774.983481564053,
          -13660.729269972622,
          -13317.632943584224,
          33819.90029469416,
          33819.89970225108,
          -13235.06816137247,
          -13651.386140523531,
          -13774.983481564092,
          -13660.729269937026,
          -13317.632943657141,
          33819.90029475096,
          33819.89970227856,
          -13235.0681613717,
          -13651.386140558961,
          -13774.983481564124,
          -13660.729269931477
         ],
         "yaxis": "y"
        },
        {
         "hovertemplate": "variable=yearly<br>index=%{x}<br>value=%{y}<extra></extra>",
         "legendgroup": "yearly",
         "line": {
          "color": "#FFA15A",
          "dash": "solid"
         },
         "marker": {
          "symbol": "circle"
         },
         "mode": "lines",
         "name": "yearly",
         "orientation": "v",
         "showlegend": true,
         "type": "scatter",
         "x": [
          3007,
          3008,
          3009,
          3010,
          3011,
          3012,
          3013,
          3014,
          3015,
          3016,
          3017,
          3018,
          3019,
          3020,
          3021,
          3022,
          3023,
          3024,
          3025,
          3026
         ],
         "xaxis": "x",
         "y": [
          743.8635867835411,
          628.4265831611184,
          548.4010017262308,
          504.63013024409247,
          497.1541330806601,
          525.1895088496295,
          587.1282913448144,
          680.5573914361757,
          802.2979561597875,
          948.4640961532276,
          1114.5398180503878,
          1295.4725085435407,
          1485.780865087368,
          1679.674767229097,
          1871.18424357446,
          2054.29442224196,
          2223.083164947435,
          2371.8579824943663,
          2495.2888156567296,
          2588.5333413748194
         ],
         "yaxis": "y"
        },
        {
         "hovertemplate": "variable=yearly_lower<br>index=%{x}<br>value=%{y}<extra></extra>",
         "legendgroup": "yearly_lower",
         "line": {
          "color": "#19d3f3",
          "dash": "solid"
         },
         "marker": {
          "symbol": "circle"
         },
         "mode": "lines",
         "name": "yearly_lower",
         "orientation": "v",
         "showlegend": true,
         "type": "scatter",
         "x": [
          3007,
          3008,
          3009,
          3010,
          3011,
          3012,
          3013,
          3014,
          3015,
          3016,
          3017,
          3018,
          3019,
          3020,
          3021,
          3022,
          3023,
          3024,
          3025,
          3026
         ],
         "xaxis": "x",
         "y": [
          743.8635867835411,
          628.4265831611184,
          548.4010017262308,
          504.63013024409247,
          497.1541330806601,
          525.1895088496295,
          587.1282913448144,
          680.5573914361757,
          802.2979561597875,
          948.4640961532276,
          1114.5398180503878,
          1295.4725085435407,
          1485.780865087368,
          1679.674767229097,
          1871.18424357446,
          2054.29442224196,
          2223.083164947435,
          2371.8579824943663,
          2495.2888156567296,
          2588.5333413748194
         ],
         "yaxis": "y"
        },
        {
         "hovertemplate": "variable=yearly_upper<br>index=%{x}<br>value=%{y}<extra></extra>",
         "legendgroup": "yearly_upper",
         "line": {
          "color": "#FF6692",
          "dash": "solid"
         },
         "marker": {
          "symbol": "circle"
         },
         "mode": "lines",
         "name": "yearly_upper",
         "orientation": "v",
         "showlegend": true,
         "type": "scatter",
         "x": [
          3007,
          3008,
          3009,
          3010,
          3011,
          3012,
          3013,
          3014,
          3015,
          3016,
          3017,
          3018,
          3019,
          3020,
          3021,
          3022,
          3023,
          3024,
          3025,
          3026
         ],
         "xaxis": "x",
         "y": [
          743.8635867835411,
          628.4265831611184,
          548.4010017262308,
          504.63013024409247,
          497.1541330806601,
          525.1895088496295,
          587.1282913448144,
          680.5573914361757,
          802.2979561597875,
          948.4640961532276,
          1114.5398180503878,
          1295.4725085435407,
          1485.780865087368,
          1679.674767229097,
          1871.18424357446,
          2054.29442224196,
          2223.083164947435,
          2371.8579824943663,
          2495.2888156567296,
          2588.5333413748194
         ],
         "yaxis": "y"
        },
        {
         "hovertemplate": "variable=multiplicative_terms<br>index=%{x}<br>value=%{y}<extra></extra>",
         "legendgroup": "multiplicative_terms",
         "line": {
          "color": "#B6E880",
          "dash": "solid"
         },
         "marker": {
          "symbol": "circle"
         },
         "mode": "lines",
         "name": "multiplicative_terms",
         "orientation": "v",
         "showlegend": true,
         "type": "scatter",
         "x": [
          3007,
          3008,
          3009,
          3010,
          3011,
          3012,
          3013,
          3014,
          3015,
          3016,
          3017,
          3018,
          3019,
          3020,
          3021,
          3022,
          3023,
          3024,
          3025,
          3026
         ],
         "xaxis": "x",
         "y": [
          0,
          0,
          0,
          0,
          0,
          0,
          0,
          0,
          0,
          0,
          0,
          0,
          0,
          0,
          0,
          0,
          0,
          0,
          0,
          0
         ],
         "yaxis": "y"
        },
        {
         "hovertemplate": "variable=multiplicative_terms_lower<br>index=%{x}<br>value=%{y}<extra></extra>",
         "legendgroup": "multiplicative_terms_lower",
         "line": {
          "color": "#FF97FF",
          "dash": "solid"
         },
         "marker": {
          "symbol": "circle"
         },
         "mode": "lines",
         "name": "multiplicative_terms_lower",
         "orientation": "v",
         "showlegend": true,
         "type": "scatter",
         "x": [
          3007,
          3008,
          3009,
          3010,
          3011,
          3012,
          3013,
          3014,
          3015,
          3016,
          3017,
          3018,
          3019,
          3020,
          3021,
          3022,
          3023,
          3024,
          3025,
          3026
         ],
         "xaxis": "x",
         "y": [
          0,
          0,
          0,
          0,
          0,
          0,
          0,
          0,
          0,
          0,
          0,
          0,
          0,
          0,
          0,
          0,
          0,
          0,
          0,
          0
         ],
         "yaxis": "y"
        },
        {
         "hovertemplate": "variable=multiplicative_terms_upper<br>index=%{x}<br>value=%{y}<extra></extra>",
         "legendgroup": "multiplicative_terms_upper",
         "line": {
          "color": "#FECB52",
          "dash": "solid"
         },
         "marker": {
          "symbol": "circle"
         },
         "mode": "lines",
         "name": "multiplicative_terms_upper",
         "orientation": "v",
         "showlegend": true,
         "type": "scatter",
         "x": [
          3007,
          3008,
          3009,
          3010,
          3011,
          3012,
          3013,
          3014,
          3015,
          3016,
          3017,
          3018,
          3019,
          3020,
          3021,
          3022,
          3023,
          3024,
          3025,
          3026
         ],
         "xaxis": "x",
         "y": [
          0,
          0,
          0,
          0,
          0,
          0,
          0,
          0,
          0,
          0,
          0,
          0,
          0,
          0,
          0,
          0,
          0,
          0,
          0,
          0
         ],
         "yaxis": "y"
        },
        {
         "hovertemplate": "variable=yhat<br>index=%{x}<br>value=%{y}<extra></extra>",
         "legendgroup": "yhat",
         "line": {
          "color": "#636efa",
          "dash": "solid"
         },
         "marker": {
          "symbol": "circle"
         },
         "mode": "lines",
         "name": "yhat",
         "orientation": "v",
         "showlegend": true,
         "type": "scatter",
         "x": [
          3007,
          3008,
          3009,
          3010,
          3011,
          3012,
          3013,
          3014,
          3015,
          3016,
          3017,
          3018,
          3019,
          3020,
          3021,
          3022,
          3023,
          3024,
          3025,
          3026
         ],
         "xaxis": "x",
         "y": [
          517454.2601828737,
          517555.2071348743,
          470636.59823782067,
          470392.8939351021,
          470478.205144906,
          470836.8792802611,
          471458.29893713916,
          518905.6458235036,
          519243.7703437789,
          472551.35316814337,
          472517.49545888416,
          472791.2153563314,
          473312.1624724969,
          474065.5372489134,
          521610.9645116615,
          522010.45864585123,
          475340.6640729011,
          475289.50545925536,
          475505.7234994072,
          475929.6067847525
         ],
         "yaxis": "y"
        },
        {
         "hovertemplate": "variable=Close<br>index=%{x}<br>value=%{y}<extra></extra>",
         "legendgroup": "Close",
         "line": {
          "color": "#EF553B",
          "dash": "solid"
         },
         "marker": {
          "symbol": "circle"
         },
         "mode": "lines",
         "name": "Close",
         "orientation": "v",
         "showlegend": true,
         "type": "scatter",
         "x": [
          3007,
          3008,
          3009,
          3010,
          3011,
          3012,
          3013,
          3014,
          3015,
          3016,
          3017,
          3018,
          3019,
          3020,
          3021,
          3022,
          3023,
          3024,
          3025,
          3026
         ],
         "xaxis": "x",
         "y": [
          528921,
          527760,
          518714,
          516000,
          517002,
          519760,
          529000,
          527590,
          524271,
          519800,
          516435,
          519499,
          523260,
          522901,
          515815,
          505440,
          506200,
          497777,
          496800,
          499000
         ],
         "yaxis": "y"
        }
       ],
       "layout": {
        "legend": {
         "title": {
          "text": "variable"
         },
         "tracegroupgap": 0
        },
        "margin": {
         "t": 60
        },
        "template": {
         "data": {
          "bar": [
           {
            "error_x": {
             "color": "#2a3f5f"
            },
            "error_y": {
             "color": "#2a3f5f"
            },
            "marker": {
             "line": {
              "color": "#E5ECF6",
              "width": 0.5
             },
             "pattern": {
              "fillmode": "overlay",
              "size": 10,
              "solidity": 0.2
             }
            },
            "type": "bar"
           }
          ],
          "barpolar": [
           {
            "marker": {
             "line": {
              "color": "#E5ECF6",
              "width": 0.5
             },
             "pattern": {
              "fillmode": "overlay",
              "size": 10,
              "solidity": 0.2
             }
            },
            "type": "barpolar"
           }
          ],
          "carpet": [
           {
            "aaxis": {
             "endlinecolor": "#2a3f5f",
             "gridcolor": "white",
             "linecolor": "white",
             "minorgridcolor": "white",
             "startlinecolor": "#2a3f5f"
            },
            "baxis": {
             "endlinecolor": "#2a3f5f",
             "gridcolor": "white",
             "linecolor": "white",
             "minorgridcolor": "white",
             "startlinecolor": "#2a3f5f"
            },
            "type": "carpet"
           }
          ],
          "choropleth": [
           {
            "colorbar": {
             "outlinewidth": 0,
             "ticks": ""
            },
            "type": "choropleth"
           }
          ],
          "contour": [
           {
            "colorbar": {
             "outlinewidth": 0,
             "ticks": ""
            },
            "colorscale": [
             [
              0,
              "#0d0887"
             ],
             [
              0.1111111111111111,
              "#46039f"
             ],
             [
              0.2222222222222222,
              "#7201a8"
             ],
             [
              0.3333333333333333,
              "#9c179e"
             ],
             [
              0.4444444444444444,
              "#bd3786"
             ],
             [
              0.5555555555555556,
              "#d8576b"
             ],
             [
              0.6666666666666666,
              "#ed7953"
             ],
             [
              0.7777777777777778,
              "#fb9f3a"
             ],
             [
              0.8888888888888888,
              "#fdca26"
             ],
             [
              1,
              "#f0f921"
             ]
            ],
            "type": "contour"
           }
          ],
          "contourcarpet": [
           {
            "colorbar": {
             "outlinewidth": 0,
             "ticks": ""
            },
            "type": "contourcarpet"
           }
          ],
          "heatmap": [
           {
            "colorbar": {
             "outlinewidth": 0,
             "ticks": ""
            },
            "colorscale": [
             [
              0,
              "#0d0887"
             ],
             [
              0.1111111111111111,
              "#46039f"
             ],
             [
              0.2222222222222222,
              "#7201a8"
             ],
             [
              0.3333333333333333,
              "#9c179e"
             ],
             [
              0.4444444444444444,
              "#bd3786"
             ],
             [
              0.5555555555555556,
              "#d8576b"
             ],
             [
              0.6666666666666666,
              "#ed7953"
             ],
             [
              0.7777777777777778,
              "#fb9f3a"
             ],
             [
              0.8888888888888888,
              "#fdca26"
             ],
             [
              1,
              "#f0f921"
             ]
            ],
            "type": "heatmap"
           }
          ],
          "heatmapgl": [
           {
            "colorbar": {
             "outlinewidth": 0,
             "ticks": ""
            },
            "colorscale": [
             [
              0,
              "#0d0887"
             ],
             [
              0.1111111111111111,
              "#46039f"
             ],
             [
              0.2222222222222222,
              "#7201a8"
             ],
             [
              0.3333333333333333,
              "#9c179e"
             ],
             [
              0.4444444444444444,
              "#bd3786"
             ],
             [
              0.5555555555555556,
              "#d8576b"
             ],
             [
              0.6666666666666666,
              "#ed7953"
             ],
             [
              0.7777777777777778,
              "#fb9f3a"
             ],
             [
              0.8888888888888888,
              "#fdca26"
             ],
             [
              1,
              "#f0f921"
             ]
            ],
            "type": "heatmapgl"
           }
          ],
          "histogram": [
           {
            "marker": {
             "pattern": {
              "fillmode": "overlay",
              "size": 10,
              "solidity": 0.2
             }
            },
            "type": "histogram"
           }
          ],
          "histogram2d": [
           {
            "colorbar": {
             "outlinewidth": 0,
             "ticks": ""
            },
            "colorscale": [
             [
              0,
              "#0d0887"
             ],
             [
              0.1111111111111111,
              "#46039f"
             ],
             [
              0.2222222222222222,
              "#7201a8"
             ],
             [
              0.3333333333333333,
              "#9c179e"
             ],
             [
              0.4444444444444444,
              "#bd3786"
             ],
             [
              0.5555555555555556,
              "#d8576b"
             ],
             [
              0.6666666666666666,
              "#ed7953"
             ],
             [
              0.7777777777777778,
              "#fb9f3a"
             ],
             [
              0.8888888888888888,
              "#fdca26"
             ],
             [
              1,
              "#f0f921"
             ]
            ],
            "type": "histogram2d"
           }
          ],
          "histogram2dcontour": [
           {
            "colorbar": {
             "outlinewidth": 0,
             "ticks": ""
            },
            "colorscale": [
             [
              0,
              "#0d0887"
             ],
             [
              0.1111111111111111,
              "#46039f"
             ],
             [
              0.2222222222222222,
              "#7201a8"
             ],
             [
              0.3333333333333333,
              "#9c179e"
             ],
             [
              0.4444444444444444,
              "#bd3786"
             ],
             [
              0.5555555555555556,
              "#d8576b"
             ],
             [
              0.6666666666666666,
              "#ed7953"
             ],
             [
              0.7777777777777778,
              "#fb9f3a"
             ],
             [
              0.8888888888888888,
              "#fdca26"
             ],
             [
              1,
              "#f0f921"
             ]
            ],
            "type": "histogram2dcontour"
           }
          ],
          "mesh3d": [
           {
            "colorbar": {
             "outlinewidth": 0,
             "ticks": ""
            },
            "type": "mesh3d"
           }
          ],
          "parcoords": [
           {
            "line": {
             "colorbar": {
              "outlinewidth": 0,
              "ticks": ""
             }
            },
            "type": "parcoords"
           }
          ],
          "pie": [
           {
            "automargin": true,
            "type": "pie"
           }
          ],
          "scatter": [
           {
            "fillpattern": {
             "fillmode": "overlay",
             "size": 10,
             "solidity": 0.2
            },
            "type": "scatter"
           }
          ],
          "scatter3d": [
           {
            "line": {
             "colorbar": {
              "outlinewidth": 0,
              "ticks": ""
             }
            },
            "marker": {
             "colorbar": {
              "outlinewidth": 0,
              "ticks": ""
             }
            },
            "type": "scatter3d"
           }
          ],
          "scattercarpet": [
           {
            "marker": {
             "colorbar": {
              "outlinewidth": 0,
              "ticks": ""
             }
            },
            "type": "scattercarpet"
           }
          ],
          "scattergeo": [
           {
            "marker": {
             "colorbar": {
              "outlinewidth": 0,
              "ticks": ""
             }
            },
            "type": "scattergeo"
           }
          ],
          "scattergl": [
           {
            "marker": {
             "colorbar": {
              "outlinewidth": 0,
              "ticks": ""
             }
            },
            "type": "scattergl"
           }
          ],
          "scattermapbox": [
           {
            "marker": {
             "colorbar": {
              "outlinewidth": 0,
              "ticks": ""
             }
            },
            "type": "scattermapbox"
           }
          ],
          "scatterpolar": [
           {
            "marker": {
             "colorbar": {
              "outlinewidth": 0,
              "ticks": ""
             }
            },
            "type": "scatterpolar"
           }
          ],
          "scatterpolargl": [
           {
            "marker": {
             "colorbar": {
              "outlinewidth": 0,
              "ticks": ""
             }
            },
            "type": "scatterpolargl"
           }
          ],
          "scatterternary": [
           {
            "marker": {
             "colorbar": {
              "outlinewidth": 0,
              "ticks": ""
             }
            },
            "type": "scatterternary"
           }
          ],
          "surface": [
           {
            "colorbar": {
             "outlinewidth": 0,
             "ticks": ""
            },
            "colorscale": [
             [
              0,
              "#0d0887"
             ],
             [
              0.1111111111111111,
              "#46039f"
             ],
             [
              0.2222222222222222,
              "#7201a8"
             ],
             [
              0.3333333333333333,
              "#9c179e"
             ],
             [
              0.4444444444444444,
              "#bd3786"
             ],
             [
              0.5555555555555556,
              "#d8576b"
             ],
             [
              0.6666666666666666,
              "#ed7953"
             ],
             [
              0.7777777777777778,
              "#fb9f3a"
             ],
             [
              0.8888888888888888,
              "#fdca26"
             ],
             [
              1,
              "#f0f921"
             ]
            ],
            "type": "surface"
           }
          ],
          "table": [
           {
            "cells": {
             "fill": {
              "color": "#EBF0F8"
             },
             "line": {
              "color": "white"
             }
            },
            "header": {
             "fill": {
              "color": "#C8D4E3"
             },
             "line": {
              "color": "white"
             }
            },
            "type": "table"
           }
          ]
         },
         "layout": {
          "annotationdefaults": {
           "arrowcolor": "#2a3f5f",
           "arrowhead": 0,
           "arrowwidth": 1
          },
          "autotypenumbers": "strict",
          "coloraxis": {
           "colorbar": {
            "outlinewidth": 0,
            "ticks": ""
           }
          },
          "colorscale": {
           "diverging": [
            [
             0,
             "#8e0152"
            ],
            [
             0.1,
             "#c51b7d"
            ],
            [
             0.2,
             "#de77ae"
            ],
            [
             0.3,
             "#f1b6da"
            ],
            [
             0.4,
             "#fde0ef"
            ],
            [
             0.5,
             "#f7f7f7"
            ],
            [
             0.6,
             "#e6f5d0"
            ],
            [
             0.7,
             "#b8e186"
            ],
            [
             0.8,
             "#7fbc41"
            ],
            [
             0.9,
             "#4d9221"
            ],
            [
             1,
             "#276419"
            ]
           ],
           "sequential": [
            [
             0,
             "#0d0887"
            ],
            [
             0.1111111111111111,
             "#46039f"
            ],
            [
             0.2222222222222222,
             "#7201a8"
            ],
            [
             0.3333333333333333,
             "#9c179e"
            ],
            [
             0.4444444444444444,
             "#bd3786"
            ],
            [
             0.5555555555555556,
             "#d8576b"
            ],
            [
             0.6666666666666666,
             "#ed7953"
            ],
            [
             0.7777777777777778,
             "#fb9f3a"
            ],
            [
             0.8888888888888888,
             "#fdca26"
            ],
            [
             1,
             "#f0f921"
            ]
           ],
           "sequentialminus": [
            [
             0,
             "#0d0887"
            ],
            [
             0.1111111111111111,
             "#46039f"
            ],
            [
             0.2222222222222222,
             "#7201a8"
            ],
            [
             0.3333333333333333,
             "#9c179e"
            ],
            [
             0.4444444444444444,
             "#bd3786"
            ],
            [
             0.5555555555555556,
             "#d8576b"
            ],
            [
             0.6666666666666666,
             "#ed7953"
            ],
            [
             0.7777777777777778,
             "#fb9f3a"
            ],
            [
             0.8888888888888888,
             "#fdca26"
            ],
            [
             1,
             "#f0f921"
            ]
           ]
          },
          "colorway": [
           "#636efa",
           "#EF553B",
           "#00cc96",
           "#ab63fa",
           "#FFA15A",
           "#19d3f3",
           "#FF6692",
           "#B6E880",
           "#FF97FF",
           "#FECB52"
          ],
          "font": {
           "color": "#2a3f5f"
          },
          "geo": {
           "bgcolor": "white",
           "lakecolor": "white",
           "landcolor": "#E5ECF6",
           "showlakes": true,
           "showland": true,
           "subunitcolor": "white"
          },
          "hoverlabel": {
           "align": "left"
          },
          "hovermode": "closest",
          "mapbox": {
           "style": "light"
          },
          "paper_bgcolor": "white",
          "plot_bgcolor": "#E5ECF6",
          "polar": {
           "angularaxis": {
            "gridcolor": "white",
            "linecolor": "white",
            "ticks": ""
           },
           "bgcolor": "#E5ECF6",
           "radialaxis": {
            "gridcolor": "white",
            "linecolor": "white",
            "ticks": ""
           }
          },
          "scene": {
           "xaxis": {
            "backgroundcolor": "#E5ECF6",
            "gridcolor": "white",
            "gridwidth": 2,
            "linecolor": "white",
            "showbackground": true,
            "ticks": "",
            "zerolinecolor": "white"
           },
           "yaxis": {
            "backgroundcolor": "#E5ECF6",
            "gridcolor": "white",
            "gridwidth": 2,
            "linecolor": "white",
            "showbackground": true,
            "ticks": "",
            "zerolinecolor": "white"
           },
           "zaxis": {
            "backgroundcolor": "#E5ECF6",
            "gridcolor": "white",
            "gridwidth": 2,
            "linecolor": "white",
            "showbackground": true,
            "ticks": "",
            "zerolinecolor": "white"
           }
          },
          "shapedefaults": {
           "line": {
            "color": "#2a3f5f"
           }
          },
          "ternary": {
           "aaxis": {
            "gridcolor": "white",
            "linecolor": "white",
            "ticks": ""
           },
           "baxis": {
            "gridcolor": "white",
            "linecolor": "white",
            "ticks": ""
           },
           "bgcolor": "#E5ECF6",
           "caxis": {
            "gridcolor": "white",
            "linecolor": "white",
            "ticks": ""
           }
          },
          "title": {
           "x": 0.05
          },
          "xaxis": {
           "automargin": true,
           "gridcolor": "white",
           "linecolor": "white",
           "ticks": "",
           "title": {
            "standoff": 15
           },
           "zerolinecolor": "white",
           "zerolinewidth": 2
          },
          "yaxis": {
           "automargin": true,
           "gridcolor": "white",
           "linecolor": "white",
           "ticks": "",
           "title": {
            "standoff": 15
           },
           "zerolinecolor": "white",
           "zerolinewidth": 2
          }
         }
        },
        "xaxis": {
         "anchor": "y",
         "domain": [
          0,
          1
         ],
         "title": {
          "text": "index"
         }
        },
        "yaxis": {
         "anchor": "x",
         "domain": [
          0,
          1
         ],
         "title": {
          "text": "value"
         }
        }
       }
      },
      "text/html": [
       "<div>                            <div id=\"ccb34d77-52ca-483e-bfb2-c9a2343a8250\" class=\"plotly-graph-div\" style=\"height:525px; width:100%;\"></div>            <script type=\"text/javascript\">                require([\"plotly\"], function(Plotly) {                    window.PLOTLYENV=window.PLOTLYENV || {};                                    if (document.getElementById(\"ccb34d77-52ca-483e-bfb2-c9a2343a8250\")) {                    Plotly.newPlot(                        \"ccb34d77-52ca-483e-bfb2-c9a2343a8250\",                        [{\"hovertemplate\":\"variable=trend<br>index=%{x}<br>value=%{y}<extra></extra>\",\"legendgroup\":\"trend\",\"line\":{\"color\":\"#636efa\",\"dash\":\"solid\"},\"marker\":{\"symbol\":\"circle\"},\"mode\":\"lines\",\"name\":\"trend\",\"orientation\":\"v\",\"showlegend\":true,\"x\":[3007,3008,3009,3010,3011,3012,3013,3014,3015,3016,3017,3018,3019,3020,3021,3022,3023,3024,3025,3026],\"xaxis\":\"x\",\"y\":[753449.6969448157,753666.0814928103,753882.466040805,754098.8505887996,754315.2351367944,754531.6196847891,754748.0042327836,754964.3887807783,755180.773328773,755397.1578767676,755613.5424247623,755829.9269727569,756046.3115207516,756262.6960687464,756479.0806167411,756695.4651647357,756911.8497127304,757128.234260725,757344.6188087196,757561.0033567142],\"yaxis\":\"y\",\"type\":\"scatter\"},{\"hovertemplate\":\"variable=yhat_lower<br>index=%{x}<br>value=%{y}<extra></extra>\",\"legendgroup\":\"yhat_lower\",\"line\":{\"color\":\"#EF553B\",\"dash\":\"solid\"},\"marker\":{\"symbol\":\"circle\"},\"mode\":\"lines\",\"name\":\"yhat_lower\",\"orientation\":\"v\",\"showlegend\":true,\"x\":[3007,3008,3009,3010,3011,3012,3013,3014,3015,3016,3017,3018,3019,3020,3021,3022,3023,3024,3025,3026],\"xaxis\":\"x\",\"y\":[464430.2312386283,457790.2542277363,418346.8345808205,414705.94954633474,417446.776348488,413308.04027662374,412587.23058978614,467336.66332333366,455631.91783653456,412772.95654033753,416888.3010590461,408770.7210894647,424114.63877921645,424077.9263598403,472108.5842239541,469209.78399640415,425035.17468834354,423317.94202514936,429015.9743255113,424800.75870607805],\"yaxis\":\"y\",\"type\":\"scatter\"},{\"hovertemplate\":\"variable=yhat_upper<br>index=%{x}<br>value=%{y}<extra></extra>\",\"legendgroup\":\"yhat_upper\",\"line\":{\"color\":\"#00cc96\",\"dash\":\"solid\"},\"marker\":{\"symbol\":\"circle\"},\"mode\":\"lines\",\"name\":\"yhat_upper\",\"orientation\":\"v\",\"showlegend\":true,\"x\":[3007,3008,3009,3010,3011,3012,3013,3014,3015,3016,3017,3018,3019,3020,3021,3022,3023,3024,3025,3026],\"xaxis\":\"x\",\"y\":[569882.3098369573,570460.4453792624,521568.1756444013,531549.2304426854,526426.1544507949,535445.4553759061,533492.9325055813,575612.2322637003,575421.1927881812,524872.5377361547,531597.1653059745,521891.0369826448,527386.8487936191,533453.1491766552,577889.555259383,573830.6006650083,522758.952753091,548240.7756808107,532483.016555759,536634.6964871036],\"yaxis\":\"y\",\"type\":\"scatter\"},{\"hovertemplate\":\"variable=trend_lower<br>index=%{x}<br>value=%{y}<extra></extra>\",\"legendgroup\":\"trend_lower\",\"line\":{\"color\":\"#ab63fa\",\"dash\":\"solid\"},\"marker\":{\"symbol\":\"circle\"},\"mode\":\"lines\",\"name\":\"trend_lower\",\"orientation\":\"v\",\"showlegend\":true,\"x\":[3007,3008,3009,3010,3011,3012,3013,3014,3015,3016,3017,3018,3019,3020,3021,3022,3023,3024,3025,3026],\"xaxis\":\"x\",\"y\":[753424.0360723406,753599.4394993666,753774.0020161648,753948.5645329631,754123.1270497614,754297.6895665597,754472.252083358,754625.6496643091,754711.6967000077,754797.7437357063,754883.7907714047,754969.8378071034,755055.884842802,755141.9318785007,755227.9789141992,755314.0259498978,755400.0729855964,755486.120021295,755572.1670569937,755658.2140926922],\"yaxis\":\"y\",\"type\":\"scatter\"},{\"hovertemplate\":\"variable=trend_upper<br>index=%{x}<br>value=%{y}<extra></extra>\",\"legendgroup\":\"trend_upper\",\"line\":{\"color\":\"#FFA15A\",\"dash\":\"solid\"},\"marker\":{\"symbol\":\"circle\"},\"mode\":\"lines\",\"name\":\"trend_upper\",\"orientation\":\"v\",\"showlegend\":true,\"x\":[3007,3008,3009,3010,3011,3012,3013,3014,3015,3016,3017,3018,3019,3020,3021,3022,3023,3024,3025,3026],\"xaxis\":\"x\",\"y\":[753574.8741477763,753919.062895596,754263.2516434157,754607.4403912354,754968.4178186773,755349.2704756144,755730.1231325517,756110.9757894888,756491.8284464261,756872.6811033633,757253.5337603006,757634.3864172377,758015.239074175,758396.0917311127,758776.9443880498,759157.7970449871,759538.6497019242,759919.5023588615,760332.0421558229,760808.4120127726],\"yaxis\":\"y\",\"type\":\"scatter\"},{\"hovertemplate\":\"variable=additive_terms<br>index=%{x}<br>value=%{y}<extra></extra>\",\"legendgroup\":\"additive_terms\",\"line\":{\"color\":\"#19d3f3\",\"dash\":\"solid\"},\"marker\":{\"symbol\":\"circle\"},\"mode\":\"lines\",\"name\":\"additive_terms\",\"orientation\":\"v\",\"showlegend\":true,\"x\":[3007,3008,3009,3010,3011,3012,3013,3014,3015,3016,3017,3018,3019,3020,3021,3022,3023,3024,3025,3026],\"xaxis\":\"x\",\"y\":[-235995.43676194196,-236110.87435793597,-283245.8678029843,-283705.9566536975,-283837.0299918884,-283694.740404528,-283289.7052956444,-236058.74295727466,-235937.0029849941,-282845.8047086242,-283096.0469658781,-283038.7116164255,-282734.14904825465,-282197.158819833,-234868.1161050796,-234685.00651888445,-281571.18563982926,-281838.7288014696,-281838.8953093124,-281631.39657196164],\"yaxis\":\"y\",\"type\":\"scatter\"},{\"hovertemplate\":\"variable=additive_terms_lower<br>index=%{x}<br>value=%{y}<extra></extra>\",\"legendgroup\":\"additive_terms_lower\",\"line\":{\"color\":\"#FF6692\",\"dash\":\"solid\"},\"marker\":{\"symbol\":\"circle\"},\"mode\":\"lines\",\"name\":\"additive_terms_lower\",\"orientation\":\"v\",\"showlegend\":true,\"x\":[3007,3008,3009,3010,3011,3012,3013,3014,3015,3016,3017,3018,3019,3020,3021,3022,3023,3024,3025,3026],\"xaxis\":\"x\",\"y\":[-235995.43676194196,-236110.87435793597,-283245.8678029843,-283705.9566536975,-283837.0299918884,-283694.740404528,-283289.7052956444,-236058.74295727466,-235937.0029849941,-282845.8047086242,-283096.0469658781,-283038.7116164255,-282734.14904825465,-282197.158819833,-234868.1161050796,-234685.00651888445,-281571.18563982926,-281838.7288014696,-281838.8953093124,-281631.39657196164],\"yaxis\":\"y\",\"type\":\"scatter\"},{\"hovertemplate\":\"variable=additive_terms_upper<br>index=%{x}<br>value=%{y}<extra></extra>\",\"legendgroup\":\"additive_terms_upper\",\"line\":{\"color\":\"#B6E880\",\"dash\":\"solid\"},\"marker\":{\"symbol\":\"circle\"},\"mode\":\"lines\",\"name\":\"additive_terms_upper\",\"orientation\":\"v\",\"showlegend\":true,\"x\":[3007,3008,3009,3010,3011,3012,3013,3014,3015,3016,3017,3018,3019,3020,3021,3022,3023,3024,3025,3026],\"xaxis\":\"x\",\"y\":[-235995.43676194196,-236110.87435793597,-283245.8678029843,-283705.9566536975,-283837.0299918884,-283694.740404528,-283289.7052956444,-236058.74295727466,-235937.0029849941,-282845.8047086242,-283096.0469658781,-283038.7116164255,-282734.14904825465,-282197.158819833,-234868.1161050796,-234685.00651888445,-281571.18563982926,-281838.7288014696,-281838.8953093124,-281631.39657196164],\"yaxis\":\"y\",\"type\":\"scatter\"},{\"hovertemplate\":\"variable=daily<br>index=%{x}<br>value=%{y}<extra></extra>\",\"legendgroup\":\"daily\",\"line\":{\"color\":\"#FF97FF\",\"dash\":\"solid\"},\"marker\":{\"symbol\":\"circle\"},\"mode\":\"lines\",\"name\":\"daily\",\"orientation\":\"v\",\"showlegend\":true,\"x\":[3007,3008,3009,3010,3011,3012,3013,3014,3015,3016,3017,3018,3019,3020,3021,3022,3023,3024,3025,3026],\"xaxis\":\"x\",\"y\":[-270559.20064340497,-270559.20064340497,-270559.20064340497,-270559.20064340497,-270559.20064340497,-270559.20064340497,-270559.20064340497,-270559.20064340497,-270559.20064340497,-270559.20064340497,-270559.20064340497,-270559.20064340497,-270559.20064340497,-270559.20064340497,-270559.20064340497,-270559.20064340497,-270559.20064340497,-270559.20064340497,-270559.20064340497,-270559.20064340497],\"yaxis\":\"y\",\"type\":\"scatter\"},{\"hovertemplate\":\"variable=daily_lower<br>index=%{x}<br>value=%{y}<extra></extra>\",\"legendgroup\":\"daily_lower\",\"line\":{\"color\":\"#FECB52\",\"dash\":\"solid\"},\"marker\":{\"symbol\":\"circle\"},\"mode\":\"lines\",\"name\":\"daily_lower\",\"orientation\":\"v\",\"showlegend\":true,\"x\":[3007,3008,3009,3010,3011,3012,3013,3014,3015,3016,3017,3018,3019,3020,3021,3022,3023,3024,3025,3026],\"xaxis\":\"x\",\"y\":[-270559.20064340497,-270559.20064340497,-270559.20064340497,-270559.20064340497,-270559.20064340497,-270559.20064340497,-270559.20064340497,-270559.20064340497,-270559.20064340497,-270559.20064340497,-270559.20064340497,-270559.20064340497,-270559.20064340497,-270559.20064340497,-270559.20064340497,-270559.20064340497,-270559.20064340497,-270559.20064340497,-270559.20064340497,-270559.20064340497],\"yaxis\":\"y\",\"type\":\"scatter\"},{\"hovertemplate\":\"variable=daily_upper<br>index=%{x}<br>value=%{y}<extra></extra>\",\"legendgroup\":\"daily_upper\",\"line\":{\"color\":\"#636efa\",\"dash\":\"solid\"},\"marker\":{\"symbol\":\"circle\"},\"mode\":\"lines\",\"name\":\"daily_upper\",\"orientation\":\"v\",\"showlegend\":true,\"x\":[3007,3008,3009,3010,3011,3012,3013,3014,3015,3016,3017,3018,3019,3020,3021,3022,3023,3024,3025,3026],\"xaxis\":\"x\",\"y\":[-270559.20064340497,-270559.20064340497,-270559.20064340497,-270559.20064340497,-270559.20064340497,-270559.20064340497,-270559.20064340497,-270559.20064340497,-270559.20064340497,-270559.20064340497,-270559.20064340497,-270559.20064340497,-270559.20064340497,-270559.20064340497,-270559.20064340497,-270559.20064340497,-270559.20064340497,-270559.20064340497,-270559.20064340497,-270559.20064340497],\"yaxis\":\"y\",\"type\":\"scatter\"},{\"hovertemplate\":\"variable=weekly<br>index=%{x}<br>value=%{y}<extra></extra>\",\"legendgroup\":\"weekly\",\"line\":{\"color\":\"#EF553B\",\"dash\":\"solid\"},\"marker\":{\"symbol\":\"circle\"},\"mode\":\"lines\",\"name\":\"weekly\",\"orientation\":\"v\",\"showlegend\":true,\"x\":[3007,3008,3009,3010,3011,3012,3013,3014,3015,3016,3017,3018,3019,3020,3021,3022,3023,3024,3025,3026],\"xaxis\":\"x\",\"y\":[33819.90029467946,33819.89970230787,-13235.068161305562,-13651.386140536633,-13774.983481564053,-13660.729269972622,-13317.632943584224,33819.90029469416,33819.89970225108,-13235.06816137247,-13651.386140523531,-13774.983481564092,-13660.729269937026,-13317.632943657141,33819.90029475096,33819.89970227856,-13235.0681613717,-13651.386140558961,-13774.983481564124,-13660.729269931477],\"yaxis\":\"y\",\"type\":\"scatter\"},{\"hovertemplate\":\"variable=weekly_lower<br>index=%{x}<br>value=%{y}<extra></extra>\",\"legendgroup\":\"weekly_lower\",\"line\":{\"color\":\"#00cc96\",\"dash\":\"solid\"},\"marker\":{\"symbol\":\"circle\"},\"mode\":\"lines\",\"name\":\"weekly_lower\",\"orientation\":\"v\",\"showlegend\":true,\"x\":[3007,3008,3009,3010,3011,3012,3013,3014,3015,3016,3017,3018,3019,3020,3021,3022,3023,3024,3025,3026],\"xaxis\":\"x\",\"y\":[33819.90029467946,33819.89970230787,-13235.068161305562,-13651.386140536633,-13774.983481564053,-13660.729269972622,-13317.632943584224,33819.90029469416,33819.89970225108,-13235.06816137247,-13651.386140523531,-13774.983481564092,-13660.729269937026,-13317.632943657141,33819.90029475096,33819.89970227856,-13235.0681613717,-13651.386140558961,-13774.983481564124,-13660.729269931477],\"yaxis\":\"y\",\"type\":\"scatter\"},{\"hovertemplate\":\"variable=weekly_upper<br>index=%{x}<br>value=%{y}<extra></extra>\",\"legendgroup\":\"weekly_upper\",\"line\":{\"color\":\"#ab63fa\",\"dash\":\"solid\"},\"marker\":{\"symbol\":\"circle\"},\"mode\":\"lines\",\"name\":\"weekly_upper\",\"orientation\":\"v\",\"showlegend\":true,\"x\":[3007,3008,3009,3010,3011,3012,3013,3014,3015,3016,3017,3018,3019,3020,3021,3022,3023,3024,3025,3026],\"xaxis\":\"x\",\"y\":[33819.90029467946,33819.89970230787,-13235.068161305562,-13651.386140536633,-13774.983481564053,-13660.729269972622,-13317.632943584224,33819.90029469416,33819.89970225108,-13235.06816137247,-13651.386140523531,-13774.983481564092,-13660.729269937026,-13317.632943657141,33819.90029475096,33819.89970227856,-13235.0681613717,-13651.386140558961,-13774.983481564124,-13660.729269931477],\"yaxis\":\"y\",\"type\":\"scatter\"},{\"hovertemplate\":\"variable=yearly<br>index=%{x}<br>value=%{y}<extra></extra>\",\"legendgroup\":\"yearly\",\"line\":{\"color\":\"#FFA15A\",\"dash\":\"solid\"},\"marker\":{\"symbol\":\"circle\"},\"mode\":\"lines\",\"name\":\"yearly\",\"orientation\":\"v\",\"showlegend\":true,\"x\":[3007,3008,3009,3010,3011,3012,3013,3014,3015,3016,3017,3018,3019,3020,3021,3022,3023,3024,3025,3026],\"xaxis\":\"x\",\"y\":[743.8635867835411,628.4265831611184,548.4010017262308,504.63013024409247,497.1541330806601,525.1895088496295,587.1282913448144,680.5573914361757,802.2979561597875,948.4640961532276,1114.5398180503878,1295.4725085435407,1485.780865087368,1679.674767229097,1871.18424357446,2054.29442224196,2223.083164947435,2371.8579824943663,2495.2888156567296,2588.5333413748194],\"yaxis\":\"y\",\"type\":\"scatter\"},{\"hovertemplate\":\"variable=yearly_lower<br>index=%{x}<br>value=%{y}<extra></extra>\",\"legendgroup\":\"yearly_lower\",\"line\":{\"color\":\"#19d3f3\",\"dash\":\"solid\"},\"marker\":{\"symbol\":\"circle\"},\"mode\":\"lines\",\"name\":\"yearly_lower\",\"orientation\":\"v\",\"showlegend\":true,\"x\":[3007,3008,3009,3010,3011,3012,3013,3014,3015,3016,3017,3018,3019,3020,3021,3022,3023,3024,3025,3026],\"xaxis\":\"x\",\"y\":[743.8635867835411,628.4265831611184,548.4010017262308,504.63013024409247,497.1541330806601,525.1895088496295,587.1282913448144,680.5573914361757,802.2979561597875,948.4640961532276,1114.5398180503878,1295.4725085435407,1485.780865087368,1679.674767229097,1871.18424357446,2054.29442224196,2223.083164947435,2371.8579824943663,2495.2888156567296,2588.5333413748194],\"yaxis\":\"y\",\"type\":\"scatter\"},{\"hovertemplate\":\"variable=yearly_upper<br>index=%{x}<br>value=%{y}<extra></extra>\",\"legendgroup\":\"yearly_upper\",\"line\":{\"color\":\"#FF6692\",\"dash\":\"solid\"},\"marker\":{\"symbol\":\"circle\"},\"mode\":\"lines\",\"name\":\"yearly_upper\",\"orientation\":\"v\",\"showlegend\":true,\"x\":[3007,3008,3009,3010,3011,3012,3013,3014,3015,3016,3017,3018,3019,3020,3021,3022,3023,3024,3025,3026],\"xaxis\":\"x\",\"y\":[743.8635867835411,628.4265831611184,548.4010017262308,504.63013024409247,497.1541330806601,525.1895088496295,587.1282913448144,680.5573914361757,802.2979561597875,948.4640961532276,1114.5398180503878,1295.4725085435407,1485.780865087368,1679.674767229097,1871.18424357446,2054.29442224196,2223.083164947435,2371.8579824943663,2495.2888156567296,2588.5333413748194],\"yaxis\":\"y\",\"type\":\"scatter\"},{\"hovertemplate\":\"variable=multiplicative_terms<br>index=%{x}<br>value=%{y}<extra></extra>\",\"legendgroup\":\"multiplicative_terms\",\"line\":{\"color\":\"#B6E880\",\"dash\":\"solid\"},\"marker\":{\"symbol\":\"circle\"},\"mode\":\"lines\",\"name\":\"multiplicative_terms\",\"orientation\":\"v\",\"showlegend\":true,\"x\":[3007,3008,3009,3010,3011,3012,3013,3014,3015,3016,3017,3018,3019,3020,3021,3022,3023,3024,3025,3026],\"xaxis\":\"x\",\"y\":[0.0,0.0,0.0,0.0,0.0,0.0,0.0,0.0,0.0,0.0,0.0,0.0,0.0,0.0,0.0,0.0,0.0,0.0,0.0,0.0],\"yaxis\":\"y\",\"type\":\"scatter\"},{\"hovertemplate\":\"variable=multiplicative_terms_lower<br>index=%{x}<br>value=%{y}<extra></extra>\",\"legendgroup\":\"multiplicative_terms_lower\",\"line\":{\"color\":\"#FF97FF\",\"dash\":\"solid\"},\"marker\":{\"symbol\":\"circle\"},\"mode\":\"lines\",\"name\":\"multiplicative_terms_lower\",\"orientation\":\"v\",\"showlegend\":true,\"x\":[3007,3008,3009,3010,3011,3012,3013,3014,3015,3016,3017,3018,3019,3020,3021,3022,3023,3024,3025,3026],\"xaxis\":\"x\",\"y\":[0.0,0.0,0.0,0.0,0.0,0.0,0.0,0.0,0.0,0.0,0.0,0.0,0.0,0.0,0.0,0.0,0.0,0.0,0.0,0.0],\"yaxis\":\"y\",\"type\":\"scatter\"},{\"hovertemplate\":\"variable=multiplicative_terms_upper<br>index=%{x}<br>value=%{y}<extra></extra>\",\"legendgroup\":\"multiplicative_terms_upper\",\"line\":{\"color\":\"#FECB52\",\"dash\":\"solid\"},\"marker\":{\"symbol\":\"circle\"},\"mode\":\"lines\",\"name\":\"multiplicative_terms_upper\",\"orientation\":\"v\",\"showlegend\":true,\"x\":[3007,3008,3009,3010,3011,3012,3013,3014,3015,3016,3017,3018,3019,3020,3021,3022,3023,3024,3025,3026],\"xaxis\":\"x\",\"y\":[0.0,0.0,0.0,0.0,0.0,0.0,0.0,0.0,0.0,0.0,0.0,0.0,0.0,0.0,0.0,0.0,0.0,0.0,0.0,0.0],\"yaxis\":\"y\",\"type\":\"scatter\"},{\"hovertemplate\":\"variable=yhat<br>index=%{x}<br>value=%{y}<extra></extra>\",\"legendgroup\":\"yhat\",\"line\":{\"color\":\"#636efa\",\"dash\":\"solid\"},\"marker\":{\"symbol\":\"circle\"},\"mode\":\"lines\",\"name\":\"yhat\",\"orientation\":\"v\",\"showlegend\":true,\"x\":[3007,3008,3009,3010,3011,3012,3013,3014,3015,3016,3017,3018,3019,3020,3021,3022,3023,3024,3025,3026],\"xaxis\":\"x\",\"y\":[517454.2601828737,517555.2071348743,470636.59823782067,470392.8939351021,470478.205144906,470836.8792802611,471458.29893713916,518905.6458235036,519243.7703437789,472551.35316814337,472517.49545888416,472791.2153563314,473312.1624724969,474065.5372489134,521610.9645116615,522010.45864585123,475340.6640729011,475289.50545925536,475505.7234994072,475929.6067847525],\"yaxis\":\"y\",\"type\":\"scatter\"},{\"hovertemplate\":\"variable=Close<br>index=%{x}<br>value=%{y}<extra></extra>\",\"legendgroup\":\"Close\",\"line\":{\"color\":\"#EF553B\",\"dash\":\"solid\"},\"marker\":{\"symbol\":\"circle\"},\"mode\":\"lines\",\"name\":\"Close\",\"orientation\":\"v\",\"showlegend\":true,\"x\":[3007,3008,3009,3010,3011,3012,3013,3014,3015,3016,3017,3018,3019,3020,3021,3022,3023,3024,3025,3026],\"xaxis\":\"x\",\"y\":[528921.0,527760.0,518714.0,516000.0,517002.0,519760.0,529000.0,527590.0,524271.0,519800.0,516435.0,519499.0,523260.0,522901.0,515815.0,505440.0,506200.0,497777.0,496800.0,499000.0],\"yaxis\":\"y\",\"type\":\"scatter\"}],                        {\"template\":{\"data\":{\"histogram2dcontour\":[{\"type\":\"histogram2dcontour\",\"colorbar\":{\"outlinewidth\":0,\"ticks\":\"\"},\"colorscale\":[[0.0,\"#0d0887\"],[0.1111111111111111,\"#46039f\"],[0.2222222222222222,\"#7201a8\"],[0.3333333333333333,\"#9c179e\"],[0.4444444444444444,\"#bd3786\"],[0.5555555555555556,\"#d8576b\"],[0.6666666666666666,\"#ed7953\"],[0.7777777777777778,\"#fb9f3a\"],[0.8888888888888888,\"#fdca26\"],[1.0,\"#f0f921\"]]}],\"choropleth\":[{\"type\":\"choropleth\",\"colorbar\":{\"outlinewidth\":0,\"ticks\":\"\"}}],\"histogram2d\":[{\"type\":\"histogram2d\",\"colorbar\":{\"outlinewidth\":0,\"ticks\":\"\"},\"colorscale\":[[0.0,\"#0d0887\"],[0.1111111111111111,\"#46039f\"],[0.2222222222222222,\"#7201a8\"],[0.3333333333333333,\"#9c179e\"],[0.4444444444444444,\"#bd3786\"],[0.5555555555555556,\"#d8576b\"],[0.6666666666666666,\"#ed7953\"],[0.7777777777777778,\"#fb9f3a\"],[0.8888888888888888,\"#fdca26\"],[1.0,\"#f0f921\"]]}],\"heatmap\":[{\"type\":\"heatmap\",\"colorbar\":{\"outlinewidth\":0,\"ticks\":\"\"},\"colorscale\":[[0.0,\"#0d0887\"],[0.1111111111111111,\"#46039f\"],[0.2222222222222222,\"#7201a8\"],[0.3333333333333333,\"#9c179e\"],[0.4444444444444444,\"#bd3786\"],[0.5555555555555556,\"#d8576b\"],[0.6666666666666666,\"#ed7953\"],[0.7777777777777778,\"#fb9f3a\"],[0.8888888888888888,\"#fdca26\"],[1.0,\"#f0f921\"]]}],\"heatmapgl\":[{\"type\":\"heatmapgl\",\"colorbar\":{\"outlinewidth\":0,\"ticks\":\"\"},\"colorscale\":[[0.0,\"#0d0887\"],[0.1111111111111111,\"#46039f\"],[0.2222222222222222,\"#7201a8\"],[0.3333333333333333,\"#9c179e\"],[0.4444444444444444,\"#bd3786\"],[0.5555555555555556,\"#d8576b\"],[0.6666666666666666,\"#ed7953\"],[0.7777777777777778,\"#fb9f3a\"],[0.8888888888888888,\"#fdca26\"],[1.0,\"#f0f921\"]]}],\"contourcarpet\":[{\"type\":\"contourcarpet\",\"colorbar\":{\"outlinewidth\":0,\"ticks\":\"\"}}],\"contour\":[{\"type\":\"contour\",\"colorbar\":{\"outlinewidth\":0,\"ticks\":\"\"},\"colorscale\":[[0.0,\"#0d0887\"],[0.1111111111111111,\"#46039f\"],[0.2222222222222222,\"#7201a8\"],[0.3333333333333333,\"#9c179e\"],[0.4444444444444444,\"#bd3786\"],[0.5555555555555556,\"#d8576b\"],[0.6666666666666666,\"#ed7953\"],[0.7777777777777778,\"#fb9f3a\"],[0.8888888888888888,\"#fdca26\"],[1.0,\"#f0f921\"]]}],\"surface\":[{\"type\":\"surface\",\"colorbar\":{\"outlinewidth\":0,\"ticks\":\"\"},\"colorscale\":[[0.0,\"#0d0887\"],[0.1111111111111111,\"#46039f\"],[0.2222222222222222,\"#7201a8\"],[0.3333333333333333,\"#9c179e\"],[0.4444444444444444,\"#bd3786\"],[0.5555555555555556,\"#d8576b\"],[0.6666666666666666,\"#ed7953\"],[0.7777777777777778,\"#fb9f3a\"],[0.8888888888888888,\"#fdca26\"],[1.0,\"#f0f921\"]]}],\"mesh3d\":[{\"type\":\"mesh3d\",\"colorbar\":{\"outlinewidth\":0,\"ticks\":\"\"}}],\"scatter\":[{\"fillpattern\":{\"fillmode\":\"overlay\",\"size\":10,\"solidity\":0.2},\"type\":\"scatter\"}],\"parcoords\":[{\"type\":\"parcoords\",\"line\":{\"colorbar\":{\"outlinewidth\":0,\"ticks\":\"\"}}}],\"scatterpolargl\":[{\"type\":\"scatterpolargl\",\"marker\":{\"colorbar\":{\"outlinewidth\":0,\"ticks\":\"\"}}}],\"bar\":[{\"error_x\":{\"color\":\"#2a3f5f\"},\"error_y\":{\"color\":\"#2a3f5f\"},\"marker\":{\"line\":{\"color\":\"#E5ECF6\",\"width\":0.5},\"pattern\":{\"fillmode\":\"overlay\",\"size\":10,\"solidity\":0.2}},\"type\":\"bar\"}],\"scattergeo\":[{\"type\":\"scattergeo\",\"marker\":{\"colorbar\":{\"outlinewidth\":0,\"ticks\":\"\"}}}],\"scatterpolar\":[{\"type\":\"scatterpolar\",\"marker\":{\"colorbar\":{\"outlinewidth\":0,\"ticks\":\"\"}}}],\"histogram\":[{\"marker\":{\"pattern\":{\"fillmode\":\"overlay\",\"size\":10,\"solidity\":0.2}},\"type\":\"histogram\"}],\"scattergl\":[{\"type\":\"scattergl\",\"marker\":{\"colorbar\":{\"outlinewidth\":0,\"ticks\":\"\"}}}],\"scatter3d\":[{\"type\":\"scatter3d\",\"line\":{\"colorbar\":{\"outlinewidth\":0,\"ticks\":\"\"}},\"marker\":{\"colorbar\":{\"outlinewidth\":0,\"ticks\":\"\"}}}],\"scattermapbox\":[{\"type\":\"scattermapbox\",\"marker\":{\"colorbar\":{\"outlinewidth\":0,\"ticks\":\"\"}}}],\"scatterternary\":[{\"type\":\"scatterternary\",\"marker\":{\"colorbar\":{\"outlinewidth\":0,\"ticks\":\"\"}}}],\"scattercarpet\":[{\"type\":\"scattercarpet\",\"marker\":{\"colorbar\":{\"outlinewidth\":0,\"ticks\":\"\"}}}],\"carpet\":[{\"aaxis\":{\"endlinecolor\":\"#2a3f5f\",\"gridcolor\":\"white\",\"linecolor\":\"white\",\"minorgridcolor\":\"white\",\"startlinecolor\":\"#2a3f5f\"},\"baxis\":{\"endlinecolor\":\"#2a3f5f\",\"gridcolor\":\"white\",\"linecolor\":\"white\",\"minorgridcolor\":\"white\",\"startlinecolor\":\"#2a3f5f\"},\"type\":\"carpet\"}],\"table\":[{\"cells\":{\"fill\":{\"color\":\"#EBF0F8\"},\"line\":{\"color\":\"white\"}},\"header\":{\"fill\":{\"color\":\"#C8D4E3\"},\"line\":{\"color\":\"white\"}},\"type\":\"table\"}],\"barpolar\":[{\"marker\":{\"line\":{\"color\":\"#E5ECF6\",\"width\":0.5},\"pattern\":{\"fillmode\":\"overlay\",\"size\":10,\"solidity\":0.2}},\"type\":\"barpolar\"}],\"pie\":[{\"automargin\":true,\"type\":\"pie\"}]},\"layout\":{\"autotypenumbers\":\"strict\",\"colorway\":[\"#636efa\",\"#EF553B\",\"#00cc96\",\"#ab63fa\",\"#FFA15A\",\"#19d3f3\",\"#FF6692\",\"#B6E880\",\"#FF97FF\",\"#FECB52\"],\"font\":{\"color\":\"#2a3f5f\"},\"hovermode\":\"closest\",\"hoverlabel\":{\"align\":\"left\"},\"paper_bgcolor\":\"white\",\"plot_bgcolor\":\"#E5ECF6\",\"polar\":{\"bgcolor\":\"#E5ECF6\",\"angularaxis\":{\"gridcolor\":\"white\",\"linecolor\":\"white\",\"ticks\":\"\"},\"radialaxis\":{\"gridcolor\":\"white\",\"linecolor\":\"white\",\"ticks\":\"\"}},\"ternary\":{\"bgcolor\":\"#E5ECF6\",\"aaxis\":{\"gridcolor\":\"white\",\"linecolor\":\"white\",\"ticks\":\"\"},\"baxis\":{\"gridcolor\":\"white\",\"linecolor\":\"white\",\"ticks\":\"\"},\"caxis\":{\"gridcolor\":\"white\",\"linecolor\":\"white\",\"ticks\":\"\"}},\"coloraxis\":{\"colorbar\":{\"outlinewidth\":0,\"ticks\":\"\"}},\"colorscale\":{\"sequential\":[[0.0,\"#0d0887\"],[0.1111111111111111,\"#46039f\"],[0.2222222222222222,\"#7201a8\"],[0.3333333333333333,\"#9c179e\"],[0.4444444444444444,\"#bd3786\"],[0.5555555555555556,\"#d8576b\"],[0.6666666666666666,\"#ed7953\"],[0.7777777777777778,\"#fb9f3a\"],[0.8888888888888888,\"#fdca26\"],[1.0,\"#f0f921\"]],\"sequentialminus\":[[0.0,\"#0d0887\"],[0.1111111111111111,\"#46039f\"],[0.2222222222222222,\"#7201a8\"],[0.3333333333333333,\"#9c179e\"],[0.4444444444444444,\"#bd3786\"],[0.5555555555555556,\"#d8576b\"],[0.6666666666666666,\"#ed7953\"],[0.7777777777777778,\"#fb9f3a\"],[0.8888888888888888,\"#fdca26\"],[1.0,\"#f0f921\"]],\"diverging\":[[0,\"#8e0152\"],[0.1,\"#c51b7d\"],[0.2,\"#de77ae\"],[0.3,\"#f1b6da\"],[0.4,\"#fde0ef\"],[0.5,\"#f7f7f7\"],[0.6,\"#e6f5d0\"],[0.7,\"#b8e186\"],[0.8,\"#7fbc41\"],[0.9,\"#4d9221\"],[1,\"#276419\"]]},\"xaxis\":{\"gridcolor\":\"white\",\"linecolor\":\"white\",\"ticks\":\"\",\"title\":{\"standoff\":15},\"zerolinecolor\":\"white\",\"automargin\":true,\"zerolinewidth\":2},\"yaxis\":{\"gridcolor\":\"white\",\"linecolor\":\"white\",\"ticks\":\"\",\"title\":{\"standoff\":15},\"zerolinecolor\":\"white\",\"automargin\":true,\"zerolinewidth\":2},\"scene\":{\"xaxis\":{\"backgroundcolor\":\"#E5ECF6\",\"gridcolor\":\"white\",\"linecolor\":\"white\",\"showbackground\":true,\"ticks\":\"\",\"zerolinecolor\":\"white\",\"gridwidth\":2},\"yaxis\":{\"backgroundcolor\":\"#E5ECF6\",\"gridcolor\":\"white\",\"linecolor\":\"white\",\"showbackground\":true,\"ticks\":\"\",\"zerolinecolor\":\"white\",\"gridwidth\":2},\"zaxis\":{\"backgroundcolor\":\"#E5ECF6\",\"gridcolor\":\"white\",\"linecolor\":\"white\",\"showbackground\":true,\"ticks\":\"\",\"zerolinecolor\":\"white\",\"gridwidth\":2}},\"shapedefaults\":{\"line\":{\"color\":\"#2a3f5f\"}},\"annotationdefaults\":{\"arrowcolor\":\"#2a3f5f\",\"arrowhead\":0,\"arrowwidth\":1},\"geo\":{\"bgcolor\":\"white\",\"landcolor\":\"#E5ECF6\",\"subunitcolor\":\"white\",\"showland\":true,\"showlakes\":true,\"lakecolor\":\"white\"},\"title\":{\"x\":0.05},\"mapbox\":{\"style\":\"light\"}}},\"xaxis\":{\"anchor\":\"y\",\"domain\":[0.0,1.0],\"title\":{\"text\":\"index\"}},\"yaxis\":{\"anchor\":\"x\",\"domain\":[0.0,1.0],\"title\":{\"text\":\"value\"}},\"legend\":{\"title\":{\"text\":\"variable\"},\"tracegroupgap\":0},\"margin\":{\"t\":60}},                        {\"responsive\": true}                    ).then(function(){\n",
       "                            \n",
       "var gd = document.getElementById('ccb34d77-52ca-483e-bfb2-c9a2343a8250');\n",
       "var x = new MutationObserver(function (mutations, observer) {{\n",
       "        var display = window.getComputedStyle(gd).display;\n",
       "        if (!display || display === 'none') {{\n",
       "            console.log([gd, 'removed!']);\n",
       "            Plotly.purge(gd);\n",
       "            observer.disconnect();\n",
       "        }}\n",
       "}});\n",
       "\n",
       "// Listen for the removal of the full notebook cells\n",
       "var notebookContainer = gd.closest('#notebook-container');\n",
       "if (notebookContainer) {{\n",
       "    x.observe(notebookContainer, {childList: true});\n",
       "}}\n",
       "\n",
       "// Listen for the clearing of the current output cell\n",
       "var outputEl = gd.closest('.output');\n",
       "if (outputEl) {{\n",
       "    x.observe(outputEl, {childList: true});\n",
       "}}\n",
       "\n",
       "                        })                };                });            </script>        </div>"
      ]
     },
     "metadata": {},
     "output_type": "display_data"
    }
   ],
   "source": [
    "fig = px.line(result, y=result.columns[1:len(result.columns)], x=result.index)\n",
    "fig.show()"
   ]
  },
  {
   "cell_type": "code",
   "execution_count": 171,
   "metadata": {},
   "outputs": [],
   "source": [
    "result.rename(columns = {'yhat':'pred', 'Close':'y'}, inplace = True)"
   ]
  },
  {
   "cell_type": "code",
   "execution_count": 172,
   "metadata": {},
   "outputs": [
    {
     "data": {
      "text/html": [
       "<div>\n",
       "<style scoped>\n",
       "    .dataframe tbody tr th:only-of-type {\n",
       "        vertical-align: middle;\n",
       "    }\n",
       "\n",
       "    .dataframe tbody tr th {\n",
       "        vertical-align: top;\n",
       "    }\n",
       "\n",
       "    .dataframe thead th {\n",
       "        text-align: right;\n",
       "    }\n",
       "</style>\n",
       "<table border=\"1\" class=\"dataframe\">\n",
       "  <thead>\n",
       "    <tr style=\"text-align: right;\">\n",
       "      <th></th>\n",
       "      <th>Results</th>\n",
       "    </tr>\n",
       "  </thead>\n",
       "  <tbody>\n",
       "    <tr>\n",
       "      <th>MSE</th>\n",
       "      <td>1328553934.85</td>\n",
       "    </tr>\n",
       "    <tr>\n",
       "      <th>RMSE</th>\n",
       "      <td>36449.33</td>\n",
       "    </tr>\n",
       "    <tr>\n",
       "      <th>MAE</th>\n",
       "      <td>31939.57</td>\n",
       "    </tr>\n",
       "    <tr>\n",
       "      <th>MAPE</th>\n",
       "      <td>0.06</td>\n",
       "    </tr>\n",
       "    <tr>\n",
       "      <th>RSQUARED</th>\n",
       "      <td>-12.17</td>\n",
       "    </tr>\n",
       "  </tbody>\n",
       "</table>\n",
       "</div>"
      ],
      "text/plain": [
       "                Results\n",
       "MSE       1328553934.85\n",
       "RMSE           36449.33\n",
       "MAE            31939.57\n",
       "MAPE               0.06\n",
       "RSQUARED         -12.17"
      ]
     },
     "execution_count": 172,
     "metadata": {},
     "output_type": "execute_result"
    }
   ],
   "source": [
    "MAE = mean_absolute_error(result['y'], result['pred'])\n",
    "RSQUARED = r2_score(result['y'], result['pred'])\n",
    "MAPE = mean_absolute_percentage_error(result['y'], result['pred'])\n",
    "MSE = mean_squared_error(result['y'], result['pred'])\n",
    "RMSE = math.sqrt(MSE)\n",
    "COLUMN_NAMES = [\"MSE\", \"RMSE\", \"MAE\", \"MAPE\", \"RSQUARED\"]\n",
    "values = np.array([f'{MSE:.2f}', f'{RMSE:.2f}', f'{MAE:.2f}', f'{MAPE:.2f}', f'{RSQUARED:.2f}'])\n",
    "\n",
    "df = pd.DataFrame(values, columns=['Results'], index=COLUMN_NAMES)\n",
    "df"
   ]
  }
 ],
 "metadata": {
  "kernelspec": {
   "display_name": "Python 3",
   "language": "python",
   "name": "python3"
  },
  "language_info": {
   "codemirror_mode": {
    "name": "ipython",
    "version": 3
   },
   "file_extension": ".py",
   "mimetype": "text/x-python",
   "name": "python",
   "nbconvert_exporter": "python",
   "pygments_lexer": "ipython3",
   "version": "3.7.4"
  }
 },
 "nbformat": 4,
 "nbformat_minor": 2
}
